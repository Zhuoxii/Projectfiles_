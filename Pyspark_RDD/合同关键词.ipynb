{
  "nbformat": 4,
  "nbformat_minor": 0,
  "metadata": {
    "colab": {
      "name": "lab03_RE-510089546-Zhuoxi-Kuang.ipynb",
      "provenance": [],
      "collapsed_sections": [],
      "toc_visible": true
    },
    "kernelspec": {
      "name": "python3",
      "display_name": "Python 3"
    },
    "language_info": {
      "name": "python"
    }
  },
  "cells": [
    {
      "cell_type": "code",
      "execution_count": 4,
      "metadata": {
        "colab": {
          "base_uri": "https://localhost:8080/"
        },
        "id": "Q5k_VkMgMnlr",
        "outputId": "383188a7-94cf-45d3-d02a-95e5f95657b2"
      },
      "outputs": [
        {
          "output_type": "stream",
          "name": "stdout",
          "text": [
            "Collecting pyspark\n",
            "  Downloading pyspark-3.2.1.tar.gz (281.4 MB)\n",
            "\u001b[K     |████████████████████████████████| 281.4 MB 32 kB/s \n",
            "\u001b[?25hCollecting py4j==0.10.9.3\n",
            "  Downloading py4j-0.10.9.3-py2.py3-none-any.whl (198 kB)\n",
            "\u001b[K     |████████████████████████████████| 198 kB 46.4 MB/s \n",
            "\u001b[?25hBuilding wheels for collected packages: pyspark\n",
            "  Building wheel for pyspark (setup.py) ... \u001b[?25l\u001b[?25hdone\n",
            "  Created wheel for pyspark: filename=pyspark-3.2.1-py2.py3-none-any.whl size=281853642 sha256=25a5166da8bbec7bee143878ce4d179fcd56a86504b81f7bbcdd130ab4e87210\n",
            "  Stored in directory: /root/.cache/pip/wheels/9f/f5/07/7cd8017084dce4e93e84e92efd1e1d5334db05f2e83bcef74f\n",
            "Successfully built pyspark\n",
            "Installing collected packages: py4j, pyspark\n",
            "Successfully installed py4j-0.10.9.3 pyspark-3.2.1\n"
          ]
        }
      ],
      "source": [
        "!pip install pyspark"
      ]
    },
    {
      "cell_type": "code",
      "source": [
        "from google.colab import drive\n",
        "drive.mount('/content/drive')"
      ],
      "metadata": {
        "colab": {
          "base_uri": "https://localhost:8080/"
        },
        "id": "WFhiLgtmPI4B",
        "outputId": "fccc3691-3e15-4a80-d9b9-ac6b6237ebc2"
      },
      "execution_count": 1,
      "outputs": [
        {
          "output_type": "stream",
          "name": "stdout",
          "text": [
            "Mounted at /content/drive\n"
          ]
        }
      ]
    },
    {
      "cell_type": "code",
      "source": [
        "from pyspark import SparkConf, SparkContext\n",
        "from pyspark.sql import SparkSession\n",
        "\n",
        "spark = SparkSession.builder.appName(\"COMP5349 Aassignmen1\").getOrCreate()"
      ],
      "metadata": {
        "id": "jG2_yaVVO39h"
      },
      "execution_count": 5,
      "outputs": []
    },
    {
      "cell_type": "code",
      "source": [
        "import string\n",
        "import nltk\n",
        "import re\n",
        "nltk.download('punkt')\n",
        "nltk.download('stopwords')\n",
        "from nltk.tokenize import word_tokenize\n",
        "from nltk.corpus import stopwords\n",
        "stopwords = stopwords.words('english')\n",
        "punctuation = string.punctuation"
      ],
      "metadata": {
        "colab": {
          "base_uri": "https://localhost:8080/"
        },
        "outputId": "0dc650ad-8198-4afa-ef04-77bc92c3af8b",
        "id": "qU-WHCEYsEI7"
      },
      "execution_count": 6,
      "outputs": [
        {
          "output_type": "stream",
          "name": "stdout",
          "text": [
            "[nltk_data] Downloading package punkt to /root/nltk_data...\n",
            "[nltk_data]   Package punkt is already up-to-date!\n",
            "[nltk_data] Downloading package stopwords to /root/nltk_data...\n",
            "[nltk_data]   Package stopwords is already up-to-date!\n"
          ]
        }
      ]
    },
    {
      "cell_type": "markdown",
      "source": [
        "# Method 1"
      ],
      "metadata": {
        "id": "_1OK4GT_AEJ1"
      }
    },
    {
      "cell_type": "markdown",
      "source": [
        "## Governing_law\n"
      ],
      "metadata": {
        "id": "0x2Y73ewTBnt"
      }
    },
    {
      "cell_type": "markdown",
      "source": [
        "###  1-Map the original RDD to the tuple like [(filename1, clause1),(filename2, clause1)]"
      ],
      "metadata": {
        "id": "JFarPOPsUoZw"
      }
    },
    {
      "cell_type": "code",
      "source": [
        "# The file is in the comp5349 working directory.\n",
        "Governing_law = spark.read.csv('/content/drive/MyDrive/comp5349/Governing_Law.csv', header = True).rdd\n",
        "Governing_law.take(5)"
      ],
      "metadata": {
        "colab": {
          "base_uri": "https://localhost:8080/"
        },
        "id": "6yfHwU6fPBY1",
        "outputId": "3fb110ae-12ae-4e29-c251-ae32620b90eb"
      },
      "execution_count": 7,
      "outputs": [
        {
          "output_type": "execute_result",
          "data": {
            "text/plain": [
              "[Row(Filename='CybergyHoldingsInc_20140520_10-Q_EX-10.27_8605784_EX-10.27_Affiliate Agreement.pdf', Governing Law='This Agreement is accepted by Company in the State of Nevada and shall be governed by and construed in accordance with the laws thereof, which laws shall prevail in the event of any conflict. (Page 13)'),\n",
              " Row(Filename='EuromediaHoldingsCorp_20070215_10SB12G_EX-10.B(01)_525118_EX-10.B(01)_Content License Agreement.pdf', Governing Law='This Agreement shall be governed by laws of the Province of Ontario and the federal laws of Canada applicable therein. (Page 9)  This Agreement is subject to all laws, regulations, license conditions and decisions of the Canadian Radio-television and Telecommunications Commission (‚ÄúCRTC‚Äù) municipal, provincial and federal governments or other authorities which are applicable to Rogers and/or Licensor, and which are now in force or hereafter adopted (‚ÄúApplicable Law‚Äù). (Page 11)'),\n",
              " Row(Filename='FulucaiProductionsLtd_20131223_10-Q_EX-10.9_8368347_EX-10.9_Content License Agreement.pdf', Governing Law='All questions with respect to the construction of this Agreement, and the rights and liabilities of the Parties hereto, shall be governed by the laws of the State of Florida. (Page 6)'),\n",
              " Row(Filename='GopageCorp_20140221_10-K_EX-10.1_8432966_EX-10.1_Content License Agreement.pdf', Governing Law='This Agreement shall be governed by and construed in accordance with the internal laws of the State of Nevada without giving effect to any choice or conflict of law provision or rule. (Page 16)'),\n",
              " Row(Filename='IdeanomicsInc_20160330_10-K_EX-10.26_9512211_EX-10.26_Content License Agreement.pdf', Governing Law='This Agreement shall be governed by and construed in all respects in accordance with the laws of the State of New York, without giving effect to any conflicts of laws principles. (Page 13)')]"
            ]
          },
          "metadata": {},
          "execution_count": 7
        }
      ]
    },
    {
      "cell_type": "code",
      "source": [
        "# Firstly, map to this format(filename, clause)\n",
        "def row_to_tuple (row):\n",
        "  row_dict = row.asDict()\n",
        "  return (row_dict[\"Filename\"], row_dict[\"Governing Law\"])\n",
        "\n",
        "gov_rdd = Governing_law.map(row_to_tuple)"
      ],
      "metadata": {
        "id": "5F-RigNSi5jq"
      },
      "execution_count": 8,
      "outputs": []
    },
    {
      "cell_type": "code",
      "source": [
        "# Secondly, map to this format [(filename1, clause1), (filename2, clause2)], cause one file many contains more than one clause.\n",
        "def method1_extract(record):\n",
        "  filename, docs = record[0], record[1]\n",
        "  doc = docs.lower() # convert lowercase\n",
        "  doc = re.sub(r'\\([Pp]age.*?\\)', \"|\", doc) \n",
        "#  doc = re.sub('\\([pP]age \\w*\\)', \"|\", doc) \n",
        "  sentence = doc.split(\"|\")\n",
        "  ls = [] \n",
        "  i = 1             \n",
        "  for sc in sentence:\n",
        "    if sc != '':               # remove empty value\n",
        "      filename_num = filename +  str(i)  \n",
        "      ls.append((filename_num, sc))\n",
        "      i += 1\n",
        "  return ls\n",
        "\n",
        "#  filter nan values and  spaces\n",
        "method1_gov_rdd1 = gov_rdd.filter(lambda x: x[1] != 'nan').flatMap(method1_extract).map(lambda x: (x[0],x[1].strip())) \n",
        "method1_gov_rdd1.take(5)"
      ],
      "metadata": {
        "id": "iihALn9IJne5",
        "colab": {
          "base_uri": "https://localhost:8080/"
        },
        "outputId": "da9f6d28-a0bb-4cb3-802f-3e730f4f2ad2"
      },
      "execution_count": 9,
      "outputs": [
        {
          "output_type": "execute_result",
          "data": {
            "text/plain": [
              "[('CybergyHoldingsInc_20140520_10-Q_EX-10.27_8605784_EX-10.27_Affiliate Agreement.pdf1',\n",
              "  'this agreement is accepted by company in the state of nevada and shall be governed by and construed in accordance with the laws thereof, which laws shall prevail in the event of any conflict.'),\n",
              " ('EuromediaHoldingsCorp_20070215_10SB12G_EX-10.B(01)_525118_EX-10.B(01)_Content License Agreement.pdf1',\n",
              "  'this agreement shall be governed by laws of the province of ontario and the federal laws of canada applicable therein.'),\n",
              " ('EuromediaHoldingsCorp_20070215_10SB12G_EX-10.B(01)_525118_EX-10.B(01)_Content License Agreement.pdf2',\n",
              "  'this agreement is subject to all laws, regulations, license conditions and decisions of the canadian radio-television and telecommunications commission (‚äúcrtc‚äù) municipal, provincial and federal governments or other authorities which are applicable to rogers and/or licensor, and which are now in force or hereafter adopted (‚äúapplicable law‚äù).'),\n",
              " ('FulucaiProductionsLtd_20131223_10-Q_EX-10.9_8368347_EX-10.9_Content License Agreement.pdf1',\n",
              "  'all questions with respect to the construction of this agreement, and the rights and liabilities of the parties hereto, shall be governed by the laws of the state of florida.'),\n",
              " ('GopageCorp_20140221_10-K_EX-10.1_8432966_EX-10.1_Content License Agreement.pdf1',\n",
              "  'this agreement shall be governed by and construed in accordance with the internal laws of the state of nevada without giving effect to any choice or conflict of law provision or rule.')]"
            ]
          },
          "metadata": {},
          "execution_count": 9
        }
      ]
    },
    {
      "cell_type": "markdown",
      "source": [
        "### 2-candidate Phrase Identification"
      ],
      "metadata": {
        "id": "BPzrI90PWeXg"
      }
    },
    {
      "cell_type": "markdown",
      "source": [
        "removing stopwords and punctuation, then generating candidate phrases."
      ],
      "metadata": {
        "id": "KvhsD4MnWouh"
      }
    },
    {
      "cell_type": "code",
      "source": [
        "# map to the format like (filename, list of candidate phrases)\n",
        "\n",
        "def method1_preprocessing(record):\n",
        "  docs = ''\n",
        "  for word in record[1]:\n",
        "    if word in punctuation:     # using \"|\" to replace the punctuation\n",
        "      docs += \"|\"\n",
        "    else:\n",
        "      docs += word\n",
        "\n",
        "  docs = re.sub(r'[^\\w\\s]','', docs)  # remove other punctuations which cannot be identified by the list of punctuation defined in the previous cell.\n",
        "\n",
        "  doc_word = docs.split(\" \")\n",
        "  for word in stopwords:\n",
        "      doc_word = [ \"|\" if word == w else w for w in doc_word]  # using \"|\" to replace the stopwords\n",
        "     \n",
        " \n",
        "  sentence = \" \".join(doc_word)  \n",
        "  sentence = sentence.split(\"|\")  \n",
        "  return (record[0],sentence)\n",
        "\n",
        "\n",
        "method1_gov_rdd2 = method1_gov_rdd1.map(method1_preprocessing)\n",
        "method1_gov_rdd2.take(1)"
      ],
      "metadata": {
        "id": "7kCQqKVFKQr1",
        "colab": {
          "base_uri": "https://localhost:8080/"
        },
        "outputId": "72d80a7d-b488-4bf4-d966-7f705abc3190"
      },
      "execution_count": 10,
      "outputs": [
        {
          "output_type": "execute_result",
          "data": {
            "text/plain": [
              "[('CybergyHoldingsInc_20140520_10-Q_EX-10.27_8605784_EX-10.27_Affiliate Agreement.pdf1',\n",
              "  ['',\n",
              "   ' agreement ',\n",
              "   ' accepted ',\n",
              "   ' company ',\n",
              "   ' ',\n",
              "   ' state ',\n",
              "   ' nevada ',\n",
              "   ' shall ',\n",
              "   ' governed ',\n",
              "   ' ',\n",
              "   ' construed ',\n",
              "   ' accordance ',\n",
              "   ' ',\n",
              "   ' laws thereof ',\n",
              "   ' laws shall prevail ',\n",
              "   ' ',\n",
              "   ' event ',\n",
              "   ' ',\n",
              "   ' conflict'])]"
            ]
          },
          "metadata": {},
          "execution_count": 10
        }
      ]
    },
    {
      "cell_type": "code",
      "source": [
        "# remove extra spaces\n",
        "# Map the candidate phrases to the list format, and each word is split by comma for each candidate phrase of each document\n",
        "def remove_space_list(record):\n",
        "  sentence = [word.strip() for word in record[1]]\n",
        "  ls = []\n",
        "  for i in sentence:\n",
        "    if i != '':\n",
        "      ls.append(i)\n",
        "\n",
        "  ls = [ word.split() for word in ls]\n",
        "  return (record[0], ls)\n",
        "\n",
        "method1_gov_rdd_list = method1_gov_rdd2.map(remove_space_list)\n",
        "method1_gov_rdd_list.take(1)"
      ],
      "metadata": {
        "id": "loo9XpsNBzCt",
        "colab": {
          "base_uri": "https://localhost:8080/"
        },
        "outputId": "3527d629-f2f7-4935-de4c-e33913b6fe54"
      },
      "execution_count": 11,
      "outputs": [
        {
          "output_type": "execute_result",
          "data": {
            "text/plain": [
              "[('CybergyHoldingsInc_20140520_10-Q_EX-10.27_8605784_EX-10.27_Affiliate Agreement.pdf1',\n",
              "  [['agreement'],\n",
              "   ['accepted'],\n",
              "   ['company'],\n",
              "   ['state'],\n",
              "   ['nevada'],\n",
              "   ['shall'],\n",
              "   ['governed'],\n",
              "   ['construed'],\n",
              "   ['accordance'],\n",
              "   ['laws', 'thereof'],\n",
              "   ['laws', 'shall', 'prevail'],\n",
              "   ['event'],\n",
              "   ['conflict']])]"
            ]
          },
          "metadata": {},
          "execution_count": 11
        }
      ]
    },
    {
      "cell_type": "markdown",
      "source": [
        "### 3- Word Score Calculation"
      ],
      "metadata": {
        "id": "fzAFjJHfYcn4"
      }
    },
    {
      "cell_type": "code",
      "source": [
        "# Generate the tuple like ((filename, single_word), candidate phrase,  fre(w), deg(w))) for each phrase of each document\n",
        "# the third number of each tuple is 1 which means frequency of each word for the one candidate phrase \n",
        "# and the fourth number is the length of candidate phrases since deg(w) = fre(w) + co-occurrence.\n",
        "# In detail, fre(w) is equal to 1, and co-occurrence equals the length(candidate_phrase)-1. In this way, deg(w) = length of candidate phrase.\n",
        "def ls_fre_deg(record):\n",
        "  res = []\n",
        "  for word_ls in record[1]:\n",
        "    for word in word_ls:\n",
        "      res.append(((record[0], word), word_ls, 1, len(word_ls)))\n",
        "  \n",
        "  return res\n",
        "\n",
        "method1_gov_rdd2 = method1_gov_rdd_list.flatMap(ls_fre_deg)\n",
        "method1_gov_rdd2.take(3)"
      ],
      "metadata": {
        "id": "xiFwKU-lV2KG",
        "colab": {
          "base_uri": "https://localhost:8080/"
        },
        "outputId": "e3b19a5d-a056-4bea-c305-53dab0d4bbe6"
      },
      "execution_count": 12,
      "outputs": [
        {
          "output_type": "execute_result",
          "data": {
            "text/plain": [
              "[(('CybergyHoldingsInc_20140520_10-Q_EX-10.27_8605784_EX-10.27_Affiliate Agreement.pdf1',\n",
              "   'agreement'),\n",
              "  ['agreement'],\n",
              "  1,\n",
              "  1),\n",
              " (('CybergyHoldingsInc_20140520_10-Q_EX-10.27_8605784_EX-10.27_Affiliate Agreement.pdf1',\n",
              "   'accepted'),\n",
              "  ['accepted'],\n",
              "  1,\n",
              "  1),\n",
              " (('CybergyHoldingsInc_20140520_10-Q_EX-10.27_8605784_EX-10.27_Affiliate Agreement.pdf1',\n",
              "   'company'),\n",
              "  ['company'],\n",
              "  1,\n",
              "  1)]"
            ]
          },
          "metadata": {},
          "execution_count": 12
        }
      ]
    },
    {
      "cell_type": "code",
      "source": [
        "# This RDD is for joining later\n",
        "method1_gov_rdd = method1_gov_rdd2.map(lambda x: (x[0], x[1]))\n",
        "method1_gov_rdd.take(3)"
      ],
      "metadata": {
        "colab": {
          "base_uri": "https://localhost:8080/"
        },
        "id": "LhLl9DjU9otJ",
        "outputId": "1118563d-d21a-4629-9e47-12b7e08388d3"
      },
      "execution_count": 13,
      "outputs": [
        {
          "output_type": "execute_result",
          "data": {
            "text/plain": [
              "[(('CybergyHoldingsInc_20140520_10-Q_EX-10.27_8605784_EX-10.27_Affiliate Agreement.pdf1',\n",
              "   'agreement'),\n",
              "  ['agreement']),\n",
              " (('CybergyHoldingsInc_20140520_10-Q_EX-10.27_8605784_EX-10.27_Affiliate Agreement.pdf1',\n",
              "   'accepted'),\n",
              "  ['accepted']),\n",
              " (('CybergyHoldingsInc_20140520_10-Q_EX-10.27_8605784_EX-10.27_Affiliate Agreement.pdf1',\n",
              "   'company'),\n",
              "  ['company'])]"
            ]
          },
          "metadata": {},
          "execution_count": 13
        }
      ]
    },
    {
      "cell_type": "markdown",
      "source": [
        "#### 3.1.Fre(w) calculation for each word"
      ],
      "metadata": {
        "id": "jJfULw1BYvf7"
      }
    },
    {
      "cell_type": "code",
      "source": [
        "method1_gov_fre = method1_gov_rdd2.map(lambda x: (x[0], x[2])).reduceByKey(lambda a,b: a+b).sortBy(lambda x: x[1], ascending = False)\n",
        "method1_gov_fre.take(5)"
      ],
      "metadata": {
        "id": "Er0EmxXlcCvH",
        "colab": {
          "base_uri": "https://localhost:8080/"
        },
        "outputId": "f8ccf3f7-9761-42af-ae36-b197822fa8c0"
      },
      "execution_count": 14,
      "outputs": [
        {
          "output_type": "execute_result",
          "data": {
            "text/plain": [
              "[(('EdietsComInc_20001030_10QSB_EX-10.4_2606646_EX-10.4_Co-Branding Agreement.pdf1',\n",
              "   'california'),\n",
              "  5),\n",
              " (('INTERNATIONALFASTFOODCORP_04_04_1997-EX-99-FRANCHISE AGREEMENT.PDF1',\n",
              "   'florida'),\n",
              "  5),\n",
              " (('SightLife Surgical, Inc. - STRATEGIC SALES & MARKETING AGREEMENT.PDF1',\n",
              "   'state'),\n",
              "  5),\n",
              " (('HealthcareIntegratedTechnologiesInc_20190812_8-K_EX-10.1_11776966_EX-10.1_Reseller Agreement.pdf1',\n",
              "   'shall'),\n",
              "  4),\n",
              " (('ElPolloLocoHoldingsInc_20200306_10-K_EX-10.16_12041700_EX-10.16_Development Agreement.pdf1',\n",
              "   'state'),\n",
              "  4)]"
            ]
          },
          "metadata": {},
          "execution_count": 14
        }
      ]
    },
    {
      "cell_type": "markdown",
      "source": [
        "#### 3.2.Deg(w) calculation for each word"
      ],
      "metadata": {
        "id": "y0l9SXjDY3C6"
      }
    },
    {
      "cell_type": "code",
      "source": [
        "method1_gov_deg = method1_gov_rdd2.map(lambda x: (x[0],  x[3])).reduceByKey(lambda a,b: a+b).sortBy(lambda x: x[1], ascending = False)\n",
        "method1_gov_deg.take(10)"
      ],
      "metadata": {
        "id": "OyLlnOafkkm-",
        "colab": {
          "base_uri": "https://localhost:8080/"
        },
        "outputId": "ed736f05-9474-430a-ea0e-45935220f002"
      },
      "execution_count": 15,
      "outputs": [
        {
          "output_type": "execute_result",
          "data": {
            "text/plain": [
              "[(('INTERNATIONALFASTFOODCORP_04_04_1997-EX-99-FRANCHISE AGREEMENT.PDF1',\n",
              "   'florida'),\n",
              "  23),\n",
              " (('JOINTCORP_09_19_2014-EX-10.15-FRANCHISE AGREEMENT.PDF1', 'act'), 23),\n",
              " (('JOINTCORP_09_19_2014-EX-10.15-FRANCHISE AGREEMENT.PDF1', 'usc'), 19),\n",
              " (('JOINTCORP_09_19_2014-EX-10.15-FRANCHISE AGREEMENT.PDF1', 'et'), 19),\n",
              " (('JOINTCORP_09_19_2014-EX-10.15-FRANCHISE AGREEMENT.PDF1', 'seq'), 19),\n",
              " (('HealthcareIntegratedTechnologiesInc_20190812_8-K_EX-10.1_11776966_EX-10.1_Reseller Agreement.pdf1',\n",
              "   'new'),\n",
              "  16),\n",
              " (('HealthcareIntegratedTechnologiesInc_20190812_8-K_EX-10.1_11776966_EX-10.1_Reseller Agreement.pdf1',\n",
              "   'york'),\n",
              "  16),\n",
              " (('AzulSa_20170303_F-1A_EX-10.3_9943903_EX-10.3_Maintenance Agreement2.pdf1',\n",
              "   'new'),\n",
              "  16),\n",
              " (('AzulSa_20170303_F-1A_EX-10.3_9943903_EX-10.3_Maintenance Agreement2.pdf1',\n",
              "   'york'),\n",
              "  16),\n",
              " (('AzulSa_20170303_F-1A_EX-10.3_9943903_EX-10.3_Maintenance Agreement1.pdf1',\n",
              "   'new'),\n",
              "  16)]"
            ]
          },
          "metadata": {},
          "execution_count": 15
        }
      ]
    },
    {
      "cell_type": "markdown",
      "source": [
        "#### 3.3.Ratio of fre(w) and deg(w) calculation for each word"
      ],
      "metadata": {
        "id": "XiGAEpH0Zqda"
      }
    },
    {
      "cell_type": "code",
      "source": [
        "method1_gov_score = method1_gov_fre.join(method1_gov_deg).map(lambda x: (x[0],x[1][1]/x[1][0]))\n",
        "method1_gov_score.take(5)"
      ],
      "metadata": {
        "id": "pG-S7iUj6d1y",
        "colab": {
          "base_uri": "https://localhost:8080/"
        },
        "outputId": "424bbe0d-7cf8-4c4a-8b39-f61bc2394a71"
      },
      "execution_count": 16,
      "outputs": [
        {
          "output_type": "execute_result",
          "data": {
            "text/plain": [
              "[(('HealthcareIntegratedTechnologiesInc_20190812_8-K_EX-10.1_11776966_EX-10.1_Reseller Agreement.pdf1',\n",
              "   'shall'),\n",
              "  2.25),\n",
              " (('ElPolloLocoHoldingsInc_20200306_10-K_EX-10.16_12041700_EX-10.16_Development Agreement.pdf1',\n",
              "   'state'),\n",
              "  1.25),\n",
              " (('AzulSa_20170303_F-1A_EX-10.3_9943903_EX-10.3_Maintenance Agreement1.pdf1',\n",
              "   'new'),\n",
              "  4.0),\n",
              " (('AzulSa_20170303_F-1A_EX-10.3_9943903_EX-10.3_Maintenance Agreement1.pdf1',\n",
              "   'york'),\n",
              "  4.0),\n",
              " (('AzulSa_20170303_F-1A_EX-10.3_9943903_EX-10.3_Maintenance Agreement1.pdf1',\n",
              "   'agreement'),\n",
              "  1.0)]"
            ]
          },
          "metadata": {},
          "execution_count": 16
        }
      ]
    },
    {
      "cell_type": "markdown",
      "source": [
        "### 4-Candidate Phrase Score Calculation"
      ],
      "metadata": {
        "id": "zMqi1iN8dq2g"
      }
    },
    {
      "cell_type": "code",
      "source": [
        "# join the RDD lile (word,candidate phrase) and ((word, score) RDD\n",
        "# using map and reduceByKey operations to generate like the following format (filename, (candidate phrase, score) )\n",
        "method1_gov_rdd4 = method1_gov_rdd.join(method1_gov_score).map(lambda x: (x[0][0],(tuple(x[1][0]),x[1][1])))\n",
        "method1_gov_rdd5 = method1_gov_rdd4.map(lambda x: ((x[0], x[1][0]),x[1][1])).reduceByKey(lambda a,b: a+b)\n",
        "method1_gov_rdd6 = method1_gov_rdd5.map(lambda x: (x[0][0],(x[0][1],x[1])))\n",
        "method1_gov_rdd6.take(5)"
      ],
      "metadata": {
        "id": "FJFk_lk6udCk",
        "colab": {
          "base_uri": "https://localhost:8080/"
        },
        "outputId": "2b53952f-57ec-465c-c3fe-b62c7f2f09cb"
      },
      "execution_count": 17,
      "outputs": [
        {
          "output_type": "execute_result",
          "data": {
            "text/plain": [
              "[('CybergyHoldingsInc_20140520_10-Q_EX-10.27_8605784_EX-10.27_Affiliate Agreement.pdf1',\n",
              "  (('agreement',), 1.0)),\n",
              " ('CybergyHoldingsInc_20140520_10-Q_EX-10.27_8605784_EX-10.27_Affiliate Agreement.pdf1',\n",
              "  (('state',), 1.0)),\n",
              " ('EuromediaHoldingsCorp_20070215_10SB12G_EX-10.B(01)_525118_EX-10.B(01)_Content License Agreement.pdf2',\n",
              "  (('laws', 'regulations', 'license', 'conditions'), 16.0)),\n",
              " ('EuromediaHoldingsCorp_20070215_10SB12G_EX-10.B(01)_525118_EX-10.B(01)_Content License Agreement.pdf2',\n",
              "  (('canadian', 'radiotelevision'), 4.0)),\n",
              " ('FulucaiProductionsLtd_20131223_10-Q_EX-10.9_8368347_EX-10.9_Content License Agreement.pdf1',\n",
              "  (('parties', 'hereto', 'shall'), 9.0))]"
            ]
          },
          "metadata": {},
          "execution_count": 17
        }
      ]
    },
    {
      "cell_type": "code",
      "source": [
        "# using groupByKey() to group the candidate phrases with the same filename\n",
        "method1_gov_phrase_score = method1_gov_rdd6.groupByKey().map(lambda x: (x[0], list(x[1])))\n",
        "method1_gov_phrase_score.take(1)"
      ],
      "metadata": {
        "id": "bdlmSfJ4u-1z",
        "colab": {
          "base_uri": "https://localhost:8080/"
        },
        "outputId": "36d0cf74-aa21-4fb9-d7b6-59cfa2db24ad"
      },
      "execution_count": 18,
      "outputs": [
        {
          "output_type": "execute_result",
          "data": {
            "text/plain": [
              "[('MusclepharmCorp_20170208_10-KA_EX-10.38_9893581_EX-10.38_Co-Branding Agreement.pdf1',\n",
              "  [(('executed',), 1.0),\n",
              "   (('state',), 2.0),\n",
              "   (('agreement',), 1.0),\n",
              "   (('performance', 'shall'), 4.0),\n",
              "   (('laws',), 1.0),\n",
              "   (('construed',), 1.0),\n",
              "   (('enforced',), 1.0),\n",
              "   (('los', 'angeles', 'county'), 9.0),\n",
              "   (('california',), 2.0),\n",
              "   (('interpretation', 'validity'), 4.0),\n",
              "   (('delivered',), 1.0),\n",
              "   (('accordance',), 1.0)])]"
            ]
          },
          "metadata": {},
          "execution_count": 18
        }
      ]
    },
    {
      "cell_type": "markdown",
      "source": [
        "### 5-The edf, rdf and ess calculation for each candidate phrase"
      ],
      "metadata": {
        "id": "Itmb17YDBEr3"
      }
    },
    {
      "cell_type": "code",
      "source": [
        "# generate the format like(candidate_phrase, ratio_score, edf_score, rdf_score)\n",
        "# the first tuple in the entire tuple refers to one word of each document(clause), \n",
        "# the second is the list of the word’s candidate phrase\n",
        "# the third number is 1 which represents the frequency of each single word for the candidate phrase\n",
        "# and the fourth number means the degree of single word(frequency+ co-occurrence).\n",
        "\n",
        "def method1_candidate_phrase(record):\n",
        "  ls = record[1]\n",
        "  ls.sort(key = lambda x:x[1], reverse = True)\n",
        "  res = []\n",
        "  for i in range(len(ls)):\n",
        "    if i <= 3:\n",
        "      x = (ls[i][0], ls[i][1], 1, 1)\n",
        "    else:\n",
        "      x = (ls[i][0], ls[i][1], 0, 1)\n",
        "    res.append(x)                \n",
        "\n",
        "  return  (record[0], res)\n",
        "\n",
        "\n",
        "# (candidate_phrase, ratio_score, edf_score, rdf_score)\n",
        "method1_gov_rdd8 = method1_gov_phrase_score.map(method1_candidate_phrase)\n",
        "method1_gov_rdd8.take(1)"
      ],
      "metadata": {
        "id": "duMH1Io8Wvv_",
        "colab": {
          "base_uri": "https://localhost:8080/"
        },
        "outputId": "4fe5dff2-f68f-4ca5-c71d-4888991e829f"
      },
      "execution_count": 19,
      "outputs": [
        {
          "output_type": "execute_result",
          "data": {
            "text/plain": [
              "[('MusclepharmCorp_20170208_10-KA_EX-10.38_9893581_EX-10.38_Co-Branding Agreement.pdf1',\n",
              "  [(('los', 'angeles', 'county'), 9.0, 1, 1),\n",
              "   (('performance', 'shall'), 4.0, 1, 1),\n",
              "   (('interpretation', 'validity'), 4.0, 1, 1),\n",
              "   (('state',), 2.0, 1, 1),\n",
              "   (('california',), 2.0, 0, 1),\n",
              "   (('executed',), 1.0, 0, 1),\n",
              "   (('agreement',), 1.0, 0, 1),\n",
              "   (('laws',), 1.0, 0, 1),\n",
              "   (('construed',), 1.0, 0, 1),\n",
              "   (('enforced',), 1.0, 0, 1),\n",
              "   (('delivered',), 1.0, 0, 1),\n",
              "   (('accordance',), 1.0, 0, 1)])]"
            ]
          },
          "metadata": {},
          "execution_count": 19
        }
      ]
    },
    {
      "cell_type": "markdown",
      "source": [
        "#### 5.1. Edf calculation and keywords identification"
      ],
      "metadata": {
        "id": "1p_NT_mnfa4B"
      }
    },
    {
      "cell_type": "code",
      "source": [
        "def extract_edf(record):\n",
        "  ls = record[1]\n",
        "  res = []\n",
        "  for word in ls:\n",
        "    x = (word[0], word[2])\n",
        "    res.append(x)\n",
        "  return res\n",
        "\n",
        "# filter the second element of the tuple being 0, because 0 means it is not the keyword\n",
        "method1_gov_keyword_edf = method1_gov_rdd8.flatMap(extract_edf).reduceByKey(lambda a,b: a+b).filter(lambda x: x[1] != 0).sortBy(lambda x: x[1], ascending = False)\n",
        "method1_gov_keyword_edf.take(10)"
      ],
      "metadata": {
        "id": "hDUTkdBPfpDL",
        "colab": {
          "base_uri": "https://localhost:8080/"
        },
        "outputId": "9fea9617-f19f-4dee-a0ec-ef2f9fa6e348"
      },
      "execution_count": 20,
      "outputs": [
        {
          "output_type": "execute_result",
          "data": {
            "text/plain": [
              "[(('agreement', 'shall'), 216),\n",
              " (('laws',), 126),\n",
              " (('governed',), 54),\n",
              " (('state',), 53),\n",
              " (('accordance',), 40),\n",
              " (('construed',), 36),\n",
              " (('agreement',), 33),\n",
              " (('law', 'principles'), 26),\n",
              " (('new', 'york'), 25),\n",
              " (('laws', 'principles'), 23)]"
            ]
          },
          "metadata": {},
          "execution_count": 20
        }
      ]
    },
    {
      "cell_type": "markdown",
      "source": [
        "#### 5.2. Rdf calculation"
      ],
      "metadata": {
        "id": "k_zapAUJfjkh"
      }
    },
    {
      "cell_type": "code",
      "source": [
        "def extract_rdf(record):\n",
        "  ls = record[1]\n",
        "  res = []\n",
        "  for word in ls:\n",
        "    x = (word[0], word[3])\n",
        "    res.append(x)\n",
        "  return res\n",
        "\n",
        "method1_gov_keyword_rdf = method1_gov_rdd8.flatMap(extract_rdf).reduceByKey(lambda a,b: a+b).reduceByKey(lambda a,b: a+b).sortBy(lambda x: x[1], ascending = False)\n",
        "method1_gov_keyword_rdf.take(10)"
      ],
      "metadata": {
        "id": "dJCUgdLDaimz",
        "colab": {
          "base_uri": "https://localhost:8080/"
        },
        "outputId": "cee0a182-a544-40b3-9eba-f5c0775b565b"
      },
      "execution_count": 21,
      "outputs": [
        {
          "output_type": "execute_result",
          "data": {
            "text/plain": [
              "[(('laws',), 387),\n",
              " (('governed',), 358),\n",
              " (('state',), 329),\n",
              " (('accordance',), 286),\n",
              " (('construed',), 251),\n",
              " (('agreement', 'shall'), 250),\n",
              " (('agreement',), 168),\n",
              " (('conflict',), 112),\n",
              " (('conflicts',), 107),\n",
              " (('interpreted',), 50)]"
            ]
          },
          "metadata": {},
          "execution_count": 21
        }
      ]
    },
    {
      "cell_type": "markdown",
      "source": [
        "#### 5.3. Ess calculation and the result"
      ],
      "metadata": {
        "id": "TtNdLZRffo5Q"
      }
    },
    {
      "cell_type": "code",
      "source": [
        "# ess = edf/rdf * edf\n",
        "# gerenrate the tuple like (candidate phrase, (edf, rdf, ess))\n",
        "method1_gov_ess = method1_gov_keyword_edf.join(method1_gov_keyword_rdf).map(lambda x: (x[0], (x[1][0], x[1][1] ,x[1][0]*x[1][0]/x[1][1]))).sortBy(lambda x: x[1][2], ascending = False)\n",
        "\n",
        "## Filter the candidate phrases whose number of words is greater than 4\n",
        "## Convert the tuple into string\n",
        "method1_gov_final_ess = method1_gov_ess.filter(lambda x: len(x[0]) <= 4).map(lambda x: (' '.join(x[0]), x[1]))\n",
        "method1_gov_final_ess.take(20)"
      ],
      "metadata": {
        "id": "0abvjfmtoCBh",
        "colab": {
          "base_uri": "https://localhost:8080/"
        },
        "outputId": "d31ea45c-685b-4ce5-dd89-e35445d8bd1e"
      },
      "execution_count": 22,
      "outputs": [
        {
          "output_type": "execute_result",
          "data": {
            "text/plain": [
              "[('agreement shall', (216, 250, 186.624)),\n",
              " ('laws', (126, 387, 41.02325581395349)),\n",
              " ('new york', (25, 28, 22.321428571428573)),\n",
              " ('new york without regard', (20, 20, 20.0)),\n",
              " ('law principles', (26, 36, 18.77777777777778)),\n",
              " ('laws principles', (23, 31, 17.06451612903226)),\n",
              " ('law rules', (16, 19, 13.473684210526315)),\n",
              " ('law provisions', (16, 19, 13.473684210526315)),\n",
              " ('substantive laws', (16, 21, 12.19047619047619)),\n",
              " ('new york applicable', (12, 12, 12.0)),\n",
              " ('california without regard', (12, 12, 12.0)),\n",
              " ('delaware without regard', (12, 12, 12.0)),\n",
              " ('laws provisions', (13, 17, 9.941176470588236)),\n",
              " ('performed entirely within', (9, 9, 9.0)),\n",
              " ('parties hereto shall', (9, 9, 9.0)),\n",
              " ('new york without reference', (9, 9, 9.0)),\n",
              " ('state', (53, 329, 8.537993920972644)),\n",
              " ('governed', (54, 358, 8.145251396648044)),\n",
              " ('laws principles thereof', (7, 7, 7.0)),\n",
              " ('validity construction', (7, 7, 7.0))]"
            ]
          },
          "metadata": {},
          "execution_count": 22
        }
      ]
    },
    {
      "cell_type": "markdown",
      "source": [
        "## Change of Control"
      ],
      "metadata": {
        "id": "BLoGIyujTMIQ"
      }
    },
    {
      "cell_type": "markdown",
      "source": [
        "###  1-Map the original RDD to the tuple like [(filename1, clause1),(filename2, clause1)]"
      ],
      "metadata": {
        "id": "uPkfrHhhN1Ly"
      }
    },
    {
      "cell_type": "code",
      "source": [
        "change_anti = spark.read.csv('/content/drive/MyDrive/comp5349/Anti_assignment_CIC_g3.csv', header = True).rdd\n",
        "change_anti.take(5)"
      ],
      "metadata": {
        "colab": {
          "base_uri": "https://localhost:8080/"
        },
        "id": "kns7U9R3hX-h",
        "outputId": "f6495cfc-99e6-4c19-b8a1-5d08fad4b274"
      },
      "execution_count": 23,
      "outputs": [
        {
          "output_type": "execute_result",
          "data": {
            "text/plain": [
              "[Row(Filename='CybergyHoldingsInc_20140520_10-Q_EX-10.27_8605784_EX-10.27_Affiliate Agreement.pdf', Change of Control=None, Anti-assignment='MA may not assign, sell, lease or otherwise transfer in whole or in party any of the rights granted pursuant to this Agreement without prior written approval of Company. (Page 12)'),\n",
              " Row(Filename='EuromediaHoldingsCorp_20070215_10SB12G_EX-10.B(01)_525118_EX-10.B(01)_Content License Agreement.pdf', Change of Control=None, Anti-assignment='This Agreement may not be assigned, sold or transferred without the prior written consent of the other party. (Page 9)  Notwithstanding the foregoing, Rogers may, without consent, assign its rights and obligations under this Agreement in whole or in part to: (i) a person that directly or indirectly controls, is controlled by or is under common control with Rogers; or (ii) a purchaser of all or substantially all of the assets used in connection with the ROD Service. A change of control of Rogers shall not be considered an assignment of this Agreement. (Page 9)  Any purported assignment, sale, or transfer in contravention of this Section shall be null and void. (Page 9)'),\n",
              " Row(Filename='GopageCorp_20140221_10-K_EX-10.1_8432966_EX-10.1_Content License Agreement.pdf', Change of Control=\"For purposes of the preceding sentence, and without limiting its generality, any merger, consolidation or reorganization involving Licensee (regardless of whether Licensee is a surviving or disappearing entity) will be deemed to be a transfer of rights, obligations or performance under this Agreement for which Licensor's prior written consent is required. (Page 15)\", Anti-assignment=\"Licensee shall not assign or otherwise transfer any of its rights, or delegate or otherwise transfer any of its obligations or performance, under this Agreement, in each case whether voluntarily, involuntarily, by operation of law or otherwise, without Licensor's prior written consent. (Page 15)  Any purported assignment, delegation or transfer in violation of this Section 11.7 is void from the outset and shall be of no force or effect. (Page 15)\"),\n",
              " Row(Filename='IdeanomicsInc_20160330_10-K_EX-10.26_9512211_EX-10.26_Content License Agreement.pdf', Change of Control=None, Anti-assignment='Licensee shall have the right to assign or sublicense any or all of its rights granted under this Agreement, in whole or in part, to third parties exhibiting the Titles in the ordinary course of LicenseeÕs business with prior written notice to Licensor and subject to the applicable limitations (if any) in Section 2(a)(i) [License Grant] (Page 4)  Except as otherwise specified in the previous sentence, Licensee may not sublicense any of its rights under Section 2(a) [License Grant] without LicensorÕs prior written consent, which shall not be unreasonably withheld or delayed. (Page 4)  Neither party may assign its rights, duties or obligations under this Agreement to any third party in whole or in part, without the other partyÕs prior written consent, except that (i) Licensee may assign its rights and obligations to this Agreement to any of its Affiliate or subsidiaries with the prior written consent of the Licensor, and (ii) Licensor may assign its rights and obligations in this Agreement to its Affiliates or subsidiaries and either party may assign this Agreement in its entirety to any purchaser of all or substantially all of its business or assets pertaining to the line of business to which this Agreement relates or to any Affiliate of the party without the other partyÕs approval. (Page 14)'),\n",
              " Row(Filename='DeltathreeInc_19991102_S-1A_EX-10.19_6227850_EX-10.19_Co-Branding Agreement_ Service Agreement.pdf', Change of Control='\"The term of this Agreement shall be effective as of the date first stated above and shall continue for a term of three (3) years, unless terminated earlier in accordance with the provisions of this Agreement (the \"\"Term\"\"); provided', Anti-assignment=' however')]"
            ]
          },
          "metadata": {},
          "execution_count": 23
        }
      ]
    },
    {
      "cell_type": "code",
      "source": [
        "def row_to_tuple_for_control (row):\n",
        "  row_dict = row.asDict()\n",
        "  return (row_dict[\"Filename\"], row_dict[\"Change of Control\"])    \n",
        "\n",
        "change_of_control = change_anti.map(row_to_tuple_for_control)"
      ],
      "metadata": {
        "id": "auZeUytcj5z-"
      },
      "execution_count": 24,
      "outputs": []
    },
    {
      "cell_type": "code",
      "source": [
        "# map to this format [(filename1, clause1), (filename2, clause2)]\n",
        "# Uing the function of method1_extract defined in the previous section\n",
        "method1_change_rdd1 = change_of_control.filter(lambda x: x[1] != None).flatMap(method1_extract).map(lambda x: (x[0],x[1].strip())) #  filter None values and  spaces\n",
        "method1_change_rdd1.take(10)"
      ],
      "metadata": {
        "colab": {
          "base_uri": "https://localhost:8080/"
        },
        "id": "3Ocsx30sNrpE",
        "outputId": "66aab9bb-fb6f-4ed7-f776-5ce998fccb63"
      },
      "execution_count": 25,
      "outputs": [
        {
          "output_type": "execute_result",
          "data": {
            "text/plain": [
              "[('GopageCorp_20140221_10-K_EX-10.1_8432966_EX-10.1_Content License Agreement.pdf1',\n",
              "  \"for purposes of the preceding sentence, and without limiting its generality, any merger, consolidation or reorganization involving licensee (regardless of whether licensee is a surviving or disappearing entity) will be deemed to be a transfer of rights, obligations or performance under this agreement for which licensor's prior written consent is required.\"),\n",
              " ('DeltathreeInc_19991102_S-1A_EX-10.19_6227850_EX-10.19_Co-Branding Agreement_ Service Agreement.pdf1',\n",
              "  '\"the term of this agreement shall be effective as of the date first stated above and shall continue for a term of three (3) years, unless terminated earlier in accordance with the provisions of this agreement (the \"\"term\"\"); provided'),\n",
              " ('EdietsComInc_20001030_10QSB_EX-10.4_2606646_EX-10.4_Co-Branding Agreement.pdf1',\n",
              "  '\"for purposes of this agreement, \"\"change in control\"\" means a merger or consolidation of the party with'),\n",
              " ('MusclepharmCorp_20170208_10-KA_EX-10.38_9893581_EX-10.38_Co-Branding Agreement.pdf1',\n",
              "  'neither party shall voluntarily or by operation of law assign or otherwise transfer the rights and/or obligations incurred pursuant to the terms of this agreement without the prior written consent of the other party.'),\n",
              " ('MusclepharmCorp_20170208_10-KA_EX-10.38_9893581_EX-10.38_Co-Branding Agreement.pdf2',\n",
              "  'nothwithstanding the foregoing, this agreement may be assigned without the as partiesõ consent by musclepharm in connection with a change of control transaction; provided that the acquirer of musclepharm shall have financial resources substantially similar or greater than musclepharm and shall specifically assume the obligations of musclepharm under this agreement in writing prior to the consummation of the change of control transaction.'),\n",
              " ('TomOnlineInc_20060501_20-F_EX-4.46_749700_EX-4.46_Co-Branding Agreement.pdf1',\n",
              "  'notwithstanding the foregoing, skype or skype holding may assign this agreement to a third party without such consent in the event of a merger, reorganization or sale of all or substantially all of skypeõs or skype holdingõs assets or voting securities, provided that written notice of such assignment is delivered to online bvi and the company and the assignee assumes all the responsibilities and obligations provided herein.'),\n",
              " ('ConformisInc_20191101_10-Q_EX-10.6_11861402_EX-10.6_Development Agreement.pdf1',\n",
              "  'except as otherwise provided herein, a party shall not have the right to   assign any of its rights or obligations under this agreement (whether through a merger, sale of stock, or otherwise) without the   prior written consent of the other party; except that, either party shall be permitted, without any need for the other partyõs   consent, to assign this agreement (a) in whole or in part to an affiliate (provided, however, that once such person is no longer an   affiliate of the assigning party, such former affiliate shall assign this agreement back to the assigning party), provided that the   assigning party provides the other party notice of any such assignment provided further that failure to provide such notice of such   assignment shall not render such assignment void; or (b) to a third party in connection with sale or transfer of all or substantially all   of the assigning partyõs business or assets relating to the subject matter of this agreement, whether by change of control, merger,   sale of assets or otherwise; provided, however, that, with respect to clause (b), (i) any assignment of this agreement shall be void   and have no effect unless and until the assignee assumes the <omitted> obligations of the assigning party in a written instrument, a copy of which is provided to the other party; and (ii) any assignment of   this agreement must be accompanied by a simultaneous assignment of the other agreements to the same assignee, and the   assigning partyõs interest in the purchased assets to the same assignee unless otherwise agreed by conformis in advance, which   agreement shall not be unreasonably withheld.'),\n",
              " ('EtonPharmaceuticalsInc_20191114_10-Q_EX-10.1_11893941_EX-10.1_Development Agreement.pdf1',\n",
              "  'notwithstanding the foregoing, each party may assign the rights and obligations under this agreement in whole, without consent of the other party, to a third party or affiliate in connection with the transfer or sale of all or substantially all of its business or in the event of a merger, consolidation or change in control provided that the assignee assumes in writing and becomes directly obligated to the other party to perform all of the obligations of assignor under this agreement.'),\n",
              " ('FuelcellEnergyInc_20191106_8-K_EX-10.1_11868007_EX-10.1_Development Agreement.pdf1',\n",
              "  'exxonmobil may terminate this agreement upon fifteen (15) days written notice, without penalty, payment or prejudice to claims and obligations then accrued, if fce undergoes a change in control.'),\n",
              " ('FuelcellEnergyInc_20191106_8-K_EX-10.1_11868007_EX-10.1_Development Agreement.pdf2',\n",
              "  'subject to requirements of applicable law, fce will provide notice to exxonmobil prior to, or promptly after, it becomes aware of any such change in control, and if prior notice is prohibited by applicable law, as soon as practicable or after such notice is no longer prohibited, but in no event later than one (1) business day after any public announcement with respect to any such asset transfer or change in control.')]"
            ]
          },
          "metadata": {},
          "execution_count": 25
        }
      ]
    },
    {
      "cell_type": "markdown",
      "source": [
        "### 2-candidate Phrase Identification"
      ],
      "metadata": {
        "id": "kbowzsL1cWtN"
      }
    },
    {
      "cell_type": "markdown",
      "source": [
        "removing stopwords and punctuation, then generating candidate phrases."
      ],
      "metadata": {
        "id": "inFd6uxdcaZf"
      }
    },
    {
      "cell_type": "code",
      "source": [
        "# map to the format like (filename, list of candidate phrases)\n",
        "method1_change_rdd2 = method1_change_rdd1.map(method1_preprocessing).filter(lambda x: x[1] != ' ')\n",
        "method1_change_rdd2.take(1)"
      ],
      "metadata": {
        "colab": {
          "base_uri": "https://localhost:8080/"
        },
        "id": "0P8dqTo2dZSi",
        "outputId": "af218f03-3a77-4fa5-ec97-3d9e357ddbc4"
      },
      "execution_count": 26,
      "outputs": [
        {
          "output_type": "execute_result",
          "data": {
            "text/plain": [
              "[('GopageCorp_20140221_10-K_EX-10.1_8432966_EX-10.1_Content License Agreement.pdf1',\n",
              "  ['',\n",
              "   ' purposes ',\n",
              "   ' ',\n",
              "   ' preceding sentence ',\n",
              "   ' without limiting ',\n",
              "   ' generality ',\n",
              "   ' merger consolidation ',\n",
              "   ' reorganization involving licensee regardless ',\n",
              "   ' whether licensee ',\n",
              "   ' ',\n",
              "   ' surviving ',\n",
              "   ' disappearing entity ',\n",
              "   ' ',\n",
              "   ' deemed ',\n",
              "   ' ',\n",
              "   ' ',\n",
              "   ' transfer ',\n",
              "   ' rights obligations ',\n",
              "   ' performance ',\n",
              "   ' ',\n",
              "   ' agreement ',\n",
              "   ' ',\n",
              "   ' licensors prior written consent ',\n",
              "   ' required'])]"
            ]
          },
          "metadata": {},
          "execution_count": 26
        }
      ]
    },
    {
      "cell_type": "code",
      "source": [
        "# remove extra spaces\n",
        "# Map the candidate phrases to the list format, and each word is split by comma for each candidate phrase of each document\n",
        "method1_change_rdd_list = method1_change_rdd2.map(remove_space_list)\n",
        "method1_change_rdd_list.take(1)"
      ],
      "metadata": {
        "colab": {
          "base_uri": "https://localhost:8080/"
        },
        "id": "fdNwl2UbgLjx",
        "outputId": "1b4c0080-2268-42c2-b978-9a7767aba574"
      },
      "execution_count": 27,
      "outputs": [
        {
          "output_type": "execute_result",
          "data": {
            "text/plain": [
              "[('GopageCorp_20140221_10-K_EX-10.1_8432966_EX-10.1_Content License Agreement.pdf1',\n",
              "  [['purposes'],\n",
              "   ['preceding', 'sentence'],\n",
              "   ['without', 'limiting'],\n",
              "   ['generality'],\n",
              "   ['merger', 'consolidation'],\n",
              "   ['reorganization', 'involving', 'licensee', 'regardless'],\n",
              "   ['whether', 'licensee'],\n",
              "   ['surviving'],\n",
              "   ['disappearing', 'entity'],\n",
              "   ['deemed'],\n",
              "   ['transfer'],\n",
              "   ['rights', 'obligations'],\n",
              "   ['performance'],\n",
              "   ['agreement'],\n",
              "   ['licensors', 'prior', 'written', 'consent'],\n",
              "   ['required']])]"
            ]
          },
          "metadata": {},
          "execution_count": 27
        }
      ]
    },
    {
      "cell_type": "markdown",
      "source": [
        "### 3- Word Score Calculation"
      ],
      "metadata": {
        "id": "cPlEhG85iRWR"
      }
    },
    {
      "cell_type": "code",
      "source": [
        "# Generate the tuple like ((filename, single_word), candidate phrase,  fre(w), deg(w))) for each phrase of each document\n",
        "# the third number of each tuple is 1 which means frequency of each word for the one candidate phrase \n",
        "# and the fourth number is the length of candidate phrases since deg(w) = fre(w) + co-occurrence.\n",
        "# In detail, fre(w) is equal to 1, and co-occurrence equals the length(candidate_phrase)-1. In this way, deg(w) = length of candidate phrase.\n",
        "method1_change_rdd2 = method1_change_rdd_list.flatMap(ls_fre_deg)\n",
        "method1_change_rdd2.take(3)"
      ],
      "metadata": {
        "colab": {
          "base_uri": "https://localhost:8080/"
        },
        "id": "PEi3pf1fiSVl",
        "outputId": "f2e6e874-134f-4f9c-d5ac-c5bd82f1f0d2"
      },
      "execution_count": 28,
      "outputs": [
        {
          "output_type": "execute_result",
          "data": {
            "text/plain": [
              "[(('GopageCorp_20140221_10-K_EX-10.1_8432966_EX-10.1_Content License Agreement.pdf1',\n",
              "   'purposes'),\n",
              "  ['purposes'],\n",
              "  1,\n",
              "  1),\n",
              " (('GopageCorp_20140221_10-K_EX-10.1_8432966_EX-10.1_Content License Agreement.pdf1',\n",
              "   'preceding'),\n",
              "  ['preceding', 'sentence'],\n",
              "  1,\n",
              "  2),\n",
              " (('GopageCorp_20140221_10-K_EX-10.1_8432966_EX-10.1_Content License Agreement.pdf1',\n",
              "   'sentence'),\n",
              "  ['preceding', 'sentence'],\n",
              "  1,\n",
              "  2)]"
            ]
          },
          "metadata": {},
          "execution_count": 28
        }
      ]
    },
    {
      "cell_type": "code",
      "source": [
        "# This RDD is for joining later\n",
        "method1_change_rdd = method1_change_rdd2.map(lambda x: (x[0], x[1]))\n",
        "method1_change_rdd.take(3)"
      ],
      "metadata": {
        "colab": {
          "base_uri": "https://localhost:8080/"
        },
        "id": "A-qVJsF-iejD",
        "outputId": "0e8f39a0-4e07-4c00-d3a6-f5f67da796d6"
      },
      "execution_count": 29,
      "outputs": [
        {
          "output_type": "execute_result",
          "data": {
            "text/plain": [
              "[(('GopageCorp_20140221_10-K_EX-10.1_8432966_EX-10.1_Content License Agreement.pdf1',\n",
              "   'purposes'),\n",
              "  ['purposes']),\n",
              " (('GopageCorp_20140221_10-K_EX-10.1_8432966_EX-10.1_Content License Agreement.pdf1',\n",
              "   'preceding'),\n",
              "  ['preceding', 'sentence']),\n",
              " (('GopageCorp_20140221_10-K_EX-10.1_8432966_EX-10.1_Content License Agreement.pdf1',\n",
              "   'sentence'),\n",
              "  ['preceding', 'sentence'])]"
            ]
          },
          "metadata": {},
          "execution_count": 29
        }
      ]
    },
    {
      "cell_type": "markdown",
      "source": [
        "#### 3.1.Fre(w) calculation for each word"
      ],
      "metadata": {
        "id": "fS7euu0JinZo"
      }
    },
    {
      "cell_type": "code",
      "source": [
        "method1_change_fre = method1_change_rdd2.map(lambda x: (x[0], x[2])).reduceByKey(lambda a,b: a+b).sortBy(lambda x: x[1], ascending = False)\n",
        "method1_change_fre.take(5)"
      ],
      "metadata": {
        "colab": {
          "base_uri": "https://localhost:8080/"
        },
        "id": "sfIzmzPii1fu",
        "outputId": "f805cea6-243a-44fe-eebf-5cdd9322c92a"
      },
      "execution_count": 30,
      "outputs": [
        {
          "output_type": "execute_result",
          "data": {
            "text/plain": [
              "[(('ZogenixInc_20190509_10-Q_EX-10.2_11663313_EX-10.2_Distributor Agreement.pdf2',\n",
              "   'party'),\n",
              "  11),\n",
              " (('ConformisInc_20191101_10-Q_EX-10.6_11861402_EX-10.6_Development Agreement.pdf1',\n",
              "   'party'),\n",
              "  10),\n",
              " (('HarpoonTherapeuticsInc_20200312_10-K_EX-10.18_12051356_EX-10.18_Development Agreement.PDF1',\n",
              "   'section'),\n",
              "  10),\n",
              " (('PhoenixNewMediaLtd_20110421_F-1_EX-10.17_6958322_EX-10.17_Content License Agreement.pdf1',\n",
              "   'party'),\n",
              "  10),\n",
              " (('JOINTCORP_09_19_2014-EX-10.15-FRANCHISE AGREEMENT.PDF1', 'interest'), 10)]"
            ]
          },
          "metadata": {},
          "execution_count": 30
        }
      ]
    },
    {
      "cell_type": "markdown",
      "source": [
        "#### 3.2.Deg(w) calculation for each word"
      ],
      "metadata": {
        "id": "NCxf2wgRjJuI"
      }
    },
    {
      "cell_type": "code",
      "source": [
        "method1_change_deg = method1_change_rdd2.map(lambda x: (x[0], x[3])).reduceByKey(lambda a,b: a+b).sortBy(lambda x: x[1], ascending = False)\n",
        "method1_change_deg.take(5)"
      ],
      "metadata": {
        "colab": {
          "base_uri": "https://localhost:8080/"
        },
        "id": "WuFlzxotjMcq",
        "outputId": "ffc38986-db32-4dac-a0f7-aeaaaad37109"
      },
      "execution_count": 31,
      "outputs": [
        {
          "output_type": "execute_result",
          "data": {
            "text/plain": [
              "[(('HarpoonTherapeuticsInc_20200312_10-K_EX-10.18_12051356_EX-10.18_Development Agreement.PDF1',\n",
              "   'section'),\n",
              "  36),\n",
              " (('PhoenixNewMediaLtd_20110421_F-1_EX-10.17_6958322_EX-10.17_Content License Agreement.pdf1',\n",
              "   'party'),\n",
              "  32),\n",
              " (('ZogenixInc_20190509_10-Q_EX-10.2_11663313_EX-10.2_Distributor Agreement.pdf2',\n",
              "   'party'),\n",
              "  29),\n",
              " (('EbixInc_20010515_10-Q_EX-10.3_4049767_EX-10.3_Co-Branding Agreement.pdf1',\n",
              "   'written'),\n",
              "  28),\n",
              " (('EbixInc_20010515_10-Q_EX-10.3_4049767_EX-10.3_Co-Branding Agreement.pdf1',\n",
              "   'notice'),\n",
              "  28)]"
            ]
          },
          "metadata": {},
          "execution_count": 31
        }
      ]
    },
    {
      "cell_type": "markdown",
      "source": [
        "#### 3.3.Ratio of fre(w) and deg(w) calculation for each word"
      ],
      "metadata": {
        "id": "haq7cqn_i_Pg"
      }
    },
    {
      "cell_type": "code",
      "source": [
        "# ratio = deg/fre\n",
        "method1_change_score = method1_change_fre.join(method1_change_deg).map(lambda x: (x[0],x[1][1]/x[1][0])).sortBy(lambda x: x[1], ascending = False)\n",
        "method1_change_score.take(5)"
      ],
      "metadata": {
        "colab": {
          "base_uri": "https://localhost:8080/"
        },
        "id": "Lr_39FO0i8MJ",
        "outputId": "33a8a30e-a599-4d77-8b45-7ac4ffea1794"
      },
      "execution_count": 32,
      "outputs": [
        {
          "output_type": "execute_result",
          "data": {
            "text/plain": [
              "[(('EbixInc_20010515_10-Q_EX-10.3_4049767_EX-10.3_Co-Branding Agreement.pdf1',\n",
              "   'yahoo'),\n",
              "  20.0),\n",
              " (('EbixInc_20010515_10-Q_EX-10.3_4049767_EX-10.3_Co-Branding Agreement.pdf1',\n",
              "   'lycosterra'),\n",
              "  20.0),\n",
              " (('EbixInc_20010515_10-Q_EX-10.3_4049767_EX-10.3_Co-Branding Agreement.pdf1',\n",
              "   'nbc'),\n",
              "  20.0),\n",
              " (('EbixInc_20010515_10-Q_EX-10.3_4049767_EX-10.3_Co-Branding Agreement.pdf1',\n",
              "   'cmgi'),\n",
              "  20.0),\n",
              " (('EbixInc_20010515_10-Q_EX-10.3_4049767_EX-10.3_Co-Branding Agreement.pdf1',\n",
              "   'disney'),\n",
              "  20.0)]"
            ]
          },
          "metadata": {},
          "execution_count": 32
        }
      ]
    },
    {
      "cell_type": "markdown",
      "source": [
        "### 4-Candidate Phrase Score Calculation"
      ],
      "metadata": {
        "id": "oLRse2DYj2oZ"
      }
    },
    {
      "cell_type": "code",
      "source": [
        "# join the RDD lile (word,candidate phrase) and ((word, score) RDD\n",
        "# using map and reduceByKey operations to generate like the following \n",
        "method1_change_rdd4 = method1_change_rdd.join(method1_change_score).map(lambda x: (x[0][0],(tuple(x[1][0]),x[1][1])))\n",
        "method1_change_rdd5 = method1_change_rdd4.map(lambda x: ((x[0], x[1][0]),x[1][1])).reduceByKey(lambda a,b: a+b)\n",
        "method1_change_rdd6 = method1_change_rdd5.map(lambda x: (x[0][0],(x[0][1],x[1])))\n",
        "method1_change_rdd6.take(5)"
      ],
      "metadata": {
        "colab": {
          "base_uri": "https://localhost:8080/"
        },
        "outputId": "ed9d71a8-6069-4243-c479-28c1b03b5aba",
        "id": "x8ADJEZ6kDMl"
      },
      "execution_count": 33,
      "outputs": [
        {
          "output_type": "execute_result",
          "data": {
            "text/plain": [
              "[('GopageCorp_20140221_10-K_EX-10.1_8432966_EX-10.1_Content License Agreement.pdf1',\n",
              "  (('reorganization', 'involving', 'licensee', 'regardless'), 15.0)),\n",
              " ('GopageCorp_20140221_10-K_EX-10.1_8432966_EX-10.1_Content License Agreement.pdf1',\n",
              "  (('surviving',), 1.0)),\n",
              " ('DeltathreeInc_19991102_S-1A_EX-10.19_6227850_EX-10.19_Co-Branding Agreement_ Service Agreement.pdf1',\n",
              "  (('three', '3', 'years', 'unless', 'terminated', 'earlier'), 36.0)),\n",
              " ('EdietsComInc_20001030_10QSB_EX-10.4_2606646_EX-10.4_Co-Branding Agreement.pdf1',\n",
              "  (('agreement', 'change'), 4.0)),\n",
              " ('EdietsComInc_20001030_10QSB_EX-10.4_2606646_EX-10.4_Co-Branding Agreement.pdf1',\n",
              "  (('party',), 1.0))]"
            ]
          },
          "metadata": {},
          "execution_count": 33
        }
      ]
    },
    {
      "cell_type": "code",
      "source": [
        "# using groupByKey() to group the candidate phrases with the same filename\n",
        "method1_change_phrase_score = method1_change_rdd6.groupByKey().map(lambda x: (x[0], list(x[1])))\n",
        "method1_change_phrase_score.take(2)"
      ],
      "metadata": {
        "colab": {
          "base_uri": "https://localhost:8080/"
        },
        "outputId": "76caa849-1726-45ea-a8c0-b98b305e0cdf",
        "id": "Aaw1Tc-WkDMm"
      },
      "execution_count": 34,
      "outputs": [
        {
          "output_type": "execute_result",
          "data": {
            "text/plain": [
              "[('MusclepharmCorp_20170208_10-KA_EX-10.38_9893581_EX-10.38_Co-Branding Agreement.pdf1',\n",
              "  [(('rights', 'andor', 'obligations', 'incurred', 'pursuant'), 25.0),\n",
              "   (('agreement', 'without'), 4.0),\n",
              "   (('party',), 2.5),\n",
              "   (('otherwise', 'transfer'), 4.0),\n",
              "   (('operation',), 1.0),\n",
              "   (('law', 'assign'), 4.0),\n",
              "   (('neither', 'party', 'shall', 'voluntarily'), 14.5),\n",
              "   (('terms',), 1.0),\n",
              "   (('prior', 'written', 'consent'), 9.0)]),\n",
              " ('MusclepharmCorp_20170208_10-KA_EX-10.38_9893581_EX-10.38_Co-Branding Agreement.pdf2',\n",
              "  [(('foregoing',), 1.0),\n",
              "   (('agreement', 'may'), 3.5),\n",
              "   (('assigned', 'without'), 4.0),\n",
              "   (('partiesõ', 'consent'), 4.0),\n",
              "   (('control', 'transaction'), 5.0),\n",
              "   (('musclepharm',), 3.75),\n",
              "   (('musclepharm', 'shall'), 3.75),\n",
              "   (('change',), 2.0),\n",
              "   (('control', 'transaction', 'provided'), 8.0),\n",
              "   (('shall', 'specifically', 'assume'), 8.5),\n",
              "   (('financial', 'resources', 'substantially', 'similar'), 16.0),\n",
              "   (('acquirer',), 1.0),\n",
              "   (('agreement',), 1.5),\n",
              "   (('writing', 'prior'), 4.0),\n",
              "   (('connection',), 1.0),\n",
              "   (('greater',), 1.0),\n",
              "   (('consummation',), 1.0),\n",
              "   (('nothwithstanding',), 1.0),\n",
              "   (('obligations',), 1.0)])]"
            ]
          },
          "metadata": {},
          "execution_count": 34
        }
      ]
    },
    {
      "cell_type": "markdown",
      "source": [
        "### 5-The edf, rdf and ess calculation for each candidate phrase\n"
      ],
      "metadata": {
        "id": "wCBzJSuAk1Bf"
      }
    },
    {
      "cell_type": "code",
      "source": [
        "# generate the format like(candidate_phrase, ratio_score, edf_score, rdf_score)\n",
        "# the first tuple in the entire tuple refers to one word of each document(clause), \n",
        "# the second is the list of the word’s candidate phrase\n",
        "# the third number is 1 which represents the frequency of each single word for the candidate phrase\n",
        "# and the fourth number means the degree of single word(frequency+ co-occurrence).\n",
        "\n",
        "method1_change_rdd8 = method1_change_phrase_score.map(method1_candidate_phrase)\n",
        "method1_change_rdd8.take(2)"
      ],
      "metadata": {
        "colab": {
          "base_uri": "https://localhost:8080/"
        },
        "id": "pQkra36hk3wq",
        "outputId": "173168ca-0ba1-4662-b842-b7e62055d4d9"
      },
      "execution_count": 35,
      "outputs": [
        {
          "output_type": "execute_result",
          "data": {
            "text/plain": [
              "[('MusclepharmCorp_20170208_10-KA_EX-10.38_9893581_EX-10.38_Co-Branding Agreement.pdf1',\n",
              "  [(('rights', 'andor', 'obligations', 'incurred', 'pursuant'), 25.0, 1, 1),\n",
              "   (('neither', 'party', 'shall', 'voluntarily'), 14.5, 1, 1),\n",
              "   (('prior', 'written', 'consent'), 9.0, 1, 1),\n",
              "   (('agreement', 'without'), 4.0, 1, 1),\n",
              "   (('otherwise', 'transfer'), 4.0, 0, 1),\n",
              "   (('law', 'assign'), 4.0, 0, 1),\n",
              "   (('party',), 2.5, 0, 1),\n",
              "   (('operation',), 1.0, 0, 1),\n",
              "   (('terms',), 1.0, 0, 1)]),\n",
              " ('MusclepharmCorp_20170208_10-KA_EX-10.38_9893581_EX-10.38_Co-Branding Agreement.pdf2',\n",
              "  [(('financial', 'resources', 'substantially', 'similar'), 16.0, 1, 1),\n",
              "   (('shall', 'specifically', 'assume'), 8.5, 1, 1),\n",
              "   (('control', 'transaction', 'provided'), 8.0, 1, 1),\n",
              "   (('control', 'transaction'), 5.0, 1, 1),\n",
              "   (('assigned', 'without'), 4.0, 0, 1),\n",
              "   (('partiesõ', 'consent'), 4.0, 0, 1),\n",
              "   (('writing', 'prior'), 4.0, 0, 1),\n",
              "   (('musclepharm',), 3.75, 0, 1),\n",
              "   (('musclepharm', 'shall'), 3.75, 0, 1),\n",
              "   (('agreement', 'may'), 3.5, 0, 1),\n",
              "   (('change',), 2.0, 0, 1),\n",
              "   (('agreement',), 1.5, 0, 1),\n",
              "   (('foregoing',), 1.0, 0, 1),\n",
              "   (('acquirer',), 1.0, 0, 1),\n",
              "   (('connection',), 1.0, 0, 1),\n",
              "   (('greater',), 1.0, 0, 1),\n",
              "   (('consummation',), 1.0, 0, 1),\n",
              "   (('nothwithstanding',), 1.0, 0, 1),\n",
              "   (('obligations',), 1.0, 0, 1)])]"
            ]
          },
          "metadata": {},
          "execution_count": 35
        }
      ]
    },
    {
      "cell_type": "markdown",
      "source": [
        "#### 5.1. Edf calculation and keywords identification"
      ],
      "metadata": {
        "id": "XIoS1qbkx4UV"
      }
    },
    {
      "cell_type": "code",
      "source": [
        "method1_change_edf = method1_change_rdd8.flatMap(extract_edf).reduceByKey(lambda a,b: a+b).filter(lambda x: x[1] != 0).sortBy(lambda x: x[1], ascending = False)\n",
        "method1_change_edf.take(20)"
      ],
      "metadata": {
        "colab": {
          "base_uri": "https://localhost:8080/"
        },
        "id": "eGDeSXUAmB3x",
        "outputId": "894f33d5-0f28-4b7c-e6ed-7ba607cda7f0"
      },
      "execution_count": 36,
      "outputs": [
        {
          "output_type": "execute_result",
          "data": {
            "text/plain": [
              "[(('prior', 'written', 'consent'), 11),\n",
              " (('party',), 7),\n",
              " (('control',), 6),\n",
              " (('change',), 5),\n",
              " (('agreement', 'may'), 5),\n",
              " (('effective', 'date'), 4),\n",
              " (('ownership', 'transfer'), 4),\n",
              " (('written', 'notice'), 4),\n",
              " (('would', 'result'), 3),\n",
              " (('control', 'event'), 3),\n",
              " (('agreement', 'upon', 'written', 'notice'), 3),\n",
              " (('agreement',), 3),\n",
              " (('excitehome', 'named', 'competitor'), 3),\n",
              " (('agreement', 'shall', 'terminate'), 3),\n",
              " (('terminated', 'upon'), 3),\n",
              " (('third', 'party'), 3),\n",
              " (('purposes',), 3),\n",
              " (('control', 'shall'), 3),\n",
              " (('licensee',), 3),\n",
              " (('licensor', 'may', 'terminate'), 3)]"
            ]
          },
          "metadata": {},
          "execution_count": 36
        }
      ]
    },
    {
      "cell_type": "markdown",
      "source": [
        "#### 5.2. Rdf calculation"
      ],
      "metadata": {
        "id": "tsp91Uu0yNl5"
      }
    },
    {
      "cell_type": "code",
      "source": [
        "method1_change_rdf = method1_change_rdd8.flatMap(extract_rdf).reduceByKey(lambda a,b: a+b).sortBy(lambda x: x[1], ascending = False)\n",
        "method1_change_rdf.take(20)"
      ],
      "metadata": {
        "colab": {
          "base_uri": "https://localhost:8080/"
        },
        "id": "D_8Cq6mHZdps",
        "outputId": "f307f420-dba0-457c-f425-ad253130d367"
      },
      "execution_count": 37,
      "outputs": [
        {
          "output_type": "execute_result",
          "data": {
            "text/plain": [
              "[(('change',), 104),\n",
              " (('agreement',), 94),\n",
              " (('control',), 83),\n",
              " (('event',), 43),\n",
              " (('party',), 41),\n",
              " (('substantially',), 29),\n",
              " (('transfer',), 27),\n",
              " (('rights',), 27),\n",
              " (('terminate',), 26),\n",
              " (('sale',), 25),\n",
              " (('assets',), 25),\n",
              " (('right',), 24),\n",
              " (('assignment',), 22),\n",
              " (('connection',), 19),\n",
              " (('merger',), 19),\n",
              " (('obligations',), 17),\n",
              " (('operation',), 17),\n",
              " (('prior', 'written', 'consent'), 16),\n",
              " (('writing',), 16),\n",
              " (('termination',), 16)]"
            ]
          },
          "metadata": {},
          "execution_count": 37
        }
      ]
    },
    {
      "cell_type": "markdown",
      "source": [
        "#### 5.3. Ess calculation and the result"
      ],
      "metadata": {
        "id": "6zQ2-3uTZtzu"
      }
    },
    {
      "cell_type": "code",
      "source": [
        "# ess = edf/rdf * edf\n",
        "# gerenrate the tuple like (candidate phrase, (edf, rdf, ess))\n",
        "method1_change_ess = method1_change_edf.join(method1_change_rdf).map(lambda x: (x[0], (x[1][0], x[1][1] ,x[1][0]*x[1][0]/x[1][1]))).sortBy(lambda x: x[1][2], ascending = False)\n",
        "\n",
        "## Filter the candidate phrases whose number of words is greater than 4\n",
        "## Convert the tuple into string\n",
        "method1_change_final_ess = method1_change_ess.filter(lambda x: len(x[0]) <= 4).map(lambda x: (' '.join(x[0]), x[1]))\n",
        "method1_change_final_ess.take(20)"
      ],
      "metadata": {
        "colab": {
          "base_uri": "https://localhost:8080/"
        },
        "id": "NVl_6tdUZ1fS",
        "outputId": "511aedda-9723-4b65-a6e5-4c52496f026b"
      },
      "execution_count": 38,
      "outputs": [
        {
          "output_type": "execute_result",
          "data": {
            "text/plain": [
              "[('prior written consent', (11, 16, 7.5625)),\n",
              " ('ownership transfer', (4, 4, 4.0)),\n",
              " ('agreement upon written notice', (3, 3, 3.0)),\n",
              " ('terminated upon', (3, 3, 3.0)),\n",
              " ('control shall', (3, 3, 3.0)),\n",
              " ('excitehome named competitor', (3, 3, 3.0)),\n",
              " ('licensor may terminate', (3, 3, 3.0)),\n",
              " ('would result', (3, 4, 2.25)),\n",
              " ('agreement shall terminate', (3, 4, 2.25)),\n",
              " ('made third party beneficiaries', (2, 2, 2.0)),\n",
              " ('party may terminate', (2, 2, 2.0)),\n",
              " ('providing written notice', (2, 2, 2.0)),\n",
              " ('control means', (2, 2, 2.0)),\n",
              " ('control shall occur', (2, 2, 2.0)),\n",
              " ('section 16av due', (2, 2, 2.0)),\n",
              " ('shall provide written notice', (2, 2, 2.0)),\n",
              " ('authority granted hereunder shall', (2, 2, 2.0)),\n",
              " ('agreement shall immediately cease', (2, 2, 2.0)),\n",
              " ('sixty 60 days', (2, 2, 2.0)),\n",
              " ('providing prior written notice', (2, 2, 2.0))]"
            ]
          },
          "metadata": {},
          "execution_count": 38
        }
      ]
    },
    {
      "cell_type": "markdown",
      "source": [
        "## Anti-assignment"
      ],
      "metadata": {
        "id": "EIFBhWbCTX5H"
      }
    },
    {
      "cell_type": "markdown",
      "source": [
        "### 1-Map the original RDD to the tuple like [(filename1, clause1),(filename2, clause1)]"
      ],
      "metadata": {
        "id": "VPJJmySLbvCY"
      }
    },
    {
      "cell_type": "code",
      "source": [
        "def row_to_tuple_for_anti(row):\n",
        "  row_dict = row.asDict()\n",
        "  return (row_dict[\"Filename\"], row_dict[\"Anti-assignment\"])       \n",
        "\n",
        "anti_assignment = change_anti.map(row_to_tuple_for_anti)"
      ],
      "metadata": {
        "id": "1NcAicD0j6nb"
      },
      "execution_count": 39,
      "outputs": []
    },
    {
      "cell_type": "code",
      "source": [
        "# map to this format [(filename1, clause1), (filename2, clause2)]\n",
        "# Uing the function of method1_extract defined in the previous section\n",
        "method1_anti_rdd1 = anti_assignment.filter(lambda x: x[1] != None).flatMap(method1_extract).map(lambda x: (x[0],x[1].strip())) #  filter None values and  spaces\n",
        "method1_anti_rdd1.take(10)"
      ],
      "metadata": {
        "colab": {
          "base_uri": "https://localhost:8080/"
        },
        "outputId": "1129230d-c841-4a81-e2c6-be8eddb8d315",
        "id": "2ubzLLYxbvCa"
      },
      "execution_count": 40,
      "outputs": [
        {
          "output_type": "execute_result",
          "data": {
            "text/plain": [
              "[('CybergyHoldingsInc_20140520_10-Q_EX-10.27_8605784_EX-10.27_Affiliate Agreement.pdf1',\n",
              "  'ma may not assign, sell, lease or otherwise transfer in whole or in party any of the rights granted pursuant to this agreement without prior written approval of company.'),\n",
              " ('EuromediaHoldingsCorp_20070215_10SB12G_EX-10.B(01)_525118_EX-10.B(01)_Content License Agreement.pdf1',\n",
              "  'this agreement may not be assigned, sold or transferred without the prior written consent of the other party.'),\n",
              " ('EuromediaHoldingsCorp_20070215_10SB12G_EX-10.B(01)_525118_EX-10.B(01)_Content License Agreement.pdf2',\n",
              "  'notwithstanding the foregoing, rogers may, without consent, assign its rights and obligations under this agreement in whole or in part to: (i) a person that directly or indirectly controls, is controlled by or is under common control with rogers; or (ii) a purchaser of all or substantially all of the assets used in connection with the rod service. a change of control of rogers shall not be considered an assignment of this agreement.'),\n",
              " ('EuromediaHoldingsCorp_20070215_10SB12G_EX-10.B(01)_525118_EX-10.B(01)_Content License Agreement.pdf3',\n",
              "  'any purported assignment, sale, or transfer in contravention of this section shall be null and void.'),\n",
              " ('GopageCorp_20140221_10-K_EX-10.1_8432966_EX-10.1_Content License Agreement.pdf1',\n",
              "  \"licensee shall not assign or otherwise transfer any of its rights, or delegate or otherwise transfer any of its obligations or performance, under this agreement, in each case whether voluntarily, involuntarily, by operation of law or otherwise, without licensor's prior written consent.\"),\n",
              " ('GopageCorp_20140221_10-K_EX-10.1_8432966_EX-10.1_Content License Agreement.pdf2',\n",
              "  'any purported assignment, delegation or transfer in violation of this section 11.7 is void from the outset and shall be of no force or effect.'),\n",
              " ('IdeanomicsInc_20160330_10-K_EX-10.26_9512211_EX-10.26_Content License Agreement.pdf1',\n",
              "  'licensee shall have the right to assign or sublicense any or all of its rights granted under this agreement, in whole or in part, to third parties exhibiting the titles in the ordinary course of licenseeõs business with prior written notice to licensor and subject to the applicable limitations (if any) in section 2(a)(i) [license grant]'),\n",
              " ('IdeanomicsInc_20160330_10-K_EX-10.26_9512211_EX-10.26_Content License Agreement.pdf2',\n",
              "  'except as otherwise specified in the previous sentence, licensee may not sublicense any of its rights under section 2(a) [license grant] without licensorõs prior written consent, which shall not be unreasonably withheld or delayed.'),\n",
              " ('IdeanomicsInc_20160330_10-K_EX-10.26_9512211_EX-10.26_Content License Agreement.pdf3',\n",
              "  'neither party may assign its rights, duties or obligations under this agreement to any third party in whole or in part, without the other partyõs prior written consent, except that (i) licensee may assign its rights and obligations to this agreement to any of its affiliate or subsidiaries with the prior written consent of the licensor, and (ii) licensor may assign its rights and obligations in this agreement to its affiliates or subsidiaries and either party may assign this agreement in its entirety to any purchaser of all or substantially all of its business or assets pertaining to the line of business to which this agreement relates or to any affiliate of the party without the other partyõs approval.'),\n",
              " ('DeltathreeInc_19991102_S-1A_EX-10.19_6227850_EX-10.19_Co-Branding Agreement_ Service Agreement.pdf1',\n",
              "  'however')]"
            ]
          },
          "metadata": {},
          "execution_count": 40
        }
      ]
    },
    {
      "cell_type": "markdown",
      "source": [
        "### 2-candidate Phrase Identification"
      ],
      "metadata": {
        "id": "BSueTSS3bvCa"
      }
    },
    {
      "cell_type": "markdown",
      "source": [
        "removing stopwords and punctuation, then generating candidate phrases."
      ],
      "metadata": {
        "id": "wHDbT3FnbvCa"
      }
    },
    {
      "cell_type": "code",
      "source": [
        "# map to the format like (filename, list of candidate phrases)\n",
        "method1_anti_rdd2 = method1_anti_rdd1.map(method1_preprocessing).filter(lambda x: x[1] != ' ')\n",
        "method1_anti_rdd2.take(2)"
      ],
      "metadata": {
        "colab": {
          "base_uri": "https://localhost:8080/"
        },
        "outputId": "b1525609-eede-41ee-84f2-25537963312e",
        "id": "ruOT2pjxbvCa"
      },
      "execution_count": 41,
      "outputs": [
        {
          "output_type": "execute_result",
          "data": {
            "text/plain": [
              "[('CybergyHoldingsInc_20140520_10-Q_EX-10.27_8605784_EX-10.27_Affiliate Agreement.pdf1',\n",
              "  ['',\n",
              "   ' may ',\n",
              "   ' assign sell lease ',\n",
              "   ' otherwise transfer ',\n",
              "   ' whole ',\n",
              "   ' ',\n",
              "   ' party ',\n",
              "   ' ',\n",
              "   ' ',\n",
              "   ' rights granted pursuant ',\n",
              "   ' ',\n",
              "   ' agreement without prior written approval ',\n",
              "   ' company']),\n",
              " ('EuromediaHoldingsCorp_20070215_10SB12G_EX-10.B(01)_525118_EX-10.B(01)_Content License Agreement.pdf1',\n",
              "  ['',\n",
              "   ' agreement may ',\n",
              "   ' ',\n",
              "   ' assigned sold ',\n",
              "   ' transferred without ',\n",
              "   ' prior written consent ',\n",
              "   ' ',\n",
              "   ' ',\n",
              "   ' party'])]"
            ]
          },
          "metadata": {},
          "execution_count": 41
        }
      ]
    },
    {
      "cell_type": "code",
      "source": [
        "# remove extra spaces\n",
        "# Map the candidate phrases to the list format, and each word is split by comma for each candidate phrase of each document\n",
        "method1_anti_rdd_list = method1_anti_rdd2.map(remove_space_list)\n",
        "method1_anti_rdd_list.take(2)"
      ],
      "metadata": {
        "colab": {
          "base_uri": "https://localhost:8080/"
        },
        "outputId": "9beaa9e9-23e8-4acb-9523-d314552c2805",
        "id": "gUAgI98_bvCa"
      },
      "execution_count": 42,
      "outputs": [
        {
          "output_type": "execute_result",
          "data": {
            "text/plain": [
              "[('CybergyHoldingsInc_20140520_10-Q_EX-10.27_8605784_EX-10.27_Affiliate Agreement.pdf1',\n",
              "  [['may'],\n",
              "   ['assign', 'sell', 'lease'],\n",
              "   ['otherwise', 'transfer'],\n",
              "   ['whole'],\n",
              "   ['party'],\n",
              "   ['rights', 'granted', 'pursuant'],\n",
              "   ['agreement', 'without', 'prior', 'written', 'approval'],\n",
              "   ['company']]),\n",
              " ('EuromediaHoldingsCorp_20070215_10SB12G_EX-10.B(01)_525118_EX-10.B(01)_Content License Agreement.pdf1',\n",
              "  [['agreement', 'may'],\n",
              "   ['assigned', 'sold'],\n",
              "   ['transferred', 'without'],\n",
              "   ['prior', 'written', 'consent'],\n",
              "   ['party']])]"
            ]
          },
          "metadata": {},
          "execution_count": 42
        }
      ]
    },
    {
      "cell_type": "markdown",
      "source": [
        "### 3- Word Score Calculation"
      ],
      "metadata": {
        "id": "IiKk1nZQbvCb"
      }
    },
    {
      "cell_type": "code",
      "source": [
        "# Generate the tuple like ((filename, single_word), candidate phrase,  fre(w), deg(w))) for each phrase of each document\n",
        "# the third number of each tuple is 1 which means frequency of each word for the one candidate phrase \n",
        "# and the fourth number is the length of candidate phrases since deg(w) = fre(w) + co-occurrence.\n",
        "# In detail, fre(w) is equal to 1, and co-occurrence equals the length(candidate_phrase)-1. In this way, deg(w) = length of candidate phrase.\n",
        "method1_anti_rdd2 = method1_anti_rdd_list.flatMap(ls_fre_deg)\n",
        "method1_anti_rdd2.take(3)"
      ],
      "metadata": {
        "colab": {
          "base_uri": "https://localhost:8080/"
        },
        "outputId": "d49d578e-ae02-49ae-bec8-6cbe4c35c5b9",
        "id": "FZxFOGYibvCb"
      },
      "execution_count": 43,
      "outputs": [
        {
          "output_type": "execute_result",
          "data": {
            "text/plain": [
              "[(('CybergyHoldingsInc_20140520_10-Q_EX-10.27_8605784_EX-10.27_Affiliate Agreement.pdf1',\n",
              "   'may'),\n",
              "  ['may'],\n",
              "  1,\n",
              "  1),\n",
              " (('CybergyHoldingsInc_20140520_10-Q_EX-10.27_8605784_EX-10.27_Affiliate Agreement.pdf1',\n",
              "   'assign'),\n",
              "  ['assign', 'sell', 'lease'],\n",
              "  1,\n",
              "  3),\n",
              " (('CybergyHoldingsInc_20140520_10-Q_EX-10.27_8605784_EX-10.27_Affiliate Agreement.pdf1',\n",
              "   'sell'),\n",
              "  ['assign', 'sell', 'lease'],\n",
              "  1,\n",
              "  3)]"
            ]
          },
          "metadata": {},
          "execution_count": 43
        }
      ]
    },
    {
      "cell_type": "code",
      "source": [
        "# This RDD is for joining later\n",
        "method1_anti_rdd = method1_anti_rdd2.map(lambda x: (x[0], x[1]))\n",
        "method1_anti_rdd.take(3)"
      ],
      "metadata": {
        "colab": {
          "base_uri": "https://localhost:8080/"
        },
        "outputId": "cb0e64c6-9181-49c1-8cd2-72bcf3928af0",
        "id": "8jmdWgOVbvCb"
      },
      "execution_count": 44,
      "outputs": [
        {
          "output_type": "execute_result",
          "data": {
            "text/plain": [
              "[(('CybergyHoldingsInc_20140520_10-Q_EX-10.27_8605784_EX-10.27_Affiliate Agreement.pdf1',\n",
              "   'may'),\n",
              "  ['may']),\n",
              " (('CybergyHoldingsInc_20140520_10-Q_EX-10.27_8605784_EX-10.27_Affiliate Agreement.pdf1',\n",
              "   'assign'),\n",
              "  ['assign', 'sell', 'lease']),\n",
              " (('CybergyHoldingsInc_20140520_10-Q_EX-10.27_8605784_EX-10.27_Affiliate Agreement.pdf1',\n",
              "   'sell'),\n",
              "  ['assign', 'sell', 'lease'])]"
            ]
          },
          "metadata": {},
          "execution_count": 44
        }
      ]
    },
    {
      "cell_type": "markdown",
      "source": [
        "#### 3.1.Fre(w) calculation for each word"
      ],
      "metadata": {
        "id": "nuoIQqkKbvCb"
      }
    },
    {
      "cell_type": "code",
      "source": [
        "method1_anti_fre = method1_anti_rdd2.map(lambda x: (x[0], x[2])).reduceByKey(lambda a,b: a+b).sortBy(lambda x: x[1], ascending = False)\n",
        "method1_anti_fre.take(5)"
      ],
      "metadata": {
        "colab": {
          "base_uri": "https://localhost:8080/"
        },
        "outputId": "167cce0c-9709-4fbe-af52-cbf173b4b3ff",
        "id": "lLCIYsVzbvCb"
      },
      "execution_count": 45,
      "outputs": [
        {
          "output_type": "execute_result",
          "data": {
            "text/plain": [
              "[(('JOINTCORP_09_19_2014-EX-10.15-FRANCHISE AGREEMENT.PDF3', 'franchise'), 14),\n",
              " (('JOINTCORP_09_19_2014-EX-10.15-FRANCHISE AGREEMENT.PDF3', 'new'), 14),\n",
              " (('JOINTCORP_09_19_2014-EX-10.15-FRANCHISE AGREEMENT.PDF3', 'must'), 13),\n",
              " (('JOINTCORP_09_19_2014-EX-10.15-FRANCHISE AGREEMENT.PDF3', 'us'), 13),\n",
              " (('JOINTCORP_09_19_2014-EX-10.15-FRANCHISE AGREEMENT.PDF3', 'proposed'), 12)]"
            ]
          },
          "metadata": {},
          "execution_count": 45
        }
      ]
    },
    {
      "cell_type": "markdown",
      "source": [
        "#### 3.2.Deg(w) calculation for each word"
      ],
      "metadata": {
        "id": "qN0DnLJ6bvCb"
      }
    },
    {
      "cell_type": "code",
      "source": [
        "method1_anti_deg = method1_anti_rdd2.map(lambda x: (x[0], x[3])).reduceByKey(lambda a,b: a+b).sortBy(lambda x: x[1], ascending = False)\n",
        "method1_anti_deg.take(5)"
      ],
      "metadata": {
        "colab": {
          "base_uri": "https://localhost:8080/"
        },
        "outputId": "deeaa2e9-46be-4ed4-df89-838cf10c073f",
        "id": "TSRrvcGtbvCc"
      },
      "execution_count": 46,
      "outputs": [
        {
          "output_type": "execute_result",
          "data": {
            "text/plain": [
              "[(('JOINTCORP_09_19_2014-EX-10.15-FRANCHISE AGREEMENT.PDF3', 'new'), 53),\n",
              " (('JOINTCORP_09_19_2014-EX-10.15-FRANCHISE AGREEMENT.PDF3', 'proposed'), 47),\n",
              " (('JOINTCORP_09_19_2014-EX-10.15-FRANCHISE AGREEMENT.PDF3', 'owner'), 39),\n",
              " (('JOINTCORP_09_19_2014-EX-10.15-FRANCHISE AGREEMENT.PDF3', 'must'), 38),\n",
              " (('JOINTCORP_09_19_2014-EX-10.15-FRANCHISE AGREEMENT.PDF3', 'franchise'), 33)]"
            ]
          },
          "metadata": {},
          "execution_count": 46
        }
      ]
    },
    {
      "cell_type": "markdown",
      "source": [
        "#### 3.3.Ratio of fre(w) and deg(w) calculation for each word"
      ],
      "metadata": {
        "id": "QNpyzbJbbvCc"
      }
    },
    {
      "cell_type": "code",
      "source": [
        "method1_anti_score = method1_anti_fre.join(method1_anti_deg).map(lambda x: (x[0],x[1][1]/x[1][0]))\n",
        "method1_anti_score.take(5)"
      ],
      "metadata": {
        "colab": {
          "base_uri": "https://localhost:8080/"
        },
        "outputId": "5d99e904-9cf4-4126-af83-3bf9f80f8b86",
        "id": "WORLdKqbbvCc"
      },
      "execution_count": 47,
      "outputs": [
        {
          "output_type": "execute_result",
          "data": {
            "text/plain": [
              "[(('JOINTCORP_09_19_2014-EX-10.15-FRANCHISE AGREEMENT.PDF3', 'franchise'),\n",
              "  2.357142857142857),\n",
              " (('ZogenixInc_20190509_10-Q_EX-10.2_11663313_EX-10.2_Distributor Agreement.pdf1',\n",
              "   'party'),\n",
              "  2.6363636363636362),\n",
              " (('JOINTCORP_09_19_2014-EX-10.15-FRANCHISE AGREEMENT.PDF3', 'transfer'),\n",
              "  1.6363636363636365),\n",
              " (('RevolutionMedicinesInc_20200117_S-1_EX-10.1_11948417_EX-10.1_Development Agreement.pdf4',\n",
              "   'family'),\n",
              "  2.8),\n",
              " (('UpjohnInc_20200121_10-12G_EX-2.6_11948692_EX-2.6_Manufacturing Agreement_ Supply Agreement.pdf1',\n",
              "   'facility'),\n",
              "  1.875)]"
            ]
          },
          "metadata": {},
          "execution_count": 47
        }
      ]
    },
    {
      "cell_type": "markdown",
      "source": [
        "### 4-Candidate Phrase Score Calculation"
      ],
      "metadata": {
        "id": "TxBX_x8ybvCc"
      }
    },
    {
      "cell_type": "code",
      "source": [
        "method1_anti_rdd4 = method1_anti_rdd.join(method1_anti_score).map(lambda x: (x[0][0],(tuple(x[1][0]),x[1][1])))\n",
        "method1_anti_rdd5 = method1_anti_rdd4.map(lambda x: ((x[0], x[1][0]),x[1][1])).reduceByKey(lambda a,b: a+b)\n",
        "method1_anti_rdd6 = method1_anti_rdd5.map(lambda x: (x[0][0],(x[0][1],x[1])))\n",
        "method1_anti_rdd6.take(5)"
      ],
      "metadata": {
        "colab": {
          "base_uri": "https://localhost:8080/"
        },
        "outputId": "ad6685e1-7fb5-4ef7-c5e2-674f0dda1589",
        "id": "OO5Yqm3kbvCc"
      },
      "execution_count": 48,
      "outputs": [
        {
          "output_type": "execute_result",
          "data": {
            "text/plain": [
              "[('CybergyHoldingsInc_20140520_10-Q_EX-10.27_8605784_EX-10.27_Affiliate Agreement.pdf1',\n",
              "  (('agreement', 'without', 'prior', 'written', 'approval'), 25.0)),\n",
              " ('EuromediaHoldingsCorp_20070215_10SB12G_EX-10.B(01)_525118_EX-10.B(01)_Content License Agreement.pdf1',\n",
              "  (('assigned', 'sold'), 4.0)),\n",
              " ('EuromediaHoldingsCorp_20070215_10SB12G_EX-10.B(01)_525118_EX-10.B(01)_Content License Agreement.pdf2',\n",
              "  (('whole',), 1.0)),\n",
              " ('EuromediaHoldingsCorp_20070215_10SB12G_EX-10.B(01)_525118_EX-10.B(01)_Content License Agreement.pdf2',\n",
              "  (('part',), 1.0)),\n",
              " ('EuromediaHoldingsCorp_20070215_10SB12G_EX-10.B(01)_525118_EX-10.B(01)_Content License Agreement.pdf2',\n",
              "  (('person',), 1.0))]"
            ]
          },
          "metadata": {},
          "execution_count": 48
        }
      ]
    },
    {
      "cell_type": "code",
      "source": [
        "# using groupByKey() to group the candidate phrases with the same filename\n",
        "method1_anti_phrase_score = method1_anti_rdd6.groupByKey().map(lambda x: (x[0], list(x[1])))\n",
        "method1_anti_phrase_score.take(1)"
      ],
      "metadata": {
        "colab": {
          "base_uri": "https://localhost:8080/"
        },
        "outputId": "4be210fb-b07e-4fa5-c411-301e3a0048bf",
        "id": "wBDhQq1kbvCc"
      },
      "execution_count": 49,
      "outputs": [
        {
          "output_type": "execute_result",
          "data": {
            "text/plain": [
              "[('IdeanomicsInc_20160330_10-K_EX-10.26_9512211_EX-10.26_Content License Agreement.pdf1',\n",
              "  [(('assign',), 1.0),\n",
              "   (('right',), 1.0),\n",
              "   (('whole',), 1.0),\n",
              "   (('licenseeõs', 'business'), 4.0),\n",
              "   (('part',), 1.0),\n",
              "   (('prior', 'written', 'notice'), 9.0),\n",
              "   (('licensor',), 1.0),\n",
              "   (('agreement',), 1.0),\n",
              "   (('subject',), 1.0),\n",
              "   (('licensee', 'shall'), 4.0),\n",
              "   (('sublicense',), 1.0),\n",
              "   (('third', 'parties', 'exhibiting'), 9.0),\n",
              "   (('ordinary', 'course'), 4.0),\n",
              "   (('section', '2ai', 'license', 'grant'), 16.0),\n",
              "   (('rights', 'granted'), 4.0),\n",
              "   (('applicable', 'limitations'), 4.0),\n",
              "   (('titles',), 1.0)])]"
            ]
          },
          "metadata": {},
          "execution_count": 49
        }
      ]
    },
    {
      "cell_type": "markdown",
      "source": [
        "### 5-The edf, rdf and ess calculation for each candidate phrase"
      ],
      "metadata": {
        "id": "-0WQ0gCbbvCd"
      }
    },
    {
      "cell_type": "code",
      "source": [
        "# generate the format like(candidate_phrase, ratio_score, edf_score, rdf_score)\n",
        "# the first tuple in the entire tuple refers to one word of each document(clause), \n",
        "# the second is the list of the word’s candidate phrase\n",
        "# the third number is 1 which represents the frequency of each single word for the candidate phrase\n",
        "# and the fourth number means the degree of single word(frequency+ co-occurrence).\n",
        "method1_anti_rdd8 = method1_anti_phrase_score.map(method1_candidate_phrase)\n",
        "method1_anti_rdd8.take(1)"
      ],
      "metadata": {
        "colab": {
          "base_uri": "https://localhost:8080/"
        },
        "outputId": "186cc0c5-b474-4272-94dc-ffe42ce72d58",
        "id": "9f9cMmvqbvCd"
      },
      "execution_count": 55,
      "outputs": [
        {
          "output_type": "execute_result",
          "data": {
            "text/plain": [
              "[('IdeanomicsInc_20160330_10-K_EX-10.26_9512211_EX-10.26_Content License Agreement.pdf1',\n",
              "  [(('section', '2ai', 'license', 'grant'), 16.0, 1, 1),\n",
              "   (('prior', 'written', 'notice'), 9.0, 1, 1),\n",
              "   (('third', 'parties', 'exhibiting'), 9.0, 1, 1),\n",
              "   (('licenseeõs', 'business'), 4.0, 1, 1),\n",
              "   (('licensee', 'shall'), 4.0, 0, 1),\n",
              "   (('ordinary', 'course'), 4.0, 0, 1),\n",
              "   (('rights', 'granted'), 4.0, 0, 1),\n",
              "   (('applicable', 'limitations'), 4.0, 0, 1),\n",
              "   (('assign',), 1.0, 0, 1),\n",
              "   (('right',), 1.0, 0, 1),\n",
              "   (('whole',), 1.0, 0, 1),\n",
              "   (('part',), 1.0, 0, 1),\n",
              "   (('licensor',), 1.0, 0, 1),\n",
              "   (('agreement',), 1.0, 0, 1),\n",
              "   (('subject',), 1.0, 0, 1),\n",
              "   (('sublicense',), 1.0, 0, 1),\n",
              "   (('titles',), 1.0, 0, 1)])]"
            ]
          },
          "metadata": {},
          "execution_count": 55
        }
      ]
    },
    {
      "cell_type": "markdown",
      "source": [
        "#### 5.1. Edf calculation and keywords identification"
      ],
      "metadata": {
        "id": "3IKFaQT12ZBr"
      }
    },
    {
      "cell_type": "code",
      "source": [
        "method1_anti_edf = method1_anti_rdd8.flatMap(extract_edf).reduceByKey(lambda a,b: a+b).filter(lambda x: x[1] != 0).sortBy(lambda x: x[1], ascending = False)\n",
        "method1_anti_edf.take(20)"
      ],
      "metadata": {
        "colab": {
          "base_uri": "https://localhost:8080/"
        },
        "outputId": "ac2e8fbd-6a0e-4c9e-85a6-a85255798a8c",
        "id": "hbY1twKDbvCd"
      },
      "execution_count": 56,
      "outputs": [
        {
          "output_type": "execute_result",
          "data": {
            "text/plain": [
              "[(('prior', 'written', 'consent'), 206),\n",
              " (('neither', 'party', 'may', 'assign'), 43),\n",
              " (('agreement', 'without'), 40),\n",
              " (('agreement',), 37),\n",
              " (('void',), 36),\n",
              " (('party',), 33),\n",
              " (('either', 'party', 'without'), 30),\n",
              " (('agreement', 'may'), 26),\n",
              " (('unreasonably', 'withheld'), 23),\n",
              " (('either', 'party', 'may', 'assign'), 22),\n",
              " (('attempted', 'assignment'), 20),\n",
              " (('third', 'party'), 20),\n",
              " (('agreement', 'shall'), 20),\n",
              " (('consent', 'shall'), 19),\n",
              " (('assignment',), 19),\n",
              " (('obligations', 'hereunder', 'without'), 16),\n",
              " (('third', 'party', 'without'), 16),\n",
              " (('unreasonably', 'withheld', 'conditioned'), 15),\n",
              " (('party', 'may', 'assign'), 13),\n",
              " (('null',), 13)]"
            ]
          },
          "metadata": {},
          "execution_count": 56
        }
      ]
    },
    {
      "cell_type": "markdown",
      "source": [
        "#### 5.2. Rdf calculation"
      ],
      "metadata": {
        "id": "xIfzzd2Y2-Bs"
      }
    },
    {
      "cell_type": "code",
      "source": [
        "method1_anti_rdf = method1_anti_rdd8.flatMap(extract_rdf).reduceByKey(lambda a,b: a+b).sortBy(lambda x: x[1], ascending = False)\n",
        "method1_anti_rdf.take(20)"
      ],
      "metadata": {
        "colab": {
          "base_uri": "https://localhost:8080/"
        },
        "outputId": "ee7f686d-46cb-47ee-82b4-a0c8b7e1b5c1",
        "id": "zZAIsO8XbvCd"
      },
      "execution_count": 57,
      "outputs": [
        {
          "output_type": "execute_result",
          "data": {
            "text/plain": [
              "[(('agreement',), 303),\n",
              " (('prior', 'written', 'consent'), 242),\n",
              " (('rights',), 221),\n",
              " (('party',), 177),\n",
              " (('obligations',), 135),\n",
              " (('assign',), 128),\n",
              " (('assignment',), 100),\n",
              " (('void',), 99),\n",
              " (('transfer',), 98),\n",
              " (('assigned',), 92),\n",
              " (('substantially',), 86),\n",
              " (('whole',), 81),\n",
              " (('agreement', 'without'), 80),\n",
              " (('right',), 74),\n",
              " (('assets',), 72),\n",
              " (('part',), 70),\n",
              " (('consent',), 69),\n",
              " (('operation',), 66),\n",
              " (('shall',), 55),\n",
              " (('sale',), 55)]"
            ]
          },
          "metadata": {},
          "execution_count": 57
        }
      ]
    },
    {
      "cell_type": "markdown",
      "source": [
        "#### 5.3. Ess calculation and the result"
      ],
      "metadata": {
        "id": "2ag1WdiRbvCd"
      }
    },
    {
      "cell_type": "code",
      "source": [
        "# ess = edf * edf/rdf \n",
        "# gerenrate the tuple like (candidate phrase, (edf, rdf, ess))\n",
        "method1_anti_ess = method1_anti_edf.join(method1_anti_rdf).map(lambda x: (x[0], (x[1][0], x[1][1] ,x[1][0]*x[1][0]/x[1][1]))).sortBy(lambda x: x[1][2], ascending = False)\n",
        "\n",
        "## Filter the candidate phrases whose number of words is greater than 4\n",
        "## Convert the tuple into string\n",
        "method1_anti_final_ess = method1_anti_ess.filter(lambda x: len(x[0]) <= 4).map(lambda x: (' '.join(x[0]), x[1]))\n",
        "method1_anti_final_ess.take(20)"
      ],
      "metadata": {
        "colab": {
          "base_uri": "https://localhost:8080/"
        },
        "outputId": "7e6f76f1-9a9d-46d2-872a-3f6d3b759c29",
        "id": "zzicONNjbvCd"
      },
      "execution_count": 58,
      "outputs": [
        {
          "output_type": "execute_result",
          "data": {
            "text/plain": [
              "[('prior written consent', (206, 242, 175.35537190082644)),\n",
              " ('neither party may assign', (43, 44, 42.02272727272727)),\n",
              " ('either party without', (30, 40, 22.5)),\n",
              " ('either party may assign', (22, 23, 21.043478260869566)),\n",
              " ('agreement without', (40, 80, 20.0)),\n",
              " ('unreasonably withheld conditioned', (15, 15, 15.0)),\n",
              " ('attempted assignment', (20, 27, 14.814814814814815)),\n",
              " ('agreement may', (26, 49, 13.795918367346939)),\n",
              " ('third party without', (16, 19, 13.473684210526315)),\n",
              " ('void', (36, 99, 13.090909090909092)),\n",
              " ('neither party shall assign', (12, 12, 12.0)),\n",
              " ('express written consent', (12, 12, 12.0)),\n",
              " ('obligations hereunder without', (16, 25, 10.24)),\n",
              " ('prior written approval', (10, 10, 10.0)),\n",
              " ('party may assign', (13, 17, 9.941176470588236)),\n",
              " ('unreasonably withheld', (23, 54, 9.796296296296296)),\n",
              " ('agreement shall', (20, 44, 9.090909090909092)),\n",
              " ('neither party shall', (10, 11, 9.090909090909092)),\n",
              " ('express prior written consent', (9, 9, 9.0)),\n",
              " ('consent shall', (19, 42, 8.595238095238095))]"
            ]
          },
          "metadata": {},
          "execution_count": 58
        }
      ]
    },
    {
      "cell_type": "markdown",
      "source": [
        "# Method 2"
      ],
      "metadata": {
        "id": "m_GGIdlm3vhj"
      }
    },
    {
      "cell_type": "markdown",
      "source": [
        "## Governing_law"
      ],
      "metadata": {
        "id": "uj4wBd8ZkpO3"
      }
    },
    {
      "cell_type": "markdown",
      "source": [
        "### 1-Candidate Phrase Identification"
      ],
      "metadata": {
        "id": "dVAoB8ur5boO"
      }
    },
    {
      "cell_type": "code",
      "source": [
        "def gov_row_to_tuple (row):\n",
        "  row_dict = row.asDict()\n",
        "  return row_dict[\"Governing Law\"]\n",
        "\n",
        "gov_rdd = Governing_law.map(gov_row_to_tuple)"
      ],
      "metadata": {
        "id": "DDmBC3rukHUV"
      },
      "execution_count": 59,
      "outputs": []
    },
    {
      "cell_type": "code",
      "source": [
        "# removing pages and covert all into lower case\n",
        "def preprocessing(record):\n",
        "  doc = re.sub(r'\\([Pp]age.*?\\)', \"\", record) # removing pages\n",
        "  doc = doc.lower() # convert lowercase\n",
        "  return doc\n",
        "\n",
        "# filter nan and delete spaces\n",
        "gov_rdd1 = gov_rdd.map(preprocessing).filter(lambda x: x != 'nan').map(lambda x: x.strip())\n",
        "gov_rdd1.take(5)"
      ],
      "metadata": {
        "id": "B1gn6uTordQw",
        "colab": {
          "base_uri": "https://localhost:8080/"
        },
        "outputId": "3fdb1517-1f54-47e8-d5a3-54270472e038"
      },
      "execution_count": 60,
      "outputs": [
        {
          "output_type": "execute_result",
          "data": {
            "text/plain": [
              "['this agreement is accepted by company in the state of nevada and shall be governed by and construed in accordance with the laws thereof, which laws shall prevail in the event of any conflict.',\n",
              " 'this agreement shall be governed by laws of the province of ontario and the federal laws of canada applicable therein.   this agreement is subject to all laws, regulations, license conditions and decisions of the canadian radio-television and telecommunications commission (‚äúcrtc‚äù) municipal, provincial and federal governments or other authorities which are applicable to rogers and/or licensor, and which are now in force or hereafter adopted (‚äúapplicable law‚äù).',\n",
              " 'all questions with respect to the construction of this agreement, and the rights and liabilities of the parties hereto, shall be governed by the laws of the state of florida.',\n",
              " 'this agreement shall be governed by and construed in accordance with the internal laws of the state of nevada without giving effect to any choice or conflict of law provision or rule.',\n",
              " 'this agreement shall be governed by and construed in all respects in accordance with the laws of the state of new york, without giving effect to any conflicts of laws principles.']"
            ]
          },
          "metadata": {},
          "execution_count": 60
        }
      ]
    },
    {
      "cell_type": "code",
      "source": [
        "def ExtractContentWord(record):\n",
        "  docs = ''\n",
        "  for word in record:\n",
        "    if word in punctuation:  # convert punctuation into \"|\"\n",
        "      docs += \"|\"\n",
        "    else:\n",
        "      docs += word\n",
        "\n",
        "  docs = re.sub(r'[^\\w\\s]', '|', docs)  # remove other punctuation\n",
        "\n",
        "  doc_word = docs.split(\" \")             \n",
        "  for word in stopwords:             # convert stopwords into \"|\"\n",
        "      doc_word = [ \"|\" if word == w else w for w in doc_word]   \n",
        "     \n",
        " \n",
        "  sentence = \" \".join(doc_word)   \n",
        "  sentence = sentence.split(\"|\")  \n",
        "  return sentence\n",
        "\n",
        "# remove empty values and spacess\n",
        "gov_list_candidate = gov_rdd1.flatMap(ExtractContentWord).filter(lambda x: x != ' ').map(lambda x: x.strip()).filter(lambda x: x!= '') \n",
        "gov_list_candidate.take(10)"
      ],
      "metadata": {
        "id": "NWum5-93zzLF",
        "colab": {
          "base_uri": "https://localhost:8080/"
        },
        "outputId": "48d9309c-3fe1-4267-a7d1-d2a0949fc566"
      },
      "execution_count": 61,
      "outputs": [
        {
          "output_type": "execute_result",
          "data": {
            "text/plain": [
              "['agreement',\n",
              " 'accepted',\n",
              " 'company',\n",
              " 'state',\n",
              " 'nevada',\n",
              " 'shall',\n",
              " 'governed',\n",
              " 'construed',\n",
              " 'accordance',\n",
              " 'laws thereof']"
            ]
          },
          "metadata": {},
          "execution_count": 61
        }
      ]
    },
    {
      "cell_type": "code",
      "source": [
        "# Convert the candidate phrase into list format like ['agreement']\n",
        "def Tolist(record):\n",
        "  try:\n",
        "    ls = record.split(\" \")\n",
        "    return ls\n",
        "  except:\n",
        "    return [record]\n",
        "\n",
        "# return (word, candidate phrases, fre(w), deg(w))\n",
        "def ExtractEachWord(record):\n",
        "  ls = []\n",
        "  for i in record:\n",
        "    ls.append((i, record, 1, len(record)))\n",
        "  return ls\n",
        "\n",
        "\n",
        "# Generate distinct candidate phrase and return (word, candidate_phrase) which is for joining with score of single word and using filter operation to remove the number of words greater tahn 4\n",
        "gov_distinct = gov_list_candidate.distinct().map(Tolist).flatMap(ExtractEachWord).map(lambda x: (x[0], x[1])).filter(lambda x: len(x[1]) <= 4) \n",
        "gov_distinct.take(20)"
      ],
      "metadata": {
        "id": "ED3AA78FK3N9",
        "colab": {
          "base_uri": "https://localhost:8080/"
        },
        "outputId": "c64e3318-afe9-42ba-aee3-3be833259f9f"
      },
      "execution_count": 62,
      "outputs": [
        {
          "output_type": "execute_result",
          "data": {
            "text/plain": [
              "[('agreement', ['agreement']),\n",
              " ('accepted', ['accepted']),\n",
              " ('company', ['company']),\n",
              " ('state', ['state']),\n",
              " ('nevada', ['nevada']),\n",
              " ('shall', ['shall']),\n",
              " ('governed', ['governed']),\n",
              " ('construed', ['construed']),\n",
              " ('accordance', ['accordance']),\n",
              " ('laws', ['laws', 'thereof']),\n",
              " ('thereof', ['laws', 'thereof']),\n",
              " ('laws', ['laws', 'shall', 'prevail']),\n",
              " ('shall', ['laws', 'shall', 'prevail']),\n",
              " ('prevail', ['laws', 'shall', 'prevail']),\n",
              " ('event', ['event']),\n",
              " ('conflict', ['conflict']),\n",
              " ('agreement', ['agreement', 'shall']),\n",
              " ('shall', ['agreement', 'shall']),\n",
              " ('laws', ['laws']),\n",
              " ('province', ['province'])]"
            ]
          },
          "metadata": {},
          "execution_count": 62
        }
      ]
    },
    {
      "cell_type": "markdown",
      "source": [
        "### 2-Word Score Calculation"
      ],
      "metadata": {
        "id": "3969s9JFNay5"
      }
    },
    {
      "cell_type": "code",
      "source": [
        "# Generate the tuple like (single word, candidate phrase,  fre(w), deg(w))) for each phrase of each document\n",
        "# the third number of each tuple is 1 which means frequency of each word for the one candidate phrase \n",
        "# and the fourth number is the length of candidate phrases since deg(w) = fre(w) + co-occurrence.\n",
        "# In detail, fre(w) is equal to 1, and co-occurrence equals the length(candidate_phrase)-1. In this way, deg(w) = length of candidate phrase.\n",
        "gov_list_score = gov_list_candidate.map(Tolist).flatMap(ExtractEachWord)\n",
        "gov_list_score.take(10)"
      ],
      "metadata": {
        "id": "6Jc754nvYxSl",
        "colab": {
          "base_uri": "https://localhost:8080/"
        },
        "outputId": "3d3d75bb-14ef-4391-b656-ed5e40c5fd27"
      },
      "execution_count": 63,
      "outputs": [
        {
          "output_type": "execute_result",
          "data": {
            "text/plain": [
              "[('agreement', ['agreement'], 1, 1),\n",
              " ('accepted', ['accepted'], 1, 1),\n",
              " ('company', ['company'], 1, 1),\n",
              " ('state', ['state'], 1, 1),\n",
              " ('nevada', ['nevada'], 1, 1),\n",
              " ('shall', ['shall'], 1, 1),\n",
              " ('governed', ['governed'], 1, 1),\n",
              " ('construed', ['construed'], 1, 1),\n",
              " ('accordance', ['accordance'], 1, 1),\n",
              " ('laws', ['laws', 'thereof'], 1, 2)]"
            ]
          },
          "metadata": {},
          "execution_count": 63
        }
      ]
    },
    {
      "cell_type": "markdown",
      "source": [
        "#### 2.1.Fre(w) calculation for each word"
      ],
      "metadata": {
        "id": "VHHBqooR6a4C"
      }
    },
    {
      "cell_type": "code",
      "source": [
        "gov_fre = gov_list_score.map(lambda x: (x[0], x[2])).reduceByKey(lambda a,b: a+b).filter(lambda x: x[0] != '').sortBy(lambda x: x[1], ascending = False)\n",
        "gov_fre.take(10)"
      ],
      "metadata": {
        "id": "0j1DScdkg9SN",
        "colab": {
          "base_uri": "https://localhost:8080/"
        },
        "outputId": "fa2279af-7a7c-4f96-c0b6-4a71fd7778d2"
      },
      "execution_count": 64,
      "outputs": [
        {
          "output_type": "execute_result",
          "data": {
            "text/plain": [
              "[('laws', 622),\n",
              " ('agreement', 478),\n",
              " ('state', 423),\n",
              " ('shall', 397),\n",
              " ('governed', 389),\n",
              " ('accordance', 295),\n",
              " ('construed', 279),\n",
              " ('without', 225),\n",
              " ('law', 213),\n",
              " ('principles', 145)]"
            ]
          },
          "metadata": {},
          "execution_count": 64
        }
      ]
    },
    {
      "cell_type": "markdown",
      "source": [
        "#### 2.2.Deg(w) calculation for each word"
      ],
      "metadata": {
        "id": "3KUYnVjD6oW-"
      }
    },
    {
      "cell_type": "code",
      "source": [
        "gov_deg =  gov_list_score.map(lambda x:(x[0], x[3])).reduceByKey(lambda a,b: a+b).filter(lambda x: x[0] != '').sortBy(lambda x: x[1], ascending = False)\n",
        "gov_deg.take(10)"
      ],
      "metadata": {
        "id": "INFw-7cec59V",
        "colab": {
          "base_uri": "https://localhost:8080/"
        },
        "outputId": "474adb6d-ad46-4e41-ee30-a1a7a7ffbdbd"
      },
      "execution_count": 65,
      "outputs": [
        {
          "output_type": "execute_result",
          "data": {
            "text/plain": [
              "[('shall', 904),\n",
              " ('laws', 831),\n",
              " ('agreement', 806),\n",
              " ('without', 704),\n",
              " ('state', 471),\n",
              " ('governed', 451),\n",
              " ('law', 447),\n",
              " ('new', 422),\n",
              " ('york', 394),\n",
              " ('accordance', 342)]"
            ]
          },
          "metadata": {},
          "execution_count": 65
        }
      ]
    },
    {
      "cell_type": "markdown",
      "source": [
        "#### 2.3.Ratio of fre(w) and deg(w) calculation for each word"
      ],
      "metadata": {
        "id": "ymDgeE2b6wes"
      }
    },
    {
      "cell_type": "code",
      "source": [
        "def ratio(record):\n",
        "  # ratio = deg/fre\n",
        "  ratio = record[1][1]/record[1][0]\n",
        "  return (record[0], ratio)\n",
        "\n",
        "#join fre and deg, then calcuate the ratio\n",
        "gov_ratio = gov_fre.join(gov_deg).map(ratio).sortBy(lambda x: x[1], ascending = False)\n",
        "gov_ratio.take(10)"
      ],
      "metadata": {
        "id": "0AxiRDG9j7ul",
        "colab": {
          "base_uri": "https://localhost:8080/"
        },
        "outputId": "75666793-63cf-4737-95fb-a7b0fbf60892"
      },
      "execution_count": 66,
      "outputs": [
        {
          "output_type": "execute_result",
          "data": {
            "text/plain": [
              "[('thereunder', 12.5),\n",
              " ('whole', 11.0),\n",
              " ('provider', 10.0),\n",
              " ('necessarily', 10.0),\n",
              " ('payment', 8.0),\n",
              " ('systems', 8.0),\n",
              " ('data', 8.0),\n",
              " ('control', 6.5),\n",
              " ('sections', 6.0),\n",
              " ('practices', 6.0)]"
            ]
          },
          "metadata": {},
          "execution_count": 66
        }
      ]
    },
    {
      "cell_type": "markdown",
      "source": [
        "### 3-Candidate Keyword Score Calculation and Final Results"
      ],
      "metadata": {
        "id": "DcZpfCqKlids"
      }
    },
    {
      "cell_type": "code",
      "source": [
        "gov_join = gov_distinct.join(gov_ratio).map(lambda x: (x[1][0], x[1][1]))\n",
        "gov_join.take(10)"
      ],
      "metadata": {
        "id": "vbVe5j8PsDRF",
        "colab": {
          "base_uri": "https://localhost:8080/"
        },
        "outputId": "1e98df38-5d22-47d3-b2a8-ba2046b9e5fc"
      },
      "execution_count": 67,
      "outputs": [
        {
          "output_type": "execute_result",
          "data": {
            "text/plain": [
              "[(['accepted'], 1.0),\n",
              " (['state'], 1.1134751773049645),\n",
              " (['new', 'york', 'state'], 1.1134751773049645),\n",
              " (['united', 'state'], 1.1134751773049645),\n",
              " (['different', 'state'], 1.1134751773049645),\n",
              " (['actual', 'state'], 1.1134751773049645),\n",
              " (['another', 'state'], 1.1134751773049645),\n",
              " (['state', 'applicable'], 1.1134751773049645),\n",
              " (['state', 'court'], 1.1134751773049645),\n",
              " (['state', 'courts', 'therein', 'shall'], 1.1134751773049645)]"
            ]
          },
          "metadata": {},
          "execution_count": 67
        }
      ]
    },
    {
      "cell_type": "code",
      "source": [
        "def listTostr(record):\n",
        "  record = (' '.join(record[0]), record[1])\n",
        "  return record\n",
        "\n",
        "gov_result = gov_join.map(listTostr).reduceByKey(lambda a,b: a+b).sortBy(lambda x: x[1], ascending = False)\n",
        "gov_result.take(20)"
      ],
      "metadata": {
        "id": "fvbOzNRfGvO8",
        "colab": {
          "base_uri": "https://localhost:8080/"
        },
        "outputId": "dbeb4669-1ddf-4609-b04f-9706d683cabd"
      },
      "execution_count": 68,
      "outputs": [
        {
          "output_type": "execute_result",
          "data": {
            "text/plain": [
              "[('sections 1051 et seq', 18.4),\n",
              " ('lj 1050 et seq', 16.4),\n",
              " ('1 covering competition following', 15.75),\n",
              " ('laws principles thereunder', 15.677392172081161),\n",
              " ('met independently without reference', 14.203888888888889),\n",
              " ('either party herein initiate', 13.75),\n",
              " ('without giving effect to', 13.181520467836258),\n",
              " ('1980 united nations convention', 12.855821371610846),\n",
              " ('performed entirely within pennsylvania', 12.686609686609687),\n",
              " ('maryland without giving effect', 12.431520467836258),\n",
              " ('1051 et seq', 12.399999999999999),\n",
              " ('new york without reference', 12.269493491167902),\n",
              " ('intellectual property right applies', 12.238095238095237),\n",
              " ('new york without recourse', 12.194493491167902),\n",
              " ('pennsylvania without giving effect', 12.181520467836258),\n",
              " ('new york without regard', 12.02355332022773),\n",
              " ('california without giving effect', 11.998421876286962),\n",
              " ('agreement shall become valid', 11.963270554261564),\n",
              " ('massachusetts without giving effect', 11.895806182121971),\n",
              " ('parties hereto expressly attorns', 11.867417840375587)]"
            ]
          },
          "metadata": {},
          "execution_count": 68
        }
      ]
    },
    {
      "cell_type": "markdown",
      "source": [
        "## Change of Control"
      ],
      "metadata": {
        "id": "GYIAq160Th32"
      }
    },
    {
      "cell_type": "markdown",
      "source": [
        "### 1-Candidate Phrase Identification"
      ],
      "metadata": {
        "id": "ywfNKVJT8iVE"
      }
    },
    {
      "cell_type": "code",
      "source": [
        "def change_row_to_tuple (row):\n",
        "  row_dict = row.asDict()\n",
        "  return row_dict[\"Change of Control\"]\n",
        "\n",
        "change_rdd = change_anti.map(change_row_to_tuple)\n",
        "change_rdd.take(10)"
      ],
      "metadata": {
        "colab": {
          "base_uri": "https://localhost:8080/"
        },
        "outputId": "f8e9c079-164e-4edd-f8b0-c78bf9f64e23",
        "id": "J4uiyN5s8iVF"
      },
      "execution_count": 69,
      "outputs": [
        {
          "output_type": "execute_result",
          "data": {
            "text/plain": [
              "[None,\n",
              " None,\n",
              " \"For purposes of the preceding sentence, and without limiting its generality, any merger, consolidation or reorganization involving Licensee (regardless of whether Licensee is a surviving or disappearing entity) will be deemed to be a transfer of rights, obligations or performance under this Agreement for which Licensor's prior written consent is required. (Page 15)\",\n",
              " None,\n",
              " '\"The term of this Agreement shall be effective as of the date first stated above and shall continue for a term of three (3) years, unless terminated earlier in accordance with the provisions of this Agreement (the \"\"Term\"\"); provided',\n",
              " '\"For purposes of this Agreement, \"\"Change in Control\"\" means a merger or consolidation of the party with',\n",
              " None,\n",
              " 'Neither party shall voluntarily or by operation of law assign or otherwise transfer the rights and/or obligations incurred pursuant to the terms of this Agreement without the prior written consent of the other party. (Page 21)  Nothwithstanding the foregoing, this Agreement may be assigned without the AS PartiesÕ consent by MusclePharm in connection with a change of control transaction; provided that the acquirer of MusclePharm shall have financial resources substantially similar or greater than MusclePharm and shall specifically assume the obligations of MusclePharm under this Agreement in writing prior to the consummation of the change of control transaction. (Page 21)',\n",
              " 'Notwithstanding the foregoing, Skype or Skype Holding may assign this Agreement to a third party without such consent in the event of a merger, reorganization or sale of all or substantially all of SkypeÕs or Skype HoldingÕs assets or voting securities, provided that written notice of such assignment is delivered to Online BVI and the Company and the assignee assumes all the responsibilities and obligations provided herein. (Page 27)',\n",
              " 'Except as otherwise provided herein, a Party shall not have the right to   assign any of its rights or obligations under this Agreement (whether through a merger, sale of stock, or otherwise) without the   prior written consent of the other Party; except that, either Party shall be permitted, without any need for the other PartyÕs   consent, to assign this Agreement (a) in whole or in part to an Affiliate (provided, however, that once such Person is no longer an   Affiliate of the assigning Party, such former Affiliate shall assign this Agreement back to the assigning Party), provided that the   assigning Party provides the other Party notice of any such assignment provided further that failure to provide such notice of such   assignment shall not render such assignment void; or (b) to a Third Party in connection with sale or transfer of all or substantially all   of the assigning PartyÕs business or assets relating to the subject matter of this Agreement, whether by Change of Control, merger,   sale of assets or otherwise; provided, however, that, with respect to clause (b), (i) any assignment of this Agreement shall be void   and have no effect unless and until the assignee assumes the <omitted> obligations of the assigning Party in a written instrument, a copy of which is provided to the other Party; and (ii) any assignment of   this Agreement must be accompanied by a simultaneous assignment of the Other Agreements to the same assignee, and the   assigning PartyÕs interest in the Purchased Assets to the same assignee unless otherwise agreed by Conformis in advance, which   agreement shall not be unreasonably withheld. (Pages 25-26)']"
            ]
          },
          "metadata": {},
          "execution_count": 69
        }
      ]
    },
    {
      "cell_type": "code",
      "source": [
        "# removing pages and covert all into lowercase\n",
        "# filter None and delete space\n",
        "change_rdd1 = change_rdd.filter(lambda x: x != None).map(preprocessing).map(lambda x: x.strip())\n",
        "change_rdd1.take(5)"
      ],
      "metadata": {
        "colab": {
          "base_uri": "https://localhost:8080/"
        },
        "outputId": "47c87404-5f2a-4d05-fbed-3dd602dbf502",
        "id": "2PpE05yQ8iVF"
      },
      "execution_count": 70,
      "outputs": [
        {
          "output_type": "execute_result",
          "data": {
            "text/plain": [
              "[\"for purposes of the preceding sentence, and without limiting its generality, any merger, consolidation or reorganization involving licensee (regardless of whether licensee is a surviving or disappearing entity) will be deemed to be a transfer of rights, obligations or performance under this agreement for which licensor's prior written consent is required.\",\n",
              " '\"the term of this agreement shall be effective as of the date first stated above and shall continue for a term of three (3) years, unless terminated earlier in accordance with the provisions of this agreement (the \"\"term\"\"); provided',\n",
              " '\"for purposes of this agreement, \"\"change in control\"\" means a merger or consolidation of the party with',\n",
              " 'neither party shall voluntarily or by operation of law assign or otherwise transfer the rights and/or obligations incurred pursuant to the terms of this agreement without the prior written consent of the other party.   nothwithstanding the foregoing, this agreement may be assigned without the as partiesõ consent by musclepharm in connection with a change of control transaction; provided that the acquirer of musclepharm shall have financial resources substantially similar or greater than musclepharm and shall specifically assume the obligations of musclepharm under this agreement in writing prior to the consummation of the change of control transaction.',\n",
              " 'notwithstanding the foregoing, skype or skype holding may assign this agreement to a third party without such consent in the event of a merger, reorganization or sale of all or substantially all of skypeõs or skype holdingõs assets or voting securities, provided that written notice of such assignment is delivered to online bvi and the company and the assignee assumes all the responsibilities and obligations provided herein.']"
            ]
          },
          "metadata": {},
          "execution_count": 70
        }
      ]
    },
    {
      "cell_type": "code",
      "source": [
        "# Extract candidate phrases and  remove empty values and spacess\n",
        "change_list_candidate = change_rdd1.flatMap(ExtractContentWord).filter(lambda x: x != ' ').map(lambda x: x.strip()).filter(lambda x: x!= '') \n",
        "change_list_candidate.take(10)"
      ],
      "metadata": {
        "colab": {
          "base_uri": "https://localhost:8080/"
        },
        "outputId": "f1d8fe59-3c5c-4aed-ecd4-23a6f2bfa06b",
        "id": "aP5N93JF8iVF"
      },
      "execution_count": 71,
      "outputs": [
        {
          "output_type": "execute_result",
          "data": {
            "text/plain": [
              "['purposes',\n",
              " 'preceding sentence',\n",
              " 'without limiting',\n",
              " 'generality',\n",
              " 'merger',\n",
              " 'consolidation',\n",
              " 'reorganization involving licensee',\n",
              " 'regardless',\n",
              " 'whether licensee',\n",
              " 'surviving']"
            ]
          },
          "metadata": {},
          "execution_count": 71
        }
      ]
    },
    {
      "cell_type": "code",
      "source": [
        "# Generate distinct candidate phrase and return (word, candidate_phrase) which is for joining with score of single word\n",
        "# filtered the number of words for candidates is greater than 4\n",
        "change_distinct = change_list_candidate.distinct().map(Tolist).flatMap(ExtractEachWord).map(lambda x: (x[0], x[1])).filter(lambda x: len(x[1]) <= 4) \n",
        "change_distinct.take(20)"
      ],
      "metadata": {
        "colab": {
          "base_uri": "https://localhost:8080/"
        },
        "outputId": "adc364da-89c9-4320-8c5e-9a860512e294",
        "id": "LQpRIQAw8iVG"
      },
      "execution_count": 72,
      "outputs": [
        {
          "output_type": "execute_result",
          "data": {
            "text/plain": [
              "[('purposes', ['purposes']),\n",
              " ('preceding', ['preceding', 'sentence']),\n",
              " ('sentence', ['preceding', 'sentence']),\n",
              " ('without', ['without', 'limiting']),\n",
              " ('limiting', ['without', 'limiting']),\n",
              " ('generality', ['generality']),\n",
              " ('merger', ['merger']),\n",
              " ('consolidation', ['consolidation']),\n",
              " ('reorganization', ['reorganization', 'involving', 'licensee']),\n",
              " ('involving', ['reorganization', 'involving', 'licensee']),\n",
              " ('licensee', ['reorganization', 'involving', 'licensee']),\n",
              " ('regardless', ['regardless']),\n",
              " ('whether', ['whether', 'licensee']),\n",
              " ('licensee', ['whether', 'licensee']),\n",
              " ('surviving', ['surviving']),\n",
              " ('disappearing', ['disappearing', 'entity']),\n",
              " ('entity', ['disappearing', 'entity']),\n",
              " ('deemed', ['deemed']),\n",
              " ('transfer', ['transfer']),\n",
              " ('rights', ['rights'])]"
            ]
          },
          "metadata": {},
          "execution_count": 72
        }
      ]
    },
    {
      "cell_type": "markdown",
      "source": [
        "### 2-Word Score Calculation"
      ],
      "metadata": {
        "id": "MBDFsnJY8iVG"
      }
    },
    {
      "cell_type": "code",
      "source": [
        "# Generate the tuple like (single word, candidate phrase,  fre(w), deg(w)) for each phrase of each document\n",
        "# the third number of each tuple is 1 which means frequency of each word for the one candidate phrase \n",
        "# and the fourth number is the length of candidate phrases since deg(w) = fre(w) + co-occurrence.\n",
        "# In detail, fre(w) is equal to 1, and co-occurrence equals the length(candidate_phrase)-1. In this way, deg(w) = length of candidate phrase.\n",
        "change_list_score = change_list_candidate.map(Tolist).flatMap(ExtractEachWord)\n",
        "change_list_score.take(10)"
      ],
      "metadata": {
        "colab": {
          "base_uri": "https://localhost:8080/"
        },
        "outputId": "b2b39fd4-21b9-4545-8cf1-46379beb55ec",
        "id": "4MN9B1pU8iVG"
      },
      "execution_count": 73,
      "outputs": [
        {
          "output_type": "execute_result",
          "data": {
            "text/plain": [
              "[('purposes', ['purposes'], 1, 1),\n",
              " ('preceding', ['preceding', 'sentence'], 1, 2),\n",
              " ('sentence', ['preceding', 'sentence'], 1, 2),\n",
              " ('without', ['without', 'limiting'], 1, 2),\n",
              " ('limiting', ['without', 'limiting'], 1, 2),\n",
              " ('generality', ['generality'], 1, 1),\n",
              " ('merger', ['merger'], 1, 1),\n",
              " ('consolidation', ['consolidation'], 1, 1),\n",
              " ('reorganization', ['reorganization', 'involving', 'licensee'], 1, 3),\n",
              " ('involving', ['reorganization', 'involving', 'licensee'], 1, 3)]"
            ]
          },
          "metadata": {},
          "execution_count": 73
        }
      ]
    },
    {
      "cell_type": "markdown",
      "source": [
        "#### 2.1.Fre(w) calculation for each word"
      ],
      "metadata": {
        "id": "qx1UCAQ_8iVG"
      }
    },
    {
      "cell_type": "code",
      "source": [
        "change_fre = change_list_score.map(lambda x: (x[0], x[2])).reduceByKey(lambda a,b: a+b).filter(lambda x: x[0] != '').sortBy(lambda x: x[1], ascending = False)\n",
        "change_fre.take(10)"
      ],
      "metadata": {
        "colab": {
          "base_uri": "https://localhost:8080/"
        },
        "outputId": "0979ad33-5f0f-4f8f-f00a-38d85d284dba",
        "id": "pPcrOjXG8iVG"
      },
      "execution_count": 74,
      "outputs": [
        {
          "output_type": "execute_result",
          "data": {
            "text/plain": [
              "[('agreement', 244),\n",
              " ('party', 203),\n",
              " ('change', 190),\n",
              " ('control', 180),\n",
              " ('shall', 168),\n",
              " ('may', 98),\n",
              " ('notice', 97),\n",
              " ('written', 92),\n",
              " ('terminate', 80),\n",
              " ('transfer', 79)]"
            ]
          },
          "metadata": {},
          "execution_count": 74
        }
      ]
    },
    {
      "cell_type": "markdown",
      "source": [
        "#### 2.2.Deg(w) calculation for each word"
      ],
      "metadata": {
        "id": "_x6axY7u8iVG"
      }
    },
    {
      "cell_type": "code",
      "source": [
        "change_deg =  change_list_score.map(lambda x:(x[0], x[3])).reduceByKey(lambda a,b: a+b).filter(lambda x: x[0] != '').sortBy(lambda x: x[1], ascending = False)\n",
        "change_deg.take(10)"
      ],
      "metadata": {
        "colab": {
          "base_uri": "https://localhost:8080/"
        },
        "outputId": "53b55bda-a70a-44c3-e7c0-a29bc0f2833f",
        "id": "6Sk7usmh8iVG"
      },
      "execution_count": 75,
      "outputs": [
        {
          "output_type": "execute_result",
          "data": {
            "text/plain": [
              "[('shall', 515),\n",
              " ('party', 445),\n",
              " ('agreement', 422),\n",
              " ('written', 336),\n",
              " ('notice', 302),\n",
              " ('may', 284),\n",
              " ('control', 265),\n",
              " ('change', 219),\n",
              " ('upon', 191),\n",
              " ('terminate', 184)]"
            ]
          },
          "metadata": {},
          "execution_count": 75
        }
      ]
    },
    {
      "cell_type": "markdown",
      "source": [
        "#### 2.3.Ratio of fre(w) and deg(w) calculation for each word"
      ],
      "metadata": {
        "id": "Jnpl4TAX8iVH"
      }
    },
    {
      "cell_type": "code",
      "source": [
        "#join fre and deg, then calcuate the ratio\n",
        "change_ratio = change_fre.join(change_deg).map(ratio).sortBy(lambda x: x[1], ascending = False)\n",
        "change_ratio.take(10)"
      ],
      "metadata": {
        "colab": {
          "base_uri": "https://localhost:8080/"
        },
        "outputId": "8d45ba88-092f-45b7-aff1-db2d99b4ff2f",
        "id": "zfO6NLhN8iVH"
      },
      "execution_count": 76,
      "outputs": [
        {
          "output_type": "execute_result",
          "data": {
            "text/plain": [
              "[('furnish', 25.0),\n",
              " ('designates', 12.0),\n",
              " ('jointly', 10.0),\n",
              " ('two', 10.0),\n",
              " ('pretzel', 9.666666666666666),\n",
              " ('wireless', 9.0),\n",
              " ('added', 9.0),\n",
              " ('re', 9.0),\n",
              " ('ncmõs', 7.0),\n",
              " ('enterprise', 7.0)]"
            ]
          },
          "metadata": {},
          "execution_count": 76
        }
      ]
    },
    {
      "cell_type": "markdown",
      "source": [
        "### 3-Candidate Keyword Score Calculation and Final Results"
      ],
      "metadata": {
        "id": "RoUbKIQw8iVH"
      }
    },
    {
      "cell_type": "code",
      "source": [
        "change_join = change_distinct.join(change_ratio).map(lambda x: (x[1][0], x[1][1]))\n",
        "change_join.take(10)"
      ],
      "metadata": {
        "colab": {
          "base_uri": "https://localhost:8080/"
        },
        "outputId": "d6aa2374-4b6d-4397-a6f5-aa82c2151e61",
        "id": "zZ51DQqi8iVH"
      },
      "execution_count": 77,
      "outputs": [
        {
          "output_type": "execute_result",
          "data": {
            "text/plain": [
              "[(['merger'], 1.3508771929824561),\n",
              " (['merger', 'transaction'], 1.3508771929824561),\n",
              " (['reverse', 'triangular', 'merger'], 1.3508771929824561),\n",
              " (['reorganization', 'involving', 'licensee'], 1.6756756756756757),\n",
              " (['whether', 'licensee'], 1.6756756756756757),\n",
              " (['1', 'licensee'], 1.6756756756756757),\n",
              " (['manage', 'licensee'], 1.6756756756756757),\n",
              " (['licensee'], 1.6756756756756757),\n",
              " (['licensee', 'prior'], 1.6756756756756757),\n",
              " (['licensee', 'may'], 1.6756756756756757)]"
            ]
          },
          "metadata": {},
          "execution_count": 77
        }
      ]
    },
    {
      "cell_type": "code",
      "source": [
        "# convert the list of candidate into string format\n",
        "change_result = change_join.map(listTostr).reduceByKey(lambda a,b: a+b).sortBy(lambda x: x[1], ascending = False)\n",
        "change_result.take(20)"
      ],
      "metadata": {
        "colab": {
          "base_uri": "https://localhost:8080/"
        },
        "outputId": "ea28c404-1b40-4aa8-8b81-e414864d33f1",
        "id": "AwGbnotS8iVH"
      },
      "execution_count": 78,
      "outputs": [
        {
          "output_type": "execute_result",
          "data": {
            "text/plain": [
              "[('home named competitor', 14.920634920634921),\n",
              " ('five thousand dollars', 14.857142857142858),\n",
              " ('vs key leadership position', 14.5),\n",
              " ('providing ebix written notice', 14.015575974899148),\n",
              " ('the òroyalty offset periodó', 14.0),\n",
              " ('upon sending written notice', 13.948909308232482),\n",
              " ('reasonable detail based upon', 13.783333333333333),\n",
              " ('without thereby becoming liable', 13.671186440677966),\n",
              " ('party representing fifty percent', 13.438871473354233),\n",
              " ('authority granted hereunder shall', 13.394047619047619),\n",
              " ('providing prior written notice', 13.172438719997187),\n",
              " ('upon written prior notice', 13.10577205333052),\n",
              " ('admit additional general partners', 13.05),\n",
              " ('party shall remain liable', 13.032594417077176),\n",
              " ('janssenõs confidential information hereunder', 13.019047619047619),\n",
              " ('shall provide written notice', 12.97390930823248),\n",
              " ('golf instruction related products', 12.971428571428572),\n",
              " ('section 14 ð òterminationó', 12.889830508474576),\n",
              " ('by providing written notice', 12.848909308232482),\n",
              " ('advertising agency representing tda', 12.8)]"
            ]
          },
          "metadata": {},
          "execution_count": 78
        }
      ]
    },
    {
      "cell_type": "markdown",
      "source": [
        "## Anti-assignment"
      ],
      "metadata": {
        "id": "VpkFVdM4TlJh"
      }
    },
    {
      "cell_type": "markdown",
      "source": [
        "### 1- Generate the list of candidate phrases"
      ],
      "metadata": {
        "id": "zXarsahzC7ck"
      }
    },
    {
      "cell_type": "code",
      "source": [
        "def anti_row_to_tuple (row):\n",
        "  row_dict = row.asDict()\n",
        "  return row_dict[\"Anti-assignment\"]\n",
        "\n",
        "anti_rdd = change_anti.map(anti_row_to_tuple)\n",
        "anti_rdd.take(10)"
      ],
      "metadata": {
        "colab": {
          "base_uri": "https://localhost:8080/"
        },
        "outputId": "a7b0dd23-a04a-4f3f-f60d-7b67ce5ac046",
        "id": "rOmsIoS6CtR6"
      },
      "execution_count": 79,
      "outputs": [
        {
          "output_type": "execute_result",
          "data": {
            "text/plain": [
              "['MA may not assign, sell, lease or otherwise transfer in whole or in party any of the rights granted pursuant to this Agreement without prior written approval of Company. (Page 12)',\n",
              " 'This Agreement may not be assigned, sold or transferred without the prior written consent of the other party. (Page 9)  Notwithstanding the foregoing, Rogers may, without consent, assign its rights and obligations under this Agreement in whole or in part to: (i) a person that directly or indirectly controls, is controlled by or is under common control with Rogers; or (ii) a purchaser of all or substantially all of the assets used in connection with the ROD Service. A change of control of Rogers shall not be considered an assignment of this Agreement. (Page 9)  Any purported assignment, sale, or transfer in contravention of this Section shall be null and void. (Page 9)',\n",
              " \"Licensee shall not assign or otherwise transfer any of its rights, or delegate or otherwise transfer any of its obligations or performance, under this Agreement, in each case whether voluntarily, involuntarily, by operation of law or otherwise, without Licensor's prior written consent. (Page 15)  Any purported assignment, delegation or transfer in violation of this Section 11.7 is void from the outset and shall be of no force or effect. (Page 15)\",\n",
              " 'Licensee shall have the right to assign or sublicense any or all of its rights granted under this Agreement, in whole or in part, to third parties exhibiting the Titles in the ordinary course of LicenseeÕs business with prior written notice to Licensor and subject to the applicable limitations (if any) in Section 2(a)(i) [License Grant] (Page 4)  Except as otherwise specified in the previous sentence, Licensee may not sublicense any of its rights under Section 2(a) [License Grant] without LicensorÕs prior written consent, which shall not be unreasonably withheld or delayed. (Page 4)  Neither party may assign its rights, duties or obligations under this Agreement to any third party in whole or in part, without the other partyÕs prior written consent, except that (i) Licensee may assign its rights and obligations to this Agreement to any of its Affiliate or subsidiaries with the prior written consent of the Licensor, and (ii) Licensor may assign its rights and obligations in this Agreement to its Affiliates or subsidiaries and either party may assign this Agreement in its entirety to any purchaser of all or substantially all of its business or assets pertaining to the line of business to which this Agreement relates or to any Affiliate of the party without the other partyÕs approval. (Page 14)',\n",
              " ' however',\n",
              " ' or any sale of all or substantially all of the assets of such party to',\n",
              " 'Either party may, at its election, assign this Agreement or          any of its rights or delegate any of its obligations hereunder, in          whole or in part, to any person, firm or corporation owning or          acquiring all or a substantial portion of its assets, to any person,          firm or corporation that is related to it as an affiliate, <omitted> subsidiary or otherwise, or to any person, firm or corporation into          which or with it might merge or consolidate. (Page 5)  In the event of such an <omitted> assignment by either party of its rights to an unrelated third party,          the other party shall be given written notice, then in such event the          other party may upon six-months (6-months) written notice terminate          this Agreement. (Pages 5-6)',\n",
              " 'This Agreement may also be terminated by MusclePharm, upon fifteen days prior written notice, if death, or physical disability, physical injury, or other incapacity lasting more than eight (8) weeks, causes Endorser to be unable to perform a material amount of the personal or consulting services described in this Agreement. (Page 13)  The license granted by this Agreement is personal to MusclePharm. (Page 21)  Except as set forth below, MusclePharm shall not assign or otherwise transfer, license, sublicense, or delegate any rights or obligations under this Agreement without the express prior written consent of the AS Parties. (Page 21)  Neither party shall voluntarily or by operation of law assign or otherwise transfer the rights and/or obligations incurred pursuant to the terms of this Agreement without the prior written consent of the other party. (Page 21)  Any attempted assignment or transfer by a party of their rights and/or obligations without such consent shall be void. (Page 21)',\n",
              " 'Notwithstanding the foregoing, upon the prior written approval of Online BVI, which approval may be withheld in its sole discretion, the Company shall be permitted to sublicense its rights hereunder to a wholly-owned Subsidiary of the Company or a majority-owned Subsidiary of Tom Holding, for the same purpose and under the same terms and conditions as the license set forth herein. (Page 11)  This Agreement may not be assigned by a party to this Agreement to any other Person without the express written approval of the other parties to this Agreement and any attempt at assignment in violation of this section shall be null and void. (Page 27)',\n",
              " 'To the extent working with Agents or other Third Parties is permitted under the R&D Work   Plan, should a Party wish to engage an Agent or any other Third Party in connection with the R&D Work Plan or any other work   under this Agreement, such Party must obtain in advance a written agreement by such Agent or other Third Party (i) to assign to   the Party all Inventions conceived, created or generated by the Agent or other Third Party, and (ii) to maintain all Confidential   Information in confidence as set forth in Section 5.2. (Page 8)  Except as otherwise provided herein, a Party shall not have the right to   assign any of its rights or obligations under this Agreement (whether through a merger, sale of stock, or otherwise) without the   prior written consent of the other Party; except that, either Party shall be permitted, without any need for the other PartyÕs   consent, to assign this Agreement (a) in whole or in part to an Affiliate (provided, however, that once such Person is no longer an   Affiliate of the assigning Party, such former Affiliate shall assign this Agreement back to the assigning Party), provided that the   assigning Party provides the other Party notice of any such assignment provided further that failure to provide such notice of such   assignment shall not render such assignment void; or (b) to a Third Party in connection with sale or transfer of all or substantially all   of the assigning PartyÕs business or assets relating to the subject matter of this Agreement, whether by Change of Control, merger,   sale of assets or otherwise; provided, however, that, with respect to clause (b), (i) any assignment of this Agreement shall be void   and have no effect unless and until the assignee assumes the <omitted> assigning Party in a written instrument, a copy of which is provided to the other Party; and (ii) any assignment of   this Agreement must be accompanied by a simultaneous assignment of the Other Agreements to the same assignee, and the   assigning PartyÕs interest in the Purchased Assets to the same assignee unless otherwise agreed by Conformis in advance, which   agreement shall not be unreasonably withheld. (Pages 25-26)  Any   assignment not in accordance with this Section 10.2 shall be void. (Page 26)']"
            ]
          },
          "metadata": {},
          "execution_count": 79
        }
      ]
    },
    {
      "cell_type": "code",
      "source": [
        "# removing pages and covert all into lowercase\n",
        "# filter None and delete space\n",
        "anti_rdd1 = anti_rdd.filter(lambda x: x != None).map(preprocessing).map(lambda x: x.strip())\n",
        "anti_rdd1.take(5)"
      ],
      "metadata": {
        "colab": {
          "base_uri": "https://localhost:8080/"
        },
        "outputId": "478c7860-1c52-47c2-a0aa-dd1801ce382f",
        "id": "IoPzAVr9CtR6"
      },
      "execution_count": 80,
      "outputs": [
        {
          "output_type": "execute_result",
          "data": {
            "text/plain": [
              "['ma may not assign, sell, lease or otherwise transfer in whole or in party any of the rights granted pursuant to this agreement without prior written approval of company.',\n",
              " 'this agreement may not be assigned, sold or transferred without the prior written consent of the other party.   notwithstanding the foregoing, rogers may, without consent, assign its rights and obligations under this agreement in whole or in part to: (i) a person that directly or indirectly controls, is controlled by or is under common control with rogers; or (ii) a purchaser of all or substantially all of the assets used in connection with the rod service. a change of control of rogers shall not be considered an assignment of this agreement.   any purported assignment, sale, or transfer in contravention of this section shall be null and void.',\n",
              " \"licensee shall not assign or otherwise transfer any of its rights, or delegate or otherwise transfer any of its obligations or performance, under this agreement, in each case whether voluntarily, involuntarily, by operation of law or otherwise, without licensor's prior written consent.   any purported assignment, delegation or transfer in violation of this section 11.7 is void from the outset and shall be of no force or effect.\",\n",
              " 'licensee shall have the right to assign or sublicense any or all of its rights granted under this agreement, in whole or in part, to third parties exhibiting the titles in the ordinary course of licenseeõs business with prior written notice to licensor and subject to the applicable limitations (if any) in section 2(a)(i) [license grant]   except as otherwise specified in the previous sentence, licensee may not sublicense any of its rights under section 2(a) [license grant] without licensorõs prior written consent, which shall not be unreasonably withheld or delayed.   neither party may assign its rights, duties or obligations under this agreement to any third party in whole or in part, without the other partyõs prior written consent, except that (i) licensee may assign its rights and obligations to this agreement to any of its affiliate or subsidiaries with the prior written consent of the licensor, and (ii) licensor may assign its rights and obligations in this agreement to its affiliates or subsidiaries and either party may assign this agreement in its entirety to any purchaser of all or substantially all of its business or assets pertaining to the line of business to which this agreement relates or to any affiliate of the party without the other partyõs approval.',\n",
              " 'however']"
            ]
          },
          "metadata": {},
          "execution_count": 80
        }
      ]
    },
    {
      "cell_type": "code",
      "source": [
        "# Extract candidate phrases and  remove empty values and spacess\n",
        "anti_list_candidate = anti_rdd1.flatMap(ExtractContentWord).filter(lambda x: x != ' ').map(lambda x: x.strip()).filter(lambda x: x!= '') \n",
        "anti_list_candidate.take(10)"
      ],
      "metadata": {
        "colab": {
          "base_uri": "https://localhost:8080/"
        },
        "outputId": "e25f295e-09c0-4503-890f-13f892f67de4",
        "id": "xm3Cm1f6CtR7"
      },
      "execution_count": 81,
      "outputs": [
        {
          "output_type": "execute_result",
          "data": {
            "text/plain": [
              "['may',\n",
              " 'assign',\n",
              " 'sell',\n",
              " 'lease',\n",
              " 'otherwise transfer',\n",
              " 'whole',\n",
              " 'party',\n",
              " 'rights granted pursuant',\n",
              " 'agreement without prior written approval',\n",
              " 'company']"
            ]
          },
          "metadata": {},
          "execution_count": 81
        }
      ]
    },
    {
      "cell_type": "code",
      "source": [
        "# Generate distinct candidate phrase and return (word, candidate_phrase) which is for joining with score of single word\n",
        "# filtered the number of words for candidates is greater than 4\n",
        "anti_distinct = anti_list_candidate.distinct().map(Tolist).flatMap(ExtractEachWord).map(lambda x: (x[0], x[1])).filter(lambda x: len(x[1]) <= 4) \n",
        "anti_distinct.take(10)"
      ],
      "metadata": {
        "colab": {
          "base_uri": "https://localhost:8080/"
        },
        "outputId": "bd1f40bd-3db8-466a-fde3-f3025782aca9",
        "id": "HeixJqRDCtR7"
      },
      "execution_count": 82,
      "outputs": [
        {
          "output_type": "execute_result",
          "data": {
            "text/plain": [
              "[('may', ['may']),\n",
              " ('assign', ['assign']),\n",
              " ('sell', ['sell']),\n",
              " ('lease', ['lease']),\n",
              " ('otherwise', ['otherwise', 'transfer']),\n",
              " ('transfer', ['otherwise', 'transfer']),\n",
              " ('whole', ['whole']),\n",
              " ('party', ['party']),\n",
              " ('rights', ['rights', 'granted', 'pursuant']),\n",
              " ('granted', ['rights', 'granted', 'pursuant'])]"
            ]
          },
          "metadata": {},
          "execution_count": 82
        }
      ]
    },
    {
      "cell_type": "markdown",
      "source": [
        "### 2-Word Score Calculation"
      ],
      "metadata": {
        "id": "bYdPKgfvAeF4"
      }
    },
    {
      "cell_type": "code",
      "source": [
        "# Generate the tuple like (single word, candidate phrase,  fre(w), deg(w)) for each phrase of each document\n",
        "# the third number of each tuple is 1 which means frequency of each word for the one candidate phrase \n",
        "# and the fourth number is the length of candidate phrases since deg(w) = fre(w) + co-occurrence.\n",
        "# In detail, fre(w) is equal to 1, and co-occurrence equals the length(candidate_phrase)-1. In this way, deg(w) = length of candidate phrase.\n",
        "anti_list_score = anti_list_candidate.map(Tolist).flatMap(ExtractEachWord)\n",
        "anti_list_score.take(10)"
      ],
      "metadata": {
        "colab": {
          "base_uri": "https://localhost:8080/"
        },
        "outputId": "3e24491b-6db8-4624-a7e1-91db1d5aa637",
        "id": "k8GLTuaoCtR7"
      },
      "execution_count": 83,
      "outputs": [
        {
          "output_type": "execute_result",
          "data": {
            "text/plain": [
              "[('may', ['may'], 1, 1),\n",
              " ('assign', ['assign'], 1, 1),\n",
              " ('sell', ['sell'], 1, 1),\n",
              " ('lease', ['lease'], 1, 1),\n",
              " ('otherwise', ['otherwise', 'transfer'], 1, 2),\n",
              " ('transfer', ['otherwise', 'transfer'], 1, 2),\n",
              " ('whole', ['whole'], 1, 1),\n",
              " ('party', ['party'], 1, 1),\n",
              " ('rights', ['rights', 'granted', 'pursuant'], 1, 3),\n",
              " ('granted', ['rights', 'granted', 'pursuant'], 1, 3)]"
            ]
          },
          "metadata": {},
          "execution_count": 83
        }
      ]
    },
    {
      "cell_type": "markdown",
      "source": [
        "#### 2.1. Fre(w) calculation for each word"
      ],
      "metadata": {
        "id": "UbbEzaynCtR7"
      }
    },
    {
      "cell_type": "code",
      "source": [
        "anti_fre = anti_list_score.map(lambda x: (x[0], x[2])).reduceByKey(lambda a,b: a+b).filter(lambda x: x[0] != '').sortBy(lambda x: x[1], ascending = False)\n",
        "anti_fre.take(10)"
      ],
      "metadata": {
        "colab": {
          "base_uri": "https://localhost:8080/"
        },
        "outputId": "3372357f-5f4c-480f-92e7-d6413b33343b",
        "id": "10ZHocqNCtR7"
      },
      "execution_count": 84,
      "outputs": [
        {
          "output_type": "execute_result",
          "data": {
            "text/plain": [
              "[('party', 837),\n",
              " ('agreement', 797),\n",
              " ('consent', 559),\n",
              " ('shall', 534),\n",
              " ('without', 475),\n",
              " ('written', 441),\n",
              " ('assign', 411),\n",
              " ('may', 398),\n",
              " ('rights', 369),\n",
              " ('prior', 368)]"
            ]
          },
          "metadata": {},
          "execution_count": 84
        }
      ]
    },
    {
      "cell_type": "markdown",
      "source": [
        "#### 2.2. Deg(w) calculation for each word"
      ],
      "metadata": {
        "id": "CgsbqLVQCtR7"
      }
    },
    {
      "cell_type": "code",
      "source": [
        "anti_deg =  anti_list_score.map(lambda x:(x[0], x[3])).reduceByKey(lambda a,b: a+b).filter(lambda x: x[0] != '').sortBy(lambda x: x[1], ascending = False)\n",
        "anti_deg.take(10)"
      ],
      "metadata": {
        "colab": {
          "base_uri": "https://localhost:8080/"
        },
        "outputId": "f274fa88-e08a-42b2-8bcc-e0d9a66c1bd4",
        "id": "3LKHuHaiCtR8"
      },
      "execution_count": 85,
      "outputs": [
        {
          "output_type": "execute_result",
          "data": {
            "text/plain": [
              "[('party', 1951),\n",
              " ('consent', 1659),\n",
              " ('written', 1591),\n",
              " ('shall', 1384),\n",
              " ('prior', 1323),\n",
              " ('agreement', 1228),\n",
              " ('without', 1188),\n",
              " ('may', 1170),\n",
              " ('assign', 950),\n",
              " ('hereunder', 579)]"
            ]
          },
          "metadata": {},
          "execution_count": 85
        }
      ]
    },
    {
      "cell_type": "markdown",
      "source": [
        "#### 2.3.Ratio of fre(w) and deg(w) calculation for each word"
      ],
      "metadata": {
        "id": "CEyo6Ca2CtR8"
      }
    },
    {
      "cell_type": "code",
      "source": [
        "#join fre and deg, then calcuate the ratio\n",
        "anti_ratio = anti_fre.join(anti_deg).map(ratio).sortBy(lambda x: x[1], ascending = False)\n",
        "anti_ratio.take(10)"
      ],
      "metadata": {
        "colab": {
          "base_uri": "https://localhost:8080/"
        },
        "outputId": "ee44a1f1-aded-401c-deff-1163422ec13f",
        "id": "UAqXLotYCtR8"
      },
      "execution_count": 86,
      "outputs": [
        {
          "output_type": "execute_result",
          "data": {
            "text/plain": [
              "[('accruing', 24.0),\n",
              " ('adjudicated', 21.0),\n",
              " ('managing', 14.0),\n",
              " ('decide', 14.0),\n",
              " ('insolvent', 12.0),\n",
              " ('medianet', 10.0),\n",
              " ('technologies', 10.0),\n",
              " ('holds', 9.8),\n",
              " ('schoolpop', 9.0),\n",
              " ('miltenyi', 9.0)]"
            ]
          },
          "metadata": {},
          "execution_count": 86
        }
      ]
    },
    {
      "cell_type": "markdown",
      "source": [
        "### 3-Candidate Keyword Score Calculation and Final Results"
      ],
      "metadata": {
        "id": "8olzVX9pCtR8"
      }
    },
    {
      "cell_type": "code",
      "source": [
        "anti_join = anti_distinct.join(anti_ratio).map(lambda x: (x[1][0], x[1][1]))\n",
        "anti_join.take(10)"
      ],
      "metadata": {
        "colab": {
          "base_uri": "https://localhost:8080/"
        },
        "outputId": "329539b3-17c1-44b2-d275-4608ce3f6e8e",
        "id": "12N0u-QsCtR8"
      },
      "execution_count": 87,
      "outputs": [
        {
          "output_type": "execute_result",
          "data": {
            "text/plain": [
              "[(['sell'], 1.6129032258064515),\n",
              " (['neither', 'party', 'shall', 'sell'], 1.6129032258064515),\n",
              " (['way', 'sell'], 1.6129032258064515),\n",
              " (['sell', 'franchises'], 1.6129032258064515),\n",
              " (['sell', 'unit', 'franchises'], 1.6129032258064515),\n",
              " (['indirectly', 'sell'], 1.6129032258064515),\n",
              " (['lease'], 1.2222222222222223),\n",
              " (['lease', 'agreement'], 1.2222222222222223),\n",
              " (['rights', 'granted', 'pursuant'], 2.7346938775510203),\n",
              " (['rights', 'granted'], 2.7346938775510203)]"
            ]
          },
          "metadata": {},
          "execution_count": 87
        }
      ]
    },
    {
      "cell_type": "code",
      "source": [
        "# convert the list of candidate into string format\n",
        "anti_result = anti_join.map(listTostr).reduceByKey(lambda a,b: a+b).sortBy(lambda x: x[1], ascending = False)\n",
        "anti_result.take(20)"
      ],
      "metadata": {
        "colab": {
          "base_uri": "https://localhost:8080/"
        },
        "outputId": "2e045b5e-5d04-4e48-b27c-619b4907c1d7",
        "id": "aiKI9MYiCtR8"
      },
      "execution_count": 88,
      "outputs": [
        {
          "output_type": "execute_result",
          "data": {
            "text/plain": [
              "[('distributor becomes insolvent', 20.1),\n",
              " ('transporterõs ferc gas tariff', 15.5),\n",
              " ('cause forty niners sc', 15.022222222222222),\n",
              " ('assigning party holds', 14.988086704215737),\n",
              " ('express prior written authorization', 14.94640818980881),\n",
              " ('s prior written approval', 14.875798244198865),\n",
              " ('restrictions set forth herein', 14.870471014492754),\n",
              " ('indirect loss thus caused', 14.444444444444445),\n",
              " ('s prior written consent', 14.434506977326205),\n",
              " ('prior express written approval', 14.355499098899719),\n",
              " ('express prior written approval', 14.355499098899719),\n",
              " ('forty niners sc without', 14.301052631578948),\n",
              " ('nfla prior written consent', 14.170618088437315),\n",
              " ('party shall remain liable', 14.122704146698347),\n",
              " ('third party either becomes', 14.055865477166922),\n",
              " ('reynolds group holdings limited', 13.958333333333332),\n",
              " ('express prior written consent', 13.914207832027056),\n",
              " ('prior express written consent', 13.914207832027056),\n",
              " ('expressly set forth herein', 13.90893255295429),\n",
              " ('assignor shall remain liable', 13.79176029962547)]"
            ]
          },
          "metadata": {},
          "execution_count": 88
        }
      ]
    }
  ]
}
