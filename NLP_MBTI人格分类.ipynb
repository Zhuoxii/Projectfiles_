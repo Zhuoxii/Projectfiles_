{
  "cells": [
    {
      "cell_type": "markdown",
      "metadata": {
        "id": "MGHoy6KpQDfZ"
      },
      "source": [
        "# 2022 COMP5046 Assignment 1\n",
        "*Make sure you change the file name with your unikey.*"
      ]
    },
    {
      "cell_type": "markdown",
      "metadata": {
        "id": "qTf21j_oQIiD"
      },
      "source": [
        "# Readme\n",
        "* All codes can run linearly and successfully.\n",
        "* For section 1,2 and 3, they maybe take you about 10 minutes to run all of code.\n",
        "* For section 4, I have kept one testing code and deleted other testing code. \n",
        "* For section 5(Testing part), it will take you about 20 seconds to run it because I have uploaded the model and important files in the Google drive, you just get access to them by the id I give.\n",
        "* Have Fun(*￣︶￣)"
      ]
    },
    {
      "cell_type": "markdown",
      "metadata": {
        "id": "iXbQohXLKSgO"
      },
      "source": [
        "***Visualising the comparison of different results is a good way to justify your decision.***"
      ]
    },
    {
      "cell_type": "markdown",
      "metadata": {
        "id": "A7v4GVxo4Dom"
      },
      "source": [
        "# 1 - Data Preprocessing"
      ]
    },
    {
      "cell_type": "markdown",
      "metadata": {
        "id": "HftyG77k47Y3"
      },
      "source": [
        "## 1.0. Data Collection [DO NOT MODIFY THIS]"
      ]
    },
    {
      "cell_type": "code",
      "execution_count": null,
      "metadata": {
        "colab": {
          "base_uri": "https://localhost:8080/"
        },
        "id": "U7C4snIcNl22",
        "outputId": "2bc27b66-3600-4921-b7c9-a6a6ad1b0182"
      },
      "outputs": [
        {
          "output_type": "stream",
          "name": "stdout",
          "text": [
            "[nltk_data] Downloading package punkt to /root/nltk_data...\n",
            "[nltk_data]   Package punkt is already up-to-date!\n",
            "[nltk_data] Downloading package stopwords to /root/nltk_data...\n",
            "[nltk_data]   Package stopwords is already up-to-date!\n",
            "[nltk_data] Downloading package wordnet to /root/nltk_data...\n",
            "[nltk_data]   Package wordnet is already up-to-date!\n",
            "------------------------------------\n",
            "Size of training dataset: 7808\n",
            "Size of testing dataset: 867\n",
            "------------------------------------\n",
            "------------------------------------\n",
            "Sample Data\n",
            "LABEL: F / SENTENCE: 'Half of it is going straight to charity, another quarter going straight to scientific research, an eighth to the parkour community, a sixteenth to towards spreading information about health and...|||Find a path or suffer more.|||http://personalitycafe.com/enneagram-personality-theory-forum/85323-enneagram-type-mbti-type-compared-statistics.html yep.|||I kind of anchor on Fi and Ne makes having Ni really fun. INFP for me as they tire me out less and our views tend to align more.|||The two ESTPs I have gotten the chance to know seem to experience much more than other people who have been on the planet for the same amount of time and are quite the renaissance (wo)men.  Is this...|||I don't really have a best friend ISTP(passion-amateur group co-founder), INTJ(intellectual and various small hobbies talk), ESTP(Bro-in-law, talk about everything kind of like my INTJ friend),...|||Everyone looses their gift if they don't even consider a different perspective.|||Kansas - ISTJ|||That or if they are normally comfortable with me, such as a friend or close acquaintance, they feel the need to start talking. It's almost a trap, I've noticed for most people feel the need to expose...|||To me, your answers screamed introverted feeling. Answers 2-5, 10, 11, 14, 16, and 17 your last statement were particularly Fi-like. I'm guessing you are an intuitive and possibly and introvert...|||Could you explain your reasoning for these? I saw Mako as an F, Lin as an ES, and have Kya as an F. Never had an idea for Amon's type.|||This applies to many of these threads.|||With an INFP for over 2 years now.|||After watching tonight's episode I'm sure that Unalaq is an ENXJ. I'm not sure if it's Fe or Te at this point but the way he goes about doing and planning things seem like a Je-dom. I'm putting him...|||Parkour is my passion(but I consider it closer to a martial art than a sport). I also enjoy some running and climbing.|||I have many characters but I gravitate towards sneaky archer, Breton, and conjuration. I love doing role plays and think it's one of, if not the best way to play the game.|||ESFP seems right for Ikki. We may need Jinora to have more interactions for us to tell. Any guesses about Pema, Tenzin's wife? She said herself that she used to be very shy so I'd put I just from...|||If you don't mind, please tell me more by what you meant by this bolded part or what happened.|||I think it's fit to revive this thread seeing as the second season of Korra has started and the second episode of the season is coming up tomorrow. I'd just say beware of spoilers in new posts if you...|||I was thinking more along these lines: 83385|||Yes, a few times in friendships and other things but it was usually spurred on by the idea of not having a second chance. I've been trying to make the first move more in life as I've realized it just...|||Sorry if my wording was/is confusing or vague. Let me try to explain it better.  As for the first statement: I see the world for all it's interconnections. If you wish, visualized everything having...|||~I don't experience it as simply perceiving or creating, for me as I perceive interconnected relationships are formed and realized.   ~I don't think that I rationalize with my dominate function but...|||I think it's amusing that, in the leading position I share with an ISTP friend of mine, we both start to embrace our shadows. I Think that's been my growing point lately, embracing my shadow. We're...|||I would suggest introspection and relying on your sense of self over tests and I highly suggest looking into the cognitive functions. ISTJ is the complete opposite of INFJ.|||I definitely agree with others on the US- It's pretty good for an INFJ if you find your niche.  I say the Midwest is generally SJ with women expected to be F and men to be T. It's nice but annoying....|||Please explain|||I think my own eye movements have almost been changed because of where I was usually placed when talking to someone in normal conversations. See, when I was young I ended up getting permanent spot in...|||Judgmental, critical, somewhat narcissistic, stubborn, possessive, Fe-ishly manipulative, and I have ego issues. Take that with a grain of salt.|||Yes, very much so. I love Spanish so far.|||I have a huge folder of these types of images.|||Aquarian It was just my guess, it doesn't need that much merit. Personally, I think Se is the hardest function to describe because it is so in the moment.|||Sorry, double post because of connectivity weirdness.|||I don't know if this has been posted before or if a thread about curses would be the best place but it'll do just fine. The important part is post #79, the giant wall of text. I think most of it was...|||If anything, imo, Ni would be how objects are interconnected. If I were to follow closely to your model: Introverted Intuition: Understanding how objects are connected Extraverted Intuition:...|||Sometimes you just don't see them :ninja: Seriously, I thought I was alone in a small town but I was surprised after training for a couple months.  You can easily learn and train by yourself, you...|||82063 Stuff by Andy Day, not only do I like it because it is the stuff of my passion but that new perspective of our surroundings that it brings. This is a great example of that. All those people...|||Sorry for the quality, my relative only gave me a physical copy, it's a picture of a picture. This is my INFP girlfriend of two years and me.|||If I am with my SO I almost need physical contact in some way.|||I pretty much have a guru dream that involves my SP wannabe passion. Around people I am close to I totally put on the gypsy king face, people are just so interesting. Hahaha can't stop laughing at ...|||I agree this this post very much, I just can't shake that vibe. To me it feels like you are an INTP who strongly identifies with INFJs. I think if you want a sound answer form yourself and others we...|||I do pretty well in emergencies, I do very well compared to normal conditions in my opinion. I feel like I become the ideal version of myself, for the most part. It's hard to describe but it's like...|||I have a very close INTJ friend. The Te Fe difference is acknowledged very well and I'd say that both of our tertiary functions are well developed which helps a ton. He does not show it often but he...|||Being alone and/or doing something physical that I can naturally and reactively do without thinking or little thought.|||Pretty much this|||If I wear shoes or socks to bed and my feet are not on my bed I will wake up as if I was falling. 2/3 of the time this happens. Any other dreams that I remember(I don't remember most of my dreams...|||This one still gets me.  What I meant to say was Pass the salt but what I really said was You b****, you ruined my life|||I'm sorry, but I find them so funny because I use them for good reason. They make people uncomfortable at first but then, slowly, make people more comfortable with the idea that people are different...|||XSFJ Mother, ISTJ father, and an XNFJ sister. Yep.|||I love dark jokes, especially racists/stereotypical jokes.'\n",
            "------------------------------------\n"
          ]
        }
      ],
      "source": [
        "# Code to download file into Colaboratory:\n",
        "!pip install -U -q PyDrive\n",
        "from pydrive.auth import GoogleAuth\n",
        "from pydrive.drive import GoogleDrive\n",
        "from google.colab import auth\n",
        "from oauth2client.client import GoogleCredentials\n",
        "\n",
        "from torch.utils.data import TensorDataset, DataLoader\n",
        "import torch\n",
        "\n",
        "from sklearn.metrics import classification_report\n",
        "from sklearn.metrics import f1_score\n",
        "import numpy as np\n",
        "\n",
        "import re\n",
        "import nltk\n",
        "nltk.download('punkt')\n",
        "nltk.download('stopwords')\n",
        "nltk.download('wordnet')\n",
        "from nltk.corpus import stopwords\n",
        "from nltk.tokenize import word_tokenize\n",
        "from nltk.stem import WordNetLemmatizer\n",
        "from nltk.featstruct import remove_variables\n",
        "import gensim.downloader as api\n",
        "from gensim.models import Word2Vec\n",
        "import numpy as np\n",
        "from sklearn.preprocessing import LabelEncoder\n",
        "\n",
        "# Authenticate and create the PyDrive client.\n",
        "auth.authenticate_user()\n",
        "gauth = GoogleAuth()\n",
        "gauth.credentials = GoogleCredentials.get_application_default()\n",
        "drive = GoogleDrive(gauth)\n",
        "\n",
        "\n",
        "id = '16g474hdNsaNx0_SnoKuqj2BuwSEGdnbt'\n",
        "downloaded = drive.CreateFile({'id':id}) \n",
        "downloaded.GetContentFile('training_data.csv')  \n",
        "\n",
        "id = '1-7hj0sF3Rc5G6POKdkpbDXm_Q6BWFDPU'\n",
        "downloaded = drive.CreateFile({'id':id}) \n",
        "downloaded.GetContentFile('testing_data.csv')  \n",
        "\n",
        "import pandas as pd\n",
        "training_data = pd.read_csv(\"/content/training_data.csv\")\n",
        "testing_data = pd.read_csv(\"/content/testing_data.csv\")\n",
        "\n",
        "print(\"------------------------------------\")\n",
        "print(\"Size of training dataset: {0}\".format(len(training_data)))\n",
        "print(\"Size of testing dataset: {0}\".format(len(testing_data)))\n",
        "print(\"------------------------------------\")\n",
        "\n",
        "print(\"------------------------------------\")\n",
        "print(\"Sample Data\")\n",
        "print(\"LABEL: {0} / SENTENCE: {1}\".format(training_data.iloc[-1,0], training_data.iloc[-1,1]))\n",
        "print(\"------------------------------------\")\n"
      ]
    },
    {
      "cell_type": "code",
      "execution_count": null,
      "metadata": {
        "colab": {
          "base_uri": "https://localhost:8080/",
          "height": 356
        },
        "id": "WIHEbmSQp3fh",
        "outputId": "b209072a-0fb8-46d5-eb3d-d3cc8138c654"
      },
      "outputs": [
        {
          "output_type": "execute_result",
          "data": {
            "text/plain": [
              "  type                                              posts\n",
              "0    F  'http://www.youtube.com/watch?v=qsXHcwe3krw|||...\n",
              "1    T  'I'm finding the lack of me in these posts ver...\n",
              "2    T  'Good one  _____   https://www.youtube.com/wat...\n",
              "3    T  'Dear INTP,   I enjoyed our conversation the o...\n",
              "4    T  'You're fired.|||That's another silly misconce...\n",
              "5    T  '18/37 @.@|||Science  is not perfect. No scien...\n",
              "6    F  'No, I can't draw on my own nails (haha). Thos...\n",
              "7    T  'I tend to build up a collection of things on ...\n",
              "8    F  I'm not sure, that's a good question. The dist...\n",
              "9    T  'https://www.youtube.com/watch?v=w8-egj0y8Qs||..."
            ],
            "text/html": [
              "\n",
              "  <div id=\"df-5fb4798d-0973-45a0-95e0-708d6b91faba\">\n",
              "    <div class=\"colab-df-container\">\n",
              "      <div>\n",
              "<style scoped>\n",
              "    .dataframe tbody tr th:only-of-type {\n",
              "        vertical-align: middle;\n",
              "    }\n",
              "\n",
              "    .dataframe tbody tr th {\n",
              "        vertical-align: top;\n",
              "    }\n",
              "\n",
              "    .dataframe thead th {\n",
              "        text-align: right;\n",
              "    }\n",
              "</style>\n",
              "<table border=\"1\" class=\"dataframe\">\n",
              "  <thead>\n",
              "    <tr style=\"text-align: right;\">\n",
              "      <th></th>\n",
              "      <th>type</th>\n",
              "      <th>posts</th>\n",
              "    </tr>\n",
              "  </thead>\n",
              "  <tbody>\n",
              "    <tr>\n",
              "      <th>0</th>\n",
              "      <td>F</td>\n",
              "      <td>'http://www.youtube.com/watch?v=qsXHcwe3krw|||...</td>\n",
              "    </tr>\n",
              "    <tr>\n",
              "      <th>1</th>\n",
              "      <td>T</td>\n",
              "      <td>'I'm finding the lack of me in these posts ver...</td>\n",
              "    </tr>\n",
              "    <tr>\n",
              "      <th>2</th>\n",
              "      <td>T</td>\n",
              "      <td>'Good one  _____   https://www.youtube.com/wat...</td>\n",
              "    </tr>\n",
              "    <tr>\n",
              "      <th>3</th>\n",
              "      <td>T</td>\n",
              "      <td>'Dear INTP,   I enjoyed our conversation the o...</td>\n",
              "    </tr>\n",
              "    <tr>\n",
              "      <th>4</th>\n",
              "      <td>T</td>\n",
              "      <td>'You're fired.|||That's another silly misconce...</td>\n",
              "    </tr>\n",
              "    <tr>\n",
              "      <th>5</th>\n",
              "      <td>T</td>\n",
              "      <td>'18/37 @.@|||Science  is not perfect. No scien...</td>\n",
              "    </tr>\n",
              "    <tr>\n",
              "      <th>6</th>\n",
              "      <td>F</td>\n",
              "      <td>'No, I can't draw on my own nails (haha). Thos...</td>\n",
              "    </tr>\n",
              "    <tr>\n",
              "      <th>7</th>\n",
              "      <td>T</td>\n",
              "      <td>'I tend to build up a collection of things on ...</td>\n",
              "    </tr>\n",
              "    <tr>\n",
              "      <th>8</th>\n",
              "      <td>F</td>\n",
              "      <td>I'm not sure, that's a good question. The dist...</td>\n",
              "    </tr>\n",
              "    <tr>\n",
              "      <th>9</th>\n",
              "      <td>T</td>\n",
              "      <td>'https://www.youtube.com/watch?v=w8-egj0y8Qs||...</td>\n",
              "    </tr>\n",
              "  </tbody>\n",
              "</table>\n",
              "</div>\n",
              "      <button class=\"colab-df-convert\" onclick=\"convertToInteractive('df-5fb4798d-0973-45a0-95e0-708d6b91faba')\"\n",
              "              title=\"Convert this dataframe to an interactive table.\"\n",
              "              style=\"display:none;\">\n",
              "        \n",
              "  <svg xmlns=\"http://www.w3.org/2000/svg\" height=\"24px\"viewBox=\"0 0 24 24\"\n",
              "       width=\"24px\">\n",
              "    <path d=\"M0 0h24v24H0V0z\" fill=\"none\"/>\n",
              "    <path d=\"M18.56 5.44l.94 2.06.94-2.06 2.06-.94-2.06-.94-.94-2.06-.94 2.06-2.06.94zm-11 1L8.5 8.5l.94-2.06 2.06-.94-2.06-.94L8.5 2.5l-.94 2.06-2.06.94zm10 10l.94 2.06.94-2.06 2.06-.94-2.06-.94-.94-2.06-.94 2.06-2.06.94z\"/><path d=\"M17.41 7.96l-1.37-1.37c-.4-.4-.92-.59-1.43-.59-.52 0-1.04.2-1.43.59L10.3 9.45l-7.72 7.72c-.78.78-.78 2.05 0 2.83L4 21.41c.39.39.9.59 1.41.59.51 0 1.02-.2 1.41-.59l7.78-7.78 2.81-2.81c.8-.78.8-2.07 0-2.86zM5.41 20L4 18.59l7.72-7.72 1.47 1.35L5.41 20z\"/>\n",
              "  </svg>\n",
              "      </button>\n",
              "      \n",
              "  <style>\n",
              "    .colab-df-container {\n",
              "      display:flex;\n",
              "      flex-wrap:wrap;\n",
              "      gap: 12px;\n",
              "    }\n",
              "\n",
              "    .colab-df-convert {\n",
              "      background-color: #E8F0FE;\n",
              "      border: none;\n",
              "      border-radius: 50%;\n",
              "      cursor: pointer;\n",
              "      display: none;\n",
              "      fill: #1967D2;\n",
              "      height: 32px;\n",
              "      padding: 0 0 0 0;\n",
              "      width: 32px;\n",
              "    }\n",
              "\n",
              "    .colab-df-convert:hover {\n",
              "      background-color: #E2EBFA;\n",
              "      box-shadow: 0px 1px 2px rgba(60, 64, 67, 0.3), 0px 1px 3px 1px rgba(60, 64, 67, 0.15);\n",
              "      fill: #174EA6;\n",
              "    }\n",
              "\n",
              "    [theme=dark] .colab-df-convert {\n",
              "      background-color: #3B4455;\n",
              "      fill: #D2E3FC;\n",
              "    }\n",
              "\n",
              "    [theme=dark] .colab-df-convert:hover {\n",
              "      background-color: #434B5C;\n",
              "      box-shadow: 0px 1px 3px 1px rgba(0, 0, 0, 0.15);\n",
              "      filter: drop-shadow(0px 1px 2px rgba(0, 0, 0, 0.3));\n",
              "      fill: #FFFFFF;\n",
              "    }\n",
              "  </style>\n",
              "\n",
              "      <script>\n",
              "        const buttonEl =\n",
              "          document.querySelector('#df-5fb4798d-0973-45a0-95e0-708d6b91faba button.colab-df-convert');\n",
              "        buttonEl.style.display =\n",
              "          google.colab.kernel.accessAllowed ? 'block' : 'none';\n",
              "\n",
              "        async function convertToInteractive(key) {\n",
              "          const element = document.querySelector('#df-5fb4798d-0973-45a0-95e0-708d6b91faba');\n",
              "          const dataTable =\n",
              "            await google.colab.kernel.invokeFunction('convertToInteractive',\n",
              "                                                     [key], {});\n",
              "          if (!dataTable) return;\n",
              "\n",
              "          const docLinkHtml = 'Like what you see? Visit the ' +\n",
              "            '<a target=\"_blank\" href=https://colab.research.google.com/notebooks/data_table.ipynb>data table notebook</a>'\n",
              "            + ' to learn more about interactive tables.';\n",
              "          element.innerHTML = '';\n",
              "          dataTable['output_type'] = 'display_data';\n",
              "          await google.colab.output.renderOutput(dataTable, element);\n",
              "          const docLink = document.createElement('div');\n",
              "          docLink.innerHTML = docLinkHtml;\n",
              "          element.appendChild(docLink);\n",
              "        }\n",
              "      </script>\n",
              "    </div>\n",
              "  </div>\n",
              "  "
            ]
          },
          "metadata": {},
          "execution_count": 8
        }
      ],
      "source": [
        "# Preview of the data in the csv file, which has two columns: \n",
        "# (1)type - label of the post (2)posts - the corresponding post content\n",
        "training_data.head(10)"
      ]
    },
    {
      "cell_type": "code",
      "execution_count": null,
      "metadata": {
        "id": "0SvGBOm9DvR_"
      },
      "outputs": [],
      "source": [
        "# Extract the labels and posts and store into List\n",
        "\n",
        "# Get the list of training data (posts)\n",
        "training_posts=training_data['posts'].tolist()\n",
        "# Get the list of corresponding labels for the training data (posts)\n",
        "training_labels=training_data['type'].tolist()\n",
        "\n",
        "# Get the list of testing data (posts)\n",
        "testing_posts=testing_data['posts'].tolist()\n",
        "# Get the list of corresponding labels for the testing data (posts)\n",
        "testing_labels=testing_data['type'].tolist()"
      ]
    },
    {
      "cell_type": "markdown",
      "metadata": {
        "id": "l9gBSgBCQh24"
      },
      "source": [
        "## 1.1. URL Removal\n",
        "*related to the section 4.2*"
      ]
    },
    {
      "cell_type": "code",
      "execution_count": null,
      "metadata": {
        "colab": {
          "base_uri": "https://localhost:8080/"
        },
        "id": "emyl1lWxGr12",
        "outputId": "17be491a-fee2-43a9-e17f-32d744771c4a"
      },
      "outputs": [
        {
          "output_type": "stream",
          "name": "stdout",
          "text": [
            " and intj moments    sportscenter not top ten plays    pranks|||What has been the most life-changing experience in your      On repeat for most of today.|||May the PerC Experience immerse you.|||The last thing my INFJ friend posted on his facebook before committing suicide the next day. Rest in peace~    ENFJ7. Sorry to hear of your distress. It's only natural for a relationship to not be perfection all the time in every moment of existence. Try to figure the hard times as times of growth, as...|||84389  84390     ...|||Welcome and   Game. Set. Match.|||Prozac, wellbrutin, at least thirty minutes of moving your legs (and I don't mean moving them while sitting in your same desk chair), weed in moderation (maybe try edibles as a healthier alternative...|||Basically come up with three items you've determined that each type (or whichever types you want to do) would more than likely use, given each types' cognitive functions and whatnot, when left by...|||All things in moderation.  Sims is indeed a video game, and a good one at that. Note: a good one at that is somewhat subjective in that I am not completely promoting the death of any given Sim...|||Dear ENFP:  What were your favorite video games growing up and what are your now, current favorite video games?  appears to be too late. :sad:|||There's someone out there for everyone.|||Wait... I thought confidence was a good thing.|||I just cherish the time of solitude b/c i revel within my inner world more whereas most other time i'd be workin... just enjoy the me time while you can. Don't worry, people will always be around to...|||Yo entp ladies... if you're into a complimentary personality,well, hey.|||... when your main social outlet is xbox live conversations and even then you verbally fatigue   I really dig the part from 1:46 to  because this thread requires it of me.|||Get high in backyard, roast and eat marshmellows in backyard while conversing over something intellectual, followed by massages and  for too many b's in that sentence. How could you! Think of the B!|||Banned for watching movies in the corner with the dunces.|||Banned because Health class clearly taught you nothing about peer pressure.|||Banned for a whole host of  Two baby deer on left and right munching on a beetle in the middle.  2) Using their own blood, two cavemen diary today's latest happenings on their designated cave diary wall.  3) I see it as...|||a pokemon world  an infj society  everyone becomes an  all artists are artists because they draw. It's the idea that counts in forming something of your own... like a signature.|||Welcome to the robot ranks, person who downed my self-esteem cuz I'm not an avid signature artist like herself. :proud:|||Banned for taking all the room under my bed. Ya gotta learn to share with the  for being too much of a thundering, grumbling kind of storm... yep.|||Ahh... old high school music I haven't heard in ages.    failed a public speaking class a few years ago and I've sort of learned what I could do better were I to be in that position again. A big part of my failure was just overloading myself with too...|||I like this person's mentality. He's a confirmed INTJ by the way.  to the Denver area and start a new life for myself.'\n"
          ]
        }
      ],
      "source": [
        "def remove_URL(data):\n",
        "  res = []\n",
        "  for i in data:                                  \n",
        "    x = re.sub(r'\\S*https?:\\S*', '', i) # removing URL\n",
        "    res.append(x)\n",
        "  return res\n",
        "\n",
        "\n",
        "## In the section 4.2,  we can see that the best preprocessing techniques contain removing URL, punctuation, stopwords and lemmatization.\n",
        "clean_training1 = remove_URL(training_posts)\n",
        "clean_testing1 = remove_URL(testing_posts)\n",
        "print(clean_training1[0])"
      ]
    },
    {
      "cell_type": "markdown",
      "metadata": {
        "id": "QzLAO5a25qzS"
      },
      "source": [
        "## 1.2. Preprocess data (e.g. Stop words, Stemming)\n",
        "*related to the section 4.2*"
      ]
    },
    {
      "cell_type": "code",
      "execution_count": null,
      "metadata": {
        "id": "jl7t5Vqo5_gq"
      },
      "outputs": [],
      "source": [
        "# removing punctuation\n",
        "def remove_punctuation(data):\n",
        "  res =  []\n",
        "  for i in data:\n",
        "   x = re.sub(r'[^\\w\\s]','', i)\n",
        "   x = x.strip()\n",
        "   res.append(x)\n",
        "  return res\n",
        "\n",
        "\n",
        "# removing stopwords and converting lowercase\n",
        "def remove_stopwords(data):\n",
        "   stop_words = stopwords.words('english')\n",
        "   token_sentence = [word_tokenize(sentence) for sentence in data]\n",
        "   filtered_sentence = []\n",
        "   for sc in token_sentence:\n",
        "     filtered_words = []\n",
        "     for word in sc:\n",
        "       if not word in stop_words:\n",
        "         filtered_words.append(word.lower())\n",
        "     filtered_sentence.append(filtered_words)\n",
        "   return filtered_sentence\n",
        "\n",
        "\n",
        "#Lemmatization\n",
        "def lemmatization(data):\n",
        "  lemmatizer = WordNetLemmatizer()\n",
        "  clean_sentence = []\n",
        "  for tokens in data:\n",
        "      single_sentence = [lemmatizer.lemmatize(w) for w in tokens ]\n",
        "      clean_sentence.append(single_sentence)\n",
        "  return clean_sentence\n",
        "\n",
        "\n",
        "## In the section 4.2,  we can see that the best preprocessing techniques contain removing URL, punctuation, stopwords and lemmatization.\n",
        "clean_training2 = remove_punctuation(clean_training1)\n",
        "clean_training3 = remove_stopwords(clean_training2)\n",
        "clean_training = lemmatization(clean_training3)\n",
        "\n",
        "clean_testing2 = remove_punctuation(clean_testing1)\n",
        "clean_testing3 = remove_stopwords(clean_testing2)\n",
        "clean_testing = lemmatization(clean_testing3)\n",
        "\n",
        "data = clean_training + clean_testing"
      ]
    },
    {
      "cell_type": "markdown",
      "metadata": {
        "id": "gIzFi5NK68vc"
      },
      "source": [
        "\n",
        "\n",
        "---\n",
        "\n"
      ]
    },
    {
      "cell_type": "markdown",
      "source": [
        "# 2 - Input Representation"
      ],
      "metadata": {
        "id": "SSsCE60yz4-1"
      }
    },
    {
      "cell_type": "markdown",
      "metadata": {
        "id": "daDvAftceIvr"
      },
      "source": [
        "## 2.1. Word Embedding Construction\n",
        "*related to the section 4.1 and 4.3*\n"
      ]
    },
    {
      "cell_type": "code",
      "execution_count": null,
      "metadata": {
        "id": "Jw8I1QBk-EhG"
      },
      "outputs": [],
      "source": [
        "# Preprocess data for word embeddings\n",
        "## word list\n",
        "def wordlist(training_data, testing_data):\n",
        "  training_word_set = set()\n",
        "  for sentence in training_data:\n",
        "    for word in sentence:\n",
        "      training_word_set.add(word)\n",
        "  test_word_set = set()\n",
        "  for sentence in testing_data:\n",
        "    for word in sentence:\n",
        "      test_word_set.add(word)\n",
        "  word_set= training_word_set | test_word_set\n",
        "\n",
        "  word_set.add('[PAD]')\n",
        "  word_set.add('[UNKNOWN]')\n",
        "  word_list = list(word_set)\n",
        "  word_list.sort() \n",
        "  return word_list\n",
        "\n",
        "\n",
        "\n",
        "## word index\n",
        "def wordindex(word_ls):\n",
        "  word_index = {}\n",
        "  ind = 0\n",
        "  for word in word_ls:\n",
        "      word_index[word] = ind\n",
        "      ind += 1\n",
        "  return word_index\n",
        "\n",
        "\n",
        "\n",
        "## Padding and encoding\n",
        "def encode_and_add_padding(data, seq_length, word_index):\n",
        "    sent_encoded = []\n",
        "    for sent in data:\n",
        "        index_encoded = [word_index[word] if word in word_index else word_index['[UNKNOWN]'] for word in sent]\n",
        "        if len(index_encoded) < seq_length:\n",
        "            index_encoded += [word_index['[PAD]']] * (seq_length - len(index_encoded))\n",
        "        else:\n",
        "            index_encoded = index_encoded[:seq_length]\n",
        "        sent_encoded.append(index_encoded)\n",
        "    sent_encoded = np.array(sent_encoded)\n",
        "    return sent_encoded\n",
        "\n",
        "\n",
        "\n",
        "## create embedding table\n",
        "def trained_emb_table(word_list, emb_model):\n",
        "  emb_table = []\n",
        "  for i, word in enumerate(word_list):\n",
        "    if word in emb_model:\n",
        "      emb_table.append(emb_model[word])\n",
        "    else:\n",
        "      emb_table.append([0]*100)\n",
        "  emb_table = np.array(emb_table)\n",
        "  return emb_table\n",
        "\n",
        "\n",
        "\n",
        "seq_length = 800\n",
        "word_list = wordlist(clean_training, clean_testing)\n",
        "word_index = wordindex(word_list)\n",
        "vocab_size = len(word_list)\n",
        "\n",
        "training_encoded = encode_and_add_padding(clean_training, seq_length, word_index)\n",
        "testing_encoded = encode_and_add_padding(clean_testing, seq_length, word_index)\n",
        "\n",
        "\n",
        "# Build training model for word embeddings\n",
        "# In thie section 4.1, it can be found that when dimension is 100 and window size is 3, the accuracy is highest,\n",
        "sg_model = Word2Vec(sentences = data, size = 100, window = 3, min_count= 1, workers=2, sg=1)"
      ]
    },
    {
      "cell_type": "markdown",
      "metadata": {
        "id": "LNys5HOdISK-"
      },
      "source": [
        "## 2.2. Pretrained Word Embedding\n",
        "*related to the section 4.3*"
      ]
    },
    {
      "cell_type": "code",
      "execution_count": null,
      "metadata": {
        "colab": {
          "base_uri": "https://localhost:8080/"
        },
        "id": "Ae8i7Z2kIef-",
        "outputId": "d6dbc159-6459-4ae9-f131-d04d0fc9157f"
      },
      "outputs": [
        {
          "output_type": "stream",
          "name": "stdout",
          "text": [
            "[==================================================] 100.0% 387.1/387.1MB downloaded\n",
            "100\n"
          ]
        }
      ],
      "source": [
        "# https://github.com/RaRe-Technologies/gensim-data#models\n",
        "\n",
        "def pretrained_emb_table(word_list, pre_emb_model):\n",
        "  emb_table = []\n",
        "  for i, word in enumerate(word_list):\n",
        "    if word in pre_emb_model:\n",
        "      emb_table.append(pre_emb_model[word])\n",
        "    else:\n",
        "      emb_table.append([0]*100)\n",
        "  emb_table = np.array(emb_table)\n",
        "  return emb_table\n",
        "\n",
        "# In the section 4.3, it demonstrated that glove-twitter-100 is the best pretrained embedding.\n",
        "pre_emb_model_twitter = api.load('glove-twitter-100')\n",
        "emb_dim_twitter = pre_emb_model_twitter.vector_size\n",
        "\n",
        "print(emb_dim_twitter)"
      ]
    },
    {
      "cell_type": "markdown",
      "metadata": {
        "id": "T0ap96aeGlIk"
      },
      "source": [
        "## 2.3. Input Concatenation\n",
        "*related to the section 4.3*"
      ]
    },
    {
      "cell_type": "code",
      "execution_count": null,
      "metadata": {
        "id": "i2CUCL1cGlI2"
      },
      "outputs": [],
      "source": [
        "# emb_table\n",
        "def concatenation(word_list, pre_emb_model, sg_model):\n",
        "    emb_table = []\n",
        "    for i, word in enumerate(word_list):\n",
        "        if word in pre_emb_model:\n",
        "            emb_table.append(np.concatenate((sg_model[word],pre_emb_model[word]),0))\n",
        "        elif word == '[PAD]' or word == '[UNKNOWN]':\n",
        "            emb_table.append([0]*200)\n",
        "        else:\n",
        "            emb_table.append(np.concatenate((sg_model[word], np.array([0]*100)), 0))\n",
        "    emb_table = np.array(emb_table)\n",
        "    return emb_table \n",
        "\n",
        "# In the section 4.3, it demonstrated that the concatenation is the best embedding.\n",
        "emb_table = concatenation(word_list, pre_emb_model_twitter, sg_model)"
      ]
    },
    {
      "cell_type": "markdown",
      "metadata": {
        "id": "LIu_lkJwQ55g"
      },
      "source": [
        "# 3 - Model Implementation"
      ]
    },
    {
      "cell_type": "markdown",
      "metadata": {
        "id": "DpYCL17JKZxl"
      },
      "source": [
        "### 3.1. Build Sequence Model (Bi-directional model)\n",
        "*related to the section 4.4*"
      ]
    },
    {
      "cell_type": "markdown",
      "metadata": {
        "id": "cWQsON18ryv6"
      },
      "source": [
        "Set Dataloader"
      ]
    },
    {
      "cell_type": "code",
      "execution_count": null,
      "metadata": {
        "id": "hreVh7WE3Qrn",
        "colab": {
          "base_uri": "https://localhost:8080/"
        },
        "outputId": "f533640f-0357-4699-fc03-f81cbaa34efa"
      },
      "outputs": [
        {
          "output_type": "stream",
          "name": "stdout",
          "text": [
            "['F' 'T']\n"
          ]
        }
      ],
      "source": [
        "##Label Encoding\n",
        "from sklearn.preprocessing import LabelEncoder\n",
        "\n",
        "unique_labels = np.unique(training_labels)\n",
        "\n",
        "lEnc = LabelEncoder()\n",
        "label_train_encoded = lEnc.fit_transform(training_labels)\n",
        "label_test_encoded = lEnc.transform(testing_labels)\n",
        "\n",
        "n_class = len(unique_labels)\n",
        "print(unique_labels)\n",
        "\n",
        "label_train_encoded = torch.from_numpy(np.array(label_train_encoded))\n",
        "label_test_encoded = torch.from_numpy(np.array(label_test_encoded))\n",
        "\n",
        "\n",
        "\n",
        "\n",
        "## data encoded\n",
        "batch_size = 256\n",
        "def Data_loader(training_encoded):\n",
        "  training_encoded_ = torch.from_numpy(training_encoded)\n",
        "  train_dataset = TensorDataset(training_encoded_, label_train_encoded)\n",
        "  train_loader = DataLoader(train_dataset, batch_size=batch_size, shuffle=True, num_workers=2, pin_memory = True)\n",
        "  return train_loader\n",
        "\n",
        "train_loader = Data_loader(training_encoded)"
      ]
    },
    {
      "cell_type": "markdown",
      "metadata": {
        "id": "EI7PjbrgsBnM"
      },
      "source": [
        "Build model"
      ]
    },
    {
      "cell_type": "code",
      "execution_count": null,
      "metadata": {
        "id": "ffYFrRaE1Ju5"
      },
      "outputs": [],
      "source": [
        "import torch\n",
        "import torch.nn as nn\n",
        "import torch.nn.functional as F\n",
        "import torch.optim as optim\n",
        "from sklearn.metrics import accuracy_score\n",
        "from sklearn.metrics import classification_report\n",
        "from sklearn.metrics import f1_score\n",
        "from matplotlib import pyplot as plt\n",
        "\n",
        "device = torch.device(\"cuda\" if torch.cuda.is_available() else \"cpu\")\n",
        "\n",
        "\n",
        "## Setting hyparameters\n",
        "num_epochs = 10\n",
        "learning_rate = 0.01\n",
        "n_hidden = 30\n",
        "\n",
        "\n",
        "\n",
        "# Define the LSTM model\n",
        "class Bi_LSTM_Emb(nn.Module):\n",
        "    def __init__(self, vocab_size, emb_table, emb_size):\n",
        "        super(Bi_LSTM_Emb, self).__init__()\n",
        "        self.emb = nn.Embedding(vocab_size, emb_size)\n",
        "\n",
        "        self.emb.weight.data.copy_(torch.from_numpy(emb_table))\n",
        "        self.emb.weight.requires_grad = False\n",
        "\n",
        "        self.lstm = nn.LSTM(emb_size, n_hidden,batch_first =True, bidirectional=True)\n",
        "        self.linear = nn.Linear(n_hidden*2, n_class)\n",
        "\n",
        "    def forward(self, x):\n",
        "\n",
        "        x = self.emb(x)        \n",
        "        lstm_out, (h_n, c_n) = self.lstm(x)\n",
        "        hidden_out = torch.cat((h_n[0,:,:],h_n[1,:,:]),1)\n",
        "        z = self.linear(hidden_out)\n",
        "        return z\n",
        "\n",
        "\n",
        "\n",
        "def LSTM_define_model_loss_optimizer(vocab_size, emb_table, emb_size):\n",
        "  # Building model\n",
        "  model = Bi_LSTM_Emb(vocab_size, emb_table, emb_size).to(device)\n",
        "\n",
        "  # Define Loss function and optimizer\n",
        "  criterion = nn.CrossEntropyLoss()\n",
        "  optimizer = optim.Adam(model.parameters(), lr=learning_rate)\n",
        "  return (model, criterion, optimizer)\n",
        "\n",
        "\n",
        "# Preparing input\n",
        "##input_torch = torch.from_numpy(np.array(training_encoded)).to(device)\n",
        "##targe_torch = torch.from_numpy(np.array(label_train_encoded)).view(-1).to(device)\n",
        "\n",
        "# Train the model\n",
        "def LSTM_train(model, train_loader, num_epochs, criterion, optimizer):\n",
        "  for epoch in range(num_epochs):  \n",
        "    # Set the flag to training\n",
        "      model.train()\n",
        "      train_loss = []\n",
        "      train_correct = 0\n",
        "      for data, label in train_loader:\n",
        "          data = data.to(device)\n",
        "          label = label.to(device)\n",
        "          # forward + backward + loss + optimize\n",
        "          optimizer.zero_grad()\n",
        "          outputs = model(data) \n",
        "          predicted = torch.argmax(outputs, -1)\n",
        "          loss = criterion(outputs, label) \n",
        "          train_loss.append(loss.item()) \n",
        "          train_correct += torch.sum(predicted == label)\n",
        "          loss.backward()\n",
        "          optimizer.step()\n",
        "      \n",
        "\n",
        "      acc = train_correct / len(training_posts)\n",
        "      total_loss  = np.mean(train_loss)\n",
        "      print('Epoch: %d, loss: %.5f, train_acc: %.2f' %(epoch + 1, total_loss, acc))\n",
        "\n",
        "  return 'Finished Training'\n",
        "\n",
        "\n",
        "# Test the model\n",
        "def LSTM_test(model,testing_encoded):\n",
        "  model.eval()\n",
        "  input_torch = torch.from_numpy(np.array(testing_encoded)).to(device)\n",
        "  outputs = model(input_torch) \n",
        "  predicted = torch.argmax(outputs, -1)\n",
        "  print()\n",
        "  print(\"Starting testing\")\n",
        "  return classification_report(label_test_encoded,predicted.cpu().numpy())\n",
        "\n",
        "\n",
        "\n",
        "############################################################################\n",
        "\n",
        "\n",
        "# Define the RNN model\n",
        "class Bi_RNN_Emb(nn.Module):\n",
        "    def __init__(self, vocab_size, emb_table, emb_size):\n",
        "        super(Bi_RNN_Emb, self).__init__()\n",
        "        self.emb = nn.Embedding(vocab_size, emb_size)\n",
        "\n",
        "        self.emb.weight.data.copy_(torch.from_numpy(emb_table))\n",
        "        self.emb.weight.requires_grad = False\n",
        "        self.rnn = nn.RNN(emb_size, n_hidden, batch_first=True, bidirectional=True)\n",
        "        self.linear = nn.Linear(n_hidden*2, n_class)\n",
        "\n",
        "    def forward(self, x):\n",
        "\n",
        "        x = self.emb(x)        \n",
        "        rnn_output, h_n = self.rnn(x)\n",
        "        hidden_out = torch.cat((h_n[0,:,:],h_n[1,:,:]),1)\n",
        "        z = self.linear(hidden_out)\n",
        "        return z\n",
        "\n",
        "\n",
        "\n",
        "def RNN_define_model_loss_optimizer(vocab_size, emb_table, emb_size):\n",
        "  # Building model\n",
        "  model = Bi_RNN_Emb(vocab_size, emb_table, emb_size).to(device)\n",
        "\n",
        "  # Define Loss function and optimizer\n",
        "  criterion = nn.CrossEntropyLoss()\n",
        "  optimizer = optim.Adam(model.parameters(), lr=learning_rate)\n",
        "  return (model, criterion, optimizer)\n",
        "\n",
        "\n",
        "# Preparing input\n",
        "##input_torch = torch.from_numpy(np.array(training_encoded)).to(device)\n",
        "##targe_torch = torch.from_numpy(np.array(label_train_encoded)).view(-1).to(device)\n",
        "\n",
        "# Train the model\n",
        "def RNN_train(model, train_loader, num_epochs, criterion, optimizer, epoch):\n",
        "  epoch = epoch\n",
        "  for epoch in range(num_epochs):  \n",
        "    # Set the flag to training\n",
        "      model.train()\n",
        "      train_loss = []\n",
        "      train_correct = 0\n",
        "      for data, label in train_loader:\n",
        "          data = data.to(device)\n",
        "          label = label.to(device)\n",
        "          # forward + backward + loss + optimize\n",
        "          optimizer.zero_grad()\n",
        "          outputs = model(data) \n",
        "          predicted = torch.argmax(outputs, -1)\n",
        "          loss = criterion(outputs, label) \n",
        "          train_loss.append(loss.item()) \n",
        "          train_correct += torch.sum(predicted == label)\n",
        "          loss.backward()\n",
        "          optimizer.step()\n",
        "\n",
        "      acc = train_correct / len(training_posts)\n",
        "      total_loss  = np.mean(train_loss)\n",
        "      print('Epoch: %d, loss: %.5f, train_acc: %.2f' %(epoch + 1, total_loss, acc))\n",
        "\n",
        "  return 'Finished Training'\n",
        "\n",
        "\n",
        "# Test the model\n",
        "def RNN_test(model,testing_encoded):\n",
        "  model.eval()\n",
        "  input_torch = torch.from_numpy(np.array(testing_encoded)).to(device)\n",
        "  outputs = model(input_torch) \n",
        "  predicted = torch.argmax(outputs, -1)\n",
        "\n",
        "  return classification_report(label_test_encoded,predicted.cpu().numpy())"
      ]
    },
    {
      "cell_type": "markdown",
      "metadata": {
        "id": "6BaOiaGRLW7R"
      },
      "source": [
        "### 3.2. Train Sequence Model (Bi-directional model)\n",
        "\n",
        "*related to the section 4.4*\n",
        "\n",
        "Note that it will not be marked if you do not display the Training Loss and the Number of Epochs in the Assignment 1 ipynb.\n"
      ]
    },
    {
      "cell_type": "code",
      "source": [
        "# In the section 4.4, it shows that Bi-LSTM is the best model.\n",
        "# In thie section 4.5, it tells us when epoch is 10, the model performs the best.\n",
        "model, criterion, optimizer = LSTM_define_model_loss_optimizer(vocab_size, emb_table, 200)\n",
        "print(LSTM_train(model, train_loader, num_epochs, criterion, optimizer))\n",
        "print(LSTM_test(model,testing_encoded))"
      ],
      "metadata": {
        "colab": {
          "base_uri": "https://localhost:8080/"
        },
        "id": "i7Hmw7uaF_3x",
        "outputId": "370c4d60-5f24-4c4f-d85b-2c09cdde39f8"
      },
      "execution_count": null,
      "outputs": [
        {
          "output_type": "stream",
          "name": "stdout",
          "text": [
            "Epoch: 1, loss: 0.68853, train_acc: 0.53\n",
            "Epoch: 2, loss: 0.66514, train_acc: 0.59\n",
            "Epoch: 3, loss: 0.57711, train_acc: 0.71\n",
            "Epoch: 4, loss: 0.53502, train_acc: 0.74\n",
            "Epoch: 5, loss: 0.42476, train_acc: 0.82\n",
            "Epoch: 6, loss: 0.36889, train_acc: 0.85\n",
            "Epoch: 7, loss: 0.32856, train_acc: 0.87\n",
            "Epoch: 8, loss: 0.28500, train_acc: 0.89\n",
            "Epoch: 9, loss: 0.24800, train_acc: 0.91\n",
            "Epoch: 10, loss: 0.20307, train_acc: 0.93\n",
            "Finished Training\n",
            "\n",
            "Starting testing\n",
            "              precision    recall  f1-score   support\n",
            "\n",
            "           0       0.84      0.82      0.83       467\n",
            "           1       0.80      0.81      0.81       400\n",
            "\n",
            "    accuracy                           0.82       867\n",
            "   macro avg       0.82      0.82      0.82       867\n",
            "weighted avg       0.82      0.82      0.82       867\n",
            "\n"
          ]
        }
      ]
    },
    {
      "cell_type": "markdown",
      "metadata": {
        "id": "a4mpRpocePLN"
      },
      "source": [
        "# 4 - Evaluation\n"
      ]
    },
    {
      "cell_type": "markdown",
      "metadata": {
        "id": "lbLBzHObsvvM"
      },
      "source": [
        "## 4.1. Word Embedding Evaluation\n",
        "You are to apply Semantic-Syntactic word relationship tests for the trained word embeddings and visualise the result of Semantic-Syntactic word relationship tests.\n",
        "Note that it will not be marked if you do not display it in the ipynb file.\n"
      ]
    },
    {
      "cell_type": "markdown",
      "source": [
        "when dimension = 100 and window size = 3, accuracy is highest in terms of semantic and syntactic aspects, which are 8% and 17.5%."
      ],
      "metadata": {
        "id": "U9yMdOyKewiS"
      }
    },
    {
      "cell_type": "code",
      "execution_count": null,
      "metadata": {
        "colab": {
          "base_uri": "https://localhost:8080/"
        },
        "id": "3ai0TMqAm-NL",
        "outputId": "bda1fdd1-9731-4785-8a0e-7007fc0a4cc1"
      },
      "outputs": [
        {
          "output_type": "stream",
          "name": "stdout",
          "text": [
            "Cloning into 'GloVe'...\n",
            "remote: Enumerating objects: 606, done.\u001b[K\n",
            "remote: Counting objects: 100% (14/14), done.\u001b[K\n",
            "remote: Compressing objects: 100% (12/12), done.\u001b[K\n",
            "remote: Total 606 (delta 5), reused 7 (delta 2), pack-reused 592\u001b[K\n",
            "Receiving objects: 100% (606/606), 224.91 KiB | 1.43 MiB/s, done.\n",
            "Resolving deltas: 100% (343/343), done.\n"
          ]
        }
      ],
      "source": [
        "# 4.1 Evaluate different window sizes and dimensions\n",
        "## In 4.1, the result shows the sg_model_3 performs the best, so we use size = 100 and wiondow =5\n",
        "\n",
        "# Pre-processing section\n",
        "# remove_URL_punc_stop_training = remove_stopwords(remove_punctuation(remove_URL(training_posts)))\n",
        "# remove_URL_punc_stop_testing = remove_stopwords(remove_punctuation(remove_URL(testing_posts)))\n",
        "\n",
        "# all_clean_training = lemmatization(remove_URL_punc_stop_training)\n",
        "# all_clean_testing = lemmatization(remove_URL_punc_stop_testing)\n",
        "# all_clean_data = all_clean_training + all_clean_testing\n",
        "\n",
        "\n",
        "# sg_model_1 = Word2Vec(sentences = data, size=50, window=3, min_count=1, sg=1)\n",
        "# sg_model_2 = Word2Vec(sentences = data, size=50, window=5, min_count=1, sg=1)\n",
        "sg_model_3 = Word2Vec(sentences = data, size=100, window=3, min_count=1, sg=1)\n",
        "# sg_model_4 = Word2Vec(sentences = data, size=100, window=5, min_count=1, sg=1)\n",
        "# sg_model_5 = Word2Vec(sentences = data, size=150, window=3, min_count=1, sg=1)\n",
        "# sg_model_6 = Word2Vec(sentences = data, size=150, window=5, min_count=1, sg=1)\n",
        "\n",
        "# sg_model_1.wv.save_word2vec_format('sg_model_1.txt', binary=False)\n",
        "# sg_model_2.wv.save_word2vec_format('sg_model_2.txt', binary=False)\n",
        "sg_model_3.wv.save_word2vec_format('sg_model_3.txt', binary=False)\n",
        "# sg_model_4.wv.save_word2vec_format('sg_model_4.txt', binary=False)\n",
        "# sg_model_5.wv.save_word2vec_format('sg_model_5.txt', binary=False)\n",
        "# sg_model_6.wv.save_word2vec_format('sg_model_6.txt', binary=False)\n",
        "\n",
        "\n",
        "\n",
        "\n",
        "!git clone https://github.com/stanfordnlp/GloVe.git\n",
        "\n",
        "def normalize(file):\n",
        "    with open(file, 'r') as f:                                                        \n",
        "      vectors = {}\n",
        "      for line in f.readlines()[1:]: \n",
        "        vals = line.rstrip().split(' ')\n",
        "        vectors[vals[0]] = [float(x) for x in vals[1:]]\n",
        "\n",
        "    vocab_words=list(vectors.keys())\n",
        "    vocab_size = len(vocab_words)\n",
        "\n",
        "    # create word->index and index->word converter\n",
        "    vocab = {w: idx for idx, w in enumerate(vocab_words)}\n",
        "    ivocab = {idx: w for idx, w in enumerate(vocab_words)}\n",
        "\n",
        "    # create the embedding matrix of shape (vocab_size, dim)\n",
        "    vector_dim = len(vectors[ivocab[0]])\n",
        "    W = np.zeros((vocab_size, vector_dim))\n",
        "    for word, v in vectors.items():\n",
        "        if word == '<unk>':\n",
        "            continue\n",
        "        W[vocab[word], :] = v\n",
        "\n",
        "\n",
        "    # normalize each word vector to unit length\n",
        "    # Vectors are usually normalized to unit length before they are used for similarity calculation, making cosine similarity and dot-product equivalent.\n",
        "    W_norm = np.zeros(W.shape)\n",
        "    d = (np.sum(W ** 2, 1) ** (0.5))\n",
        "    W_norm = (W.T / d).T\n",
        "    return (vocab, W_norm)\n",
        "\n",
        "\n",
        "\n",
        "\n",
        "\n",
        "def evaluate_vectors(W, vocab, prefix='./eval/question-data/'):\n",
        "\n",
        "    filenames = [\n",
        "        'capital-common-countries.txt', 'capital-world.txt', 'currency.txt',\n",
        "        'city-in-state.txt', 'family.txt', 'gram1-adjective-to-adverb.txt',\n",
        "        'gram2-opposite.txt', 'gram3-comparative.txt', 'gram4-superlative.txt',\n",
        "        'gram5-present-participle.txt', 'gram6-nationality-adjective.txt',\n",
        "        'gram7-past-tense.txt', 'gram8-plural.txt', 'gram9-plural-verbs.txt',\n",
        "        ]\n",
        "\n",
        "    # to avoid memory overflow, could be increased/decreased\n",
        "    # depending on system and vocab size\n",
        "    split_size = 100\n",
        "\n",
        "    correct_sem = 0; # count correct semantic questions\n",
        "    correct_syn = 0; # count correct syntactic questions\n",
        "    correct_tot = 0 # count correct questions\n",
        "    count_sem = 0; # count all semantic questions\n",
        "    count_syn = 0; # count all syntactic questions\n",
        "    count_tot = 0 # count all questions\n",
        "    full_count = 0 # count all questions, including those with unknown words\n",
        "\n",
        "    for i in range(len(filenames)):\n",
        "        with open('%s/%s' % (prefix, filenames[i]), 'r') as f:\n",
        "            full_data = [line.rstrip().split(' ') for line in f]\n",
        "            full_count += len(full_data)\n",
        "            data = [x for x in full_data if all(word in vocab for word in x)]\n",
        "\n",
        "        if len(data) == 0:\n",
        "            print(\"ERROR: no lines of vocab kept for %s !\" % filenames[i])\n",
        "            print(\"Example missing line:\", full_data[0])\n",
        "            continue\n",
        "\n",
        "        indices = np.array([[vocab[word] for word in row] for row in data])\n",
        "        ind1, ind2, ind3, ind4 = indices.T\n",
        "\n",
        "        predictions = np.zeros((len(indices),))\n",
        "        num_iter = int(np.ceil(len(indices) / float(split_size)))\n",
        "        for j in range(num_iter):\n",
        "            subset = np.arange(j*split_size, min((j + 1)*split_size, len(ind1)))\n",
        "\n",
        "            pred_vec = (W[ind2[subset], :] - W[ind1[subset], :]\n",
        "                +  W[ind3[subset], :])\n",
        "\n",
        "            #cosine similarity if input W has been normalized\n",
        "            dist = np.dot(W, pred_vec.T)\n",
        "\n",
        "\n",
        "            for k in range(len(subset)):\n",
        "                dist[ind1[subset[k]], k] = -np.Inf\n",
        "                dist[ind2[subset[k]], k] = -np.Inf\n",
        "                dist[ind3[subset[k]], k] = -np.Inf\n",
        "\n",
        "            # predicted word index\n",
        "            predictions[subset] = np.argmax(dist, 0).flatten()\n",
        "\n",
        "        \n",
        "        val = (ind4 == predictions) # correct predictions\n",
        "        count_tot = count_tot + len(ind1)\n",
        "        correct_tot = correct_tot + sum(val)\n",
        "        if i < 5:\n",
        "            count_sem = count_sem + len(ind1)\n",
        "            correct_sem = correct_sem + sum(val)\n",
        "        else:\n",
        "            count_syn = count_syn + len(ind1)\n",
        "            correct_syn = correct_syn + sum(val)\n",
        "        \n",
        "    return correct_sem, correct_syn, correct_tot, count_sem, count_syn, count_tot, full_count"
      ]
    },
    {
      "cell_type": "code",
      "execution_count": null,
      "metadata": {
        "id": "_y3TVaI8qkXI",
        "colab": {
          "base_uri": "https://localhost:8080/",
          "height": 1000
        },
        "outputId": "b4a9fded-7055-4886-e573-a3dfefc710d3"
      },
      "outputs": [
        {
          "output_type": "stream",
          "name": "stdout",
          "text": [
            "ERROR: no lines of vocab kept for gram8-plural.txt !\n",
            "Example missing line: ['banana', 'bananas', 'bird', 'birds']\n",
            "4.1. Evaluation for different word embeddings\n",
            "+-----------+-----------+-------------+-------------------+-------------------+----------------+\n",
            "|   Model   | Dimension | Window Size | Semantic accuracy | Sytactic accuracy | Total accuracy |\n",
            "+-----------+-----------+-------------+-------------------+-------------------+----------------+\n",
            "| Skip-Gram |     50    |      3      |       6.24%       |       14.5%       |     12.4%      |\n",
            "| Skip-Gram |     50    |      5      |       6.53%       |       13.94%      |     12.07%     |\n",
            "| Skip-Gram |    100    |      3      |        8.0%       |       17.85%      |     15.36%     |\n",
            "| Skip-Gram |    100    |      5      |       7.21%       |       15.77%      |     13.61%     |\n",
            "| Skip-Gram |    150    |      3      |        7.0%       |       17.2%       |     14.63%     |\n",
            "| Skip-Gram |    150    |      5      |       7.75%       |       15.09%      |     13.24%     |\n",
            "+-----------+-----------+-------------+-------------------+-------------------+----------------+\n"
          ]
        },
        {
          "output_type": "display_data",
          "data": {
            "text/plain": [
              "<Figure size 432x288 with 1 Axes>"
            ],
            "image/png": "[encoded data removed]"
          },
          "metadata": {
            "needs_background": "light"
          }
        },
        {
          "output_type": "stream",
          "name": "stdout",
          "text": [
            "\n"
          ]
        },
        {
          "output_type": "display_data",
          "data": {
            "text/plain": [
              "<Figure size 432x288 with 1 Axes>"
            ],
            "image/png": "[encoded data removed]"
          },
          "metadata": {
            "needs_background": "light"
          }
        },
        {
          "output_type": "stream",
          "name": "stdout",
          "text": [
            "\n"
          ]
        },
        {
          "output_type": "display_data",
          "data": {
            "text/plain": [
              "<Figure size 432x288 with 1 Axes>"
            ],
            "image/png": "[encoded data removed]"
          },
          "metadata": {
            "needs_background": "light"
          }
        },
        {
          "output_type": "stream",
          "name": "stdout",
          "text": [
            "\n"
          ]
        },
        {
          "output_type": "display_data",
          "data": {
            "text/plain": [
              "<Figure size 432x288 with 1 Axes>"
            ],
            "image/png": "[encoded data removed]"
          },
          "metadata": {
            "needs_background": "light"
          }
        }
      ],
      "source": [
        "# file1=\"/content/sg_model_1.txt\"\n",
        "# file2=\"/content/sg_model_2.txt\"\n",
        "file3=\"/content/sg_model_3.txt\"\n",
        "# file4=\"/content/sg_model_4.txt\"\n",
        "# file5=\"/content/sg_model_5.txt\"\n",
        "# file6=\"/content/sg_model_6.txt\"\n",
        "\n",
        "# vocab1, W_norm1 = normalize(file1)\n",
        "# vocab2, W_norm2 = normalize(file2)\n",
        "vocab3, W_norm3 = normalize(file3)\n",
        "# vocab4, W_norm4 = normalize(file4)\n",
        "# vocab5, W_norm5 = normalize(file5)\n",
        "# vocab6, W_norm6 = normalize(file6)\n",
        "\n",
        "# correct_sem1, correct_syn1, correct_tot1, count_sem1, count_syn1, count_tot1, full_count1 = evaluate_vectors(W_norm1, vocab1, prefix='/content/GloVe/eval/question-data')\n",
        "# semantic_acc1 = correct_sem1 / float(count_sem1)\n",
        "# sytactic_acc1 = correct_syn1 / float(count_syn1)\n",
        "# total_acc1 = correct_tot1 / float(count_tot1)\n",
        "\n",
        "# correct_sem2, correct_syn2, correct_tot2, count_sem2, count_syn2, count_tot2, full_count2 = evaluate_vectors(W_norm2, vocab2, prefix='/content/GloVe/eval/question-data')\n",
        "# semantic_acc2 = correct_sem2 / float(count_sem2)\n",
        "# sytactic_acc2 = correct_syn2 / float(count_syn2)\n",
        "# total_acc2 = correct_tot2 / float(count_tot2)\n",
        "\n",
        "correct_sem3, correct_syn3, correct_tot3, count_sem3, count_syn3, count_tot3, full_count3 = evaluate_vectors(W_norm3, vocab3, prefix='/content/GloVe/eval/question-data')\n",
        "semantic_acc3 = correct_sem3 / float(count_sem3)\n",
        "sytactic_acc3 = correct_syn3 / float(count_syn3)\n",
        "total_acc3 = correct_tot3 / float(count_tot3)\n",
        "\n",
        "# correct_sem4, correct_syn4, correct_tot4, count_sem4, count_syn4, count_tot4, full_count4 = evaluate_vectors(W_norm4, vocab4, prefix='/content/GloVe/eval/question-data')\n",
        "# semantic_acc4 = correct_sem4 / float(count_sem4)\n",
        "# sytactic_acc4 = correct_syn4 / float(count_syn4)\n",
        "# total_acc4 = correct_tot4 / float(count_tot4)\n",
        "\n",
        "# correct_sem5, correct_syn5, correct_tot5, count_sem5, count_syn5, count_tot5, full_count5 = evaluate_vectors(W_norm5, vocab5, prefix='/content/GloVe/eval/question-data')\n",
        "# semantic_acc5 = correct_sem5 / float(count_sem5)\n",
        "# sytactic_acc5 = correct_syn5 / float(count_syn5)\n",
        "# total_acc5 = correct_tot5 / float(count_tot5)\n",
        "\n",
        "# correct_sem6, correct_syn6, correct_tot6, count_sem6, count_syn6, count_tot6, full_count6 = evaluate_vectors(W_norm6, vocab6, prefix='/content/GloVe/eval/question-data')\n",
        "# semantic_acc6 = correct_sem6 / float(count_sem6)\n",
        "# sytactic_acc6 = correct_syn6 / float(count_syn6)\n",
        "# total_acc6 = correct_tot6 / float(count_tot6)\n",
        "\n",
        "\n",
        "from prettytable import PrettyTable\n",
        "from matplotlib import pyplot as plt\n",
        "# Table\n",
        "x = PrettyTable()\n",
        "x.field_names = [\"Model\", \"Dimension\", \"Window Size\", \"Semantic accuracy\", \"Sytactic accuracy\", \"Total accuracy\"]\n",
        "\n",
        "#spaCy does not provide the fake ROOT token so add a row for the fake Root\n",
        "x.add_row([\"Skip-Gram\", 50, 3, str(6.24)+'%', str(14.5)+'%', str(12.4)+'%'])\n",
        "x.add_row([\"Skip-Gram\", 50, 5, str(6.53)+'%', str(13.94)+'%',str(12.07)+'%'])\n",
        "x.add_row([\"Skip-Gram\", 100, 3, str(8.00)+'%', str(17.85)+'%', str(15.36)+'%'])\n",
        "x.add_row([\"Skip-Gram\", 100, 5, str(7.21)+'%', str(15.77)+'%', str(13.61)+'%'])\n",
        "x.add_row([\"Skip-Gram\", 150, 3, str(7.00)+'%', str(17.20)+'%', str(14.63)+'%'])\n",
        "x.add_row([\"Skip-Gram\", 150, 5, str(7.75)+'%', str(15.09)+'%', str(13.24)+'%'])\n",
        "\n",
        "    \n",
        "print(\"4.1. Evaluation for different word embeddings\")\n",
        "print(x)\n",
        "\n",
        "# Graph\n",
        "plt.plot([50, 100, 150],[6.24 ,8.00, 7.00], '--bo',label='Semantic')\n",
        "plt.plot([50, 100, 150],[14.5, 17.85, 17.20],'--go',label='Syntactic')\n",
        "plt.plot([50, 100, 150],[12.4,15.36,14.63],'--ro',label='Overall')\n",
        "plt.legend(loc=(1.04,0))\n",
        "plt.xticks([50,100,150])\n",
        "plt.title('Vector Dimension Accuracy (window size = 3)')\n",
        "plt.xlabel('Vector Dimension')\n",
        "plt.ylabel('Accuracy[%]')\n",
        "plt.show()\n",
        "print()\n",
        "plt.plot([50, 100, 150],[6.53,7.21,7.75], '--bo',label='Semantic')\n",
        "plt.plot([50, 100, 150],[13.94, 15.77,15.09],'--go',label='Syntactic')\n",
        "plt.plot([50, 100, 150],[12.07,13.61,13.24],'--ro',label='Overall')\n",
        "plt.legend(loc=(1.04,0))\n",
        "plt.xticks([50,100,150])\n",
        "plt.title('Vector Dimension Accuracy (window size = 5)')\n",
        "plt.xlabel('Vector Dimension')\n",
        "plt.ylabel('Accuracy[%]')\n",
        "plt.show()\n",
        "print()\n",
        "plt.plot([3,5],[8.0,7.21], '--bo',label='Semantic')\n",
        "plt.plot([3,5],[17.85, 15.77],'--go',label='Syntactic')\n",
        "plt.plot([3,5],[15.36,13.61],'--ro',label='Overall')\n",
        "plt.legend(loc=(1.04,0))\n",
        "plt.xticks([3,5])\n",
        "plt.title('Window size Accuracy (dimension = 100)')\n",
        "plt.xlabel('Window Size')\n",
        "plt.ylabel('Accuracy[%]')\n",
        "plt.show()\n",
        "print()\n",
        "plt.plot([3,5],[6.24,6.53], '--bo',label='Semantic')\n",
        "plt.plot([3,5],[14.5, 13.94],'--go',label='Syntactic')\n",
        "plt.plot([3,5],[12.4,12.07],'--ro',label='Overall')\n",
        "plt.legend(loc=(1.04,0))\n",
        "plt.xticks([3,5])\n",
        "plt.title('Window size Accuracy (dimension = 50)')\n",
        "plt.xlabel('Window Size')\n",
        "plt.ylabel('Accuracy[%]')\n",
        "plt.show()"
      ]
    },
    {
      "cell_type": "markdown",
      "source": [
        "* As shown in the table and graph, when dimension = 100 and window size = 3,  accuracy is highest in terms of semantic and syntactic aspects, which are 8% and 17.5%. The reasons why this result is as follows.\n",
        " 1. For window size, the result is that 3 is better than 5, and mainly because \n",
        "the smaller the window size, the higher the probability of finding synonyms for this dataset.\n",
        " 2. For the dimension, the result of 100 outperformed other dimension numbers, since 50 is too small to represent all information of sentences. 150 maybe capture some information that is not common or generic. So when dimension equals 100, the accuracy is highest.\n",
        " 3. So, the best parameter is that window_size = 3 and dimension = 100."
      ],
      "metadata": {
        "id": "zsUj_L0mCNdp"
      }
    },
    {
      "cell_type": "markdown",
      "metadata": {
        "id": "KEW1zMgVMREr"
      },
      "source": [
        "## 4.2. Performance Evaluation with Data Processing Techiques\n",
        "\n",
        "\n",
        "You are required to evaluate with the testing dataset and provide the table with f1 of test set.\n",
        "Note that it will not be marked if you do not display it in the ipynb file.\n"
      ]
    },
    {
      "cell_type": "markdown",
      "source": [
        "The best pre-processing combination is that removing URL, punctuation, stopwords, and lemmatization(F1 score is 0.76)."
      ],
      "metadata": {
        "id": "0Lc-dhfro1SC"
      }
    },
    {
      "cell_type": "code",
      "execution_count": null,
      "metadata": {
        "id": "S8y85zAsAZFS"
      },
      "outputs": [],
      "source": [
        "# Pre-processing\n",
        "## Without URL and with URL\n",
        "### remove URL, punctuation and stopwords\n",
        "# remove_URL_punc_stop_training = remove_stopwords(remove_punctuation(remove_URL(training_posts)))\n",
        "# remove_URL_punc_stop_testing = remove_stopwords(remove_punctuation(remove_URL(testing_posts)))\n",
        "# remove_URL_punc_stop_data = remove_URL_punc_stop_training + remove_URL_punc_stop_testing \n",
        "# ### remove punctuation and stopwords without removing URL\n",
        "# remove_punc_stop_training = remove_stopwords(remove_punctuation(training_posts))\n",
        "# remove_punc_stop_testing = remove_stopwords(remove_punctuation(testing_posts))\n",
        "# remove_punc_stop_data = remove_punc_stop_training + remove_punc_stop_testing \n",
        "\n",
        "# ## Two pre-processing combination\n",
        "# ### remove URL, punctuation and stopwords\n",
        "# remove_URL_punc_stop_training = remove_stopwords(remove_punctuation(remove_URL(training_posts)))\n",
        "# remove_URL_punc_stop_testing = remove_stopwords(remove_punctuation(remove_URL(testing_posts)))\n",
        "# remove_URL_punc_stop_data = remove_URL_punc_stop_training + remove_URL_punc_stop_testing \n",
        "# ### remove URL, stopwords, punctuation and lemmatization\n",
        "# all_clean_training = lemmatization(remove_URL_punc_stop_training)\n",
        "# all_clean_testing = lemmatization(remove_URL_punc_stop_testing)\n",
        "# all_clean_data = all_clean_training + all_clean_testing\n",
        "\n",
        "\n",
        "# Word Embedding\n",
        "## word list and word index\n",
        "# word_list1 = wordlist(remove_URL_punc_stop_training, remove_URL_punc_stop_testing)\n",
        "# word_index1 = wordindex(word_list1)\n",
        "# vocab_size1 = len(word_list1)\n",
        "\n",
        "# word_list2 = wordlist(remove_punc_stop_training, remove_punc_stop_testing)\n",
        "# word_index2 = wordindex(word_list2)\n",
        "# vocab_size2 = len(word_list2)\n",
        "\n",
        "word_list3 = wordlist(clean_training, clean_testing)\n",
        "word_index3 = wordindex(word_list3)\n",
        "vocab_size3 = len(word_list3)\n",
        "\n",
        "## Encoded and add padding\n",
        "seq_length = 800\n",
        "# training_encoded1 = encode_and_add_padding(remove_URL_punc_stop_training, seq_length, word_index1)\n",
        "# testing_encoded1 = encode_and_add_padding(remove_URL_punc_stop_testing, seq_length, word_index1)\n",
        "\n",
        "# training_encoded2 = encode_and_add_padding(remove_punc_stop_training, seq_length, word_index2)\n",
        "# testing_encoded2 = encode_and_add_padding(remove_punc_stop_testing, seq_length, word_index2)\n",
        "\n",
        "training_encoded3 = encode_and_add_padding(clean_training, seq_length, word_index3)\n",
        "testing_encoded3 = encode_and_add_padding(clean_testing, seq_length, word_index3)\n",
        "\n",
        "## Embedding table\n",
        "# pre_emb_table1 = pretrained_emb_table(word_list1, pre_emb_model_twitter)\n",
        "# pre_emb_table2 = pretrained_emb_table(word_list2, pre_emb_model_twitter)\n",
        "pre_emb_table3 = pretrained_emb_table(word_list3, pre_emb_model_twitter)\n",
        "\n",
        "\n",
        "# Dataloader\n",
        "batch_size = 256\n",
        "# train_loader1 = Data_loader(training_encoded1)\n",
        "# train_loader2 = Data_loader(training_encoded2)\n",
        "train_loader3 = Data_loader(training_encoded3)"
      ]
    },
    {
      "cell_type": "code",
      "execution_count": null,
      "metadata": {
        "colab": {
          "base_uri": "https://localhost:8080/"
        },
        "id": "MnNCFAM3V5fp",
        "outputId": "eb373efd-fa40-4e3a-f102-6a2ba3f54bce"
      },
      "outputs": [
        {
          "output_type": "stream",
          "name": "stdout",
          "text": [
            "Epoch: 1, loss: 0.68520, train_acc: 0.55\n",
            "Epoch: 2, loss: 0.65794, train_acc: 0.60\n",
            "Epoch: 3, loss: 0.63626, train_acc: 0.64\n",
            "Epoch: 4, loss: 0.61366, train_acc: 0.66\n",
            "Epoch: 5, loss: 0.55786, train_acc: 0.72\n",
            "Epoch: 6, loss: 0.45271, train_acc: 0.79\n",
            "Epoch: 7, loss: 0.37704, train_acc: 0.84\n",
            "Epoch: 8, loss: 0.31449, train_acc: 0.87\n",
            "Epoch: 9, loss: 0.26637, train_acc: 0.89\n",
            "Epoch: 10, loss: 0.22264, train_acc: 0.91\n",
            "Finished Training\n",
            "\n",
            "Starting testing\n",
            "              precision    recall  f1-score   support\n",
            "\n",
            "           0       0.78      0.79      0.78       467\n",
            "           1       0.75      0.73      0.74       400\n",
            "\n",
            "    accuracy                           0.76       867\n",
            "   macro avg       0.76      0.76      0.76       867\n",
            "weighted avg       0.76      0.76      0.76       867\n",
            "\n"
          ]
        }
      ],
      "source": [
        "# Bi-LSTM with lemmatization\n",
        "model3, criterion3, optimizer3 = LSTM_define_model_loss_optimizer(vocab_size3, pre_emb_table3, 100)\n",
        "print(LSTM_train(model3, train_loader3, num_epochs, criterion3, optimizer3))\n",
        "print(LSTM_test(model3,testing_encoded3))"
      ]
    },
    {
      "cell_type": "code",
      "execution_count": null,
      "metadata": {
        "colab": {
          "base_uri": "https://localhost:8080/"
        },
        "id": "grxTKa47BIze",
        "outputId": "e6bc4996-2ba9-4f5a-8706-9351baf4c24a"
      },
      "outputs": [
        {
          "output_type": "stream",
          "name": "stdout",
          "text": [
            "4.2. Evaluation for different data pre-processing techniques\n",
            "+--------------------------------------------------------------------+----------+-------------+\n",
            "|                               Model                                | macro F1 | weighted F1 |\n",
            "+--------------------------------------------------------------------+----------+-------------+\n",
            "|                          Bi-LSTM with URL                          |   0.73   |     0.73    |\n",
            "|                        Bi-LSTM without URL                         |   0.76   |     0.76    |\n",
            "| Bi-LSTM with removing punctuation,stopwords(without lemmatization) |   0.75   |     0.75    |\n",
            "|  Bi-LSTM with removing punctuation, stopwords, and lemmatization   |   0.76   |     0.76    |\n",
            "+--------------------------------------------------------------------+----------+-------------+\n"
          ]
        }
      ],
      "source": [
        "from prettytable import PrettyTable\n",
        "\n",
        "x = PrettyTable()\n",
        "x.field_names = [\"Model\", \"macro F1\", \"weighted F1\"]\n",
        "\n",
        "x.add_row([\"Bi-LSTM with URL\", 0.73, 0.73])\n",
        "x.add_row([\"Bi-LSTM without URL\", 0.76, 0.76])\n",
        "x.add_row([\"Bi-LSTM with removing punctuation,stopwords(without lemmatization)\", 0.75, 0.75])\n",
        "x.add_row([\"Bi-LSTM with removing punctuation, stopwords, and lemmatization\", 0.76, 0.76])\n",
        "\n",
        "    \n",
        "print(\"4.2. Evaluation for different data pre-processing techniques\")\n",
        "print(x)"
      ]
    },
    {
      "cell_type": "markdown",
      "source": [
        "* The best pre-processing combination contains removing URL, punctuation, stopwords, and lemmatization(F1 score is 0.82).\n",
        "  1. As seen in table above, both macro and weighted F1 scores of Bi-LSTM without URL(0.76) are greater than Bi-LSTM with URL(0.73). F1 scores of Bi-LSTM with lemmatization are a little better than that of Bi-LSTM wihout lemmatization, although the difference between them is very very small. So the best combination for pre-processing is that the model without URL and with lemmatization, meaning the best model is removing URL, punctuation, stopwords, and lemmatization. \n",
        "  2. The reason is that URL has no any semantic meaning  and removing them maybe will help us to better train the model. Also, lemmatization means converting each word into its base from considering its context, for example,  corpora-->corpus and better-->good. It greatly reduces our vocabulary, meaning we don't need large space for storage, and it avoids losing as much information as possibleso, so it is helpful  to find words in a dictionary. Stopwords were used because the amount of information carried by these words is extremely limited. Punctuation is also meaningless in a sentence.\n",
        "  3. So I used removing URL, punctuation, stopwords, and lemmatization these techiniques in the section 1."
      ],
      "metadata": {
        "id": "IsJ4y5yKAgwi"
      }
    },
    {
      "cell_type": "markdown",
      "metadata": {
        "id": "-gwVpllNoOiY"
      },
      "source": [
        "## 4.3. Performance Evaluation with Different Input\n",
        "\n",
        "\n",
        "You are required to evaluate with the testing dataset and provide the table with f1 of test set.\n",
        "Note that it will not be marked if you do not display it in the ipynb file.\n"
      ]
    },
    {
      "cell_type": "markdown",
      "source": [
        "The best input is the concatenation of Skip-gram and glove-twitter-100(F1 score is 0.82)."
      ],
      "metadata": {
        "id": "uKpyigSzswu9"
      }
    },
    {
      "cell_type": "code",
      "execution_count": null,
      "metadata": {
        "id": "cZZy3Ha5HGb2"
      },
      "outputs": [],
      "source": [
        "# two word vectors training models.\n",
        "# cb_model1 = Word2Vec(sentences = data, size = 100, window = 3, min_count= 1, workers=2, sg=0)\n",
        "# sg_model1= Word2Vec(sentences = data, size = 100, window = 3, min_count= 1, workers=2, sg=1)\n",
        "# train_emb_table1 = trained_emb_table(word_list, cb_model1)\n",
        "# train_emb_table2 = trained_emb_table(word_list, sg_model1)\n",
        "\n",
        "# two pretrained embeddings (from gensim)\n",
        "# pre_emb_model_wiki = api.load('glove-wiki-gigaword-100')\n",
        "# emb_dim_wiki = pre_emb_model_wiki.vector_size\n",
        "# pre_emb_model_twitter = api.load('glove-twitter-100')\n",
        "# emb_dim_twitter = pre_emb_model_twitter.vector_size\n",
        "\n",
        "# pre_emb_table1 = pretrained_emb_table(word_list, pre_emb_model_wiki)\n",
        "# pre_emb_table2 = pretrained_emb_table(word_list, pre_emb_model_twitter)\n",
        "\n",
        "# four input concatenation\n",
        "con_emb_tabel1 = concatenation(word_list, pre_emb_model_twitter, sg_model)\n",
        "# con_emb_tabel3 = concatenation(word_list, pre_emb_model_wiki , sg_model1) \n"
      ]
    },
    {
      "cell_type": "code",
      "execution_count": null,
      "metadata": {
        "colab": {
          "base_uri": "https://localhost:8080/"
        },
        "id": "9tb5PEmFdVbc",
        "outputId": "7b0fc954-f4f4-46d4-b151-61b20877c1d5"
      },
      "outputs": [
        {
          "output_type": "stream",
          "name": "stdout",
          "text": [
            "Epoch: 1, loss: 0.68061, train_acc: 0.56\n",
            "Epoch: 2, loss: 0.67329, train_acc: 0.58\n",
            "Epoch: 3, loss: 0.64456, train_acc: 0.62\n",
            "Epoch: 4, loss: 0.64785, train_acc: 0.62\n",
            "Epoch: 5, loss: 0.55501, train_acc: 0.70\n",
            "Epoch: 6, loss: 0.48850, train_acc: 0.76\n",
            "Epoch: 7, loss: 0.36481, train_acc: 0.84\n",
            "Epoch: 8, loss: 0.31533, train_acc: 0.87\n",
            "Epoch: 9, loss: 0.27279, train_acc: 0.89\n",
            "Epoch: 10, loss: 0.24157, train_acc: 0.90\n",
            "Finished Training\n",
            "\n",
            "Starting testing\n",
            "              precision    recall  f1-score   support\n",
            "\n",
            "           0       0.83      0.84      0.84       467\n",
            "           1       0.81      0.80      0.81       400\n",
            "\n",
            "    accuracy                           0.82       867\n",
            "   macro avg       0.82      0.82      0.82       867\n",
            "weighted avg       0.82      0.82      0.82       867\n",
            "\n"
          ]
        }
      ],
      "source": [
        "# Bi-LSTM with word2vec-SG + glove-twitter-100\n",
        "model, criterion, optimizer = LSTM_define_model_loss_optimizer(vocab_size, con_emb_tabel1, 200)\n",
        "print(LSTM_train(model, train_loader, num_epochs, criterion, optimizer))\n",
        "print(LSTM_test(model,testing_encoded))"
      ]
    },
    {
      "cell_type": "code",
      "execution_count": null,
      "metadata": {
        "id": "IEVMdGmbTp4W",
        "colab": {
          "base_uri": "https://localhost:8080/"
        },
        "outputId": "9d0998d7-b496-44ca-efba-ce0191734a54"
      },
      "outputs": [
        {
          "output_type": "stream",
          "name": "stdout",
          "text": [
            "4.3. Evaluation for different input(embedding)\n",
            "+----------------------------------------------------+----------+-------------+\n",
            "|                       Model                        | macro F1 | weighted F1 |\n",
            "+----------------------------------------------------+----------+-------------+\n",
            "|            Bi-LSTM with Word2vec (CBOW)            |   0.61   |     0.62    |\n",
            "|             Bi-LSTM with Word2vec (SG)             |   0.82   |     0.82    |\n",
            "|        Bi-LSTM with glove-wiki-gigaword-100        |   0.63   |     0.64    |\n",
            "|           Bi-LSTM with glove-twitter-100           |   0.7    |     0.7     |\n",
            "| Bi-LSTM with word2vec-SG + glove-wiki-gigaword-100 |   0.81   |     0.81    |\n",
            "|    Bi-LSTM with word2vec-SG + glove-twitter-100    |   0.82   |     0.82    |\n",
            "+----------------------------------------------------+----------+-------------+\n"
          ]
        }
      ],
      "source": [
        "from prettytable import PrettyTable\n",
        "\n",
        "embedding_table = PrettyTable()\n",
        "embedding_table.field_names = [\"Model\", \"macro F1\", \"weighted F1\"]\n",
        "\n",
        "#spaCy does not provide the fake ROOT token so add a row for the fake Root\n",
        "embedding_table.add_row([\"Bi-LSTM with Word2vec (CBOW)\", 0.61, 0.62])\n",
        "embedding_table.add_row([\"Bi-LSTM with Word2vec (SG)\", 0.82, 0.82])\n",
        "embedding_table.add_row([\"Bi-LSTM with glove-wiki-gigaword-100\", 0.63, 0.64])\n",
        "embedding_table.add_row([\"Bi-LSTM with glove-twitter-100\", 0.70, 0.70])\n",
        "embedding_table.add_row([\"Bi-LSTM with word2vec-SG + glove-wiki-gigaword-100\", 0.81, 0.81])\n",
        "embedding_table.add_row([\"Bi-LSTM with word2vec-SG + glove-twitter-100\", 0.82, 0.82])\n",
        "\n",
        "print(\"4.3. Evaluation for different input(embedding)\")\n",
        "print(embedding_table)"
      ]
    },
    {
      "cell_type": "markdown",
      "source": [
        "* The best input is the concatenation of Skip-gram and glove-twitter-100(F1 score is 0.82)\n",
        "  1. As shown in table above, for the word vectors training models, SG model(61%) performs better than CBOW(82%), the reason for this trend is that Skip-gram relies on a single word input and it is less sensitive to overfitting of frequent words because even though frequent words occur more often than rare words during training, they still occur individually, whereas CBOW is prone to overfitting frequent words because they occur multiple times in the same context. This advantage of overfitting to frequent words makes Skip-gram peforms better than CBOW.\n",
        "  2. For the pretrained model, I compared glove-wiki-gigaword-100 and glove-twitter-100. The result shows that the latter one(0.7) is better than the former(0.63). I guess the reason is that Wikipedia and Twitter are two different web platforms. The corpora of Twitter maybe more suitable for this dataset.\n",
        "  3. For the concatenation model, the F1 score of them is almost the same, at 0.81 and 0.82 respectively, since the training model of both concatenation is Skip-Gram, maybe its role is more important compared to the pretrained model.\n",
        "  * The training model SG and the concatenation model(SG+glove-twitter-100 ) performed equally well, both at 0.82. So I just choose the concatnation model as the best embedding(input) from the two different embeddings."
      ],
      "metadata": {
        "id": "ONcvt2Tm54ok"
      }
    },
    {
      "cell_type": "markdown",
      "metadata": {
        "id": "vg08uf3hpyoF"
      },
      "source": [
        "## 4.4. Performance Evaluation with Different Sequence Models\n",
        "\n",
        "\n",
        "You are required to evaluate with the testing dataset and provide the table with f1 of test set.\n",
        "Note that it will not be marked if you do not display it in the ipynb file.\n"
      ]
    },
    {
      "cell_type": "markdown",
      "metadata": {
        "id": "1e_nVbdrpyoK"
      },
      "source": [
        "The best sequence model is Bi-LSTM, which get the F1 score of 0.8."
      ]
    },
    {
      "cell_type": "code",
      "execution_count": null,
      "metadata": {
        "colab": {
          "base_uri": "https://localhost:8080/"
        },
        "id": "WmbjL4yGpyoK",
        "outputId": "179a21aa-0cea-4657-b0db-adf9bb28afc7"
      },
      "outputs": [
        {
          "output_type": "stream",
          "name": "stdout",
          "text": [
            "Epoch: 1, loss: 0.69850, train_acc: 0.53\n",
            "Epoch: 2, loss: 0.67780, train_acc: 0.57\n",
            "Epoch: 3, loss: 0.67454, train_acc: 0.58\n",
            "Epoch: 4, loss: 0.65932, train_acc: 0.60\n",
            "Epoch: 5, loss: 0.63945, train_acc: 0.63\n",
            "Epoch: 6, loss: 0.62151, train_acc: 0.65\n",
            "Epoch: 7, loss: 0.60012, train_acc: 0.68\n",
            "Epoch: 8, loss: 0.58695, train_acc: 0.68\n",
            "Epoch: 9, loss: 0.56279, train_acc: 0.71\n",
            "Epoch: 10, loss: 0.54300, train_acc: 0.72\n",
            "Finished Training\n",
            "              precision    recall  f1-score   support\n",
            "\n",
            "           0       0.57      0.58      0.58       467\n",
            "           1       0.50      0.49      0.49       400\n",
            "\n",
            "    accuracy                           0.54       867\n",
            "   macro avg       0.54      0.54      0.54       867\n",
            "weighted avg       0.54      0.54      0.54       867\n",
            "\n"
          ]
        }
      ],
      "source": [
        "|# RNN\n",
        "RNN_model, RNN_criterion, RNN_optimizer = RNN_define_model_loss_optimizer(vocab_size, emb_table, 200)\n",
        "print(RNN_train(RNN_model, train_loader, num_epochs, RNN_criterion, RNN_optimizer,10))\n",
        "print(RNN_test(RNN_model,testing_encoded))"
      ]
    },
    {
      "cell_type": "code",
      "execution_count": null,
      "metadata": {
        "colab": {
          "background_save": true,
          "base_uri": "https://localhost:8080/",
          "height": 195
        },
        "id": "Fhil3Gq3WxnQ",
        "outputId": "030be99f-9761-4a69-825b-9f00e5095cc1"
      },
      "outputs": [
        {
          "name": "stdout",
          "output_type": "stream",
          "text": [
            "Epoch: 1, loss: 0.68775, train_acc: 0.54\n",
            "Epoch: 2, loss: 0.65545, train_acc: 0.61\n",
            "Epoch: 3, loss: 0.65687, train_acc: 0.61\n",
            "Epoch: 4, loss: 0.62514, train_acc: 0.66\n",
            "Epoch: 5, loss: 0.59163, train_acc: 0.69\n",
            "Epoch: 6, loss: 0.43678, train_acc: 0.81\n",
            "Epoch: 7, loss: 0.35729, train_acc: 0.85\n",
            "Epoch: 8, loss: 0.30031, train_acc: 0.88\n",
            "Epoch: 9, loss: 0.26121, train_acc: 0.90\n",
            "Epoch: 10, loss: 0.22974, train_acc: 0.91\n",
            "Finished Training\n",
            "\n",
            "Starting testing\n",
            "              precision    recall  f1-score   support\n",
            "\n",
            "           0       0.81      0.84      0.82       467\n",
            "           1       0.80      0.77      0.78       400\n",
            "\n",
            "    accuracy                           0.81       867\n",
            "   macro avg       0.80      0.80      0.80       867\n",
            "weighted avg       0.80      0.81      0.80       867\n",
            "\n"
          ]
        }
      ],
      "source": [
        "# LSTM\n",
        "LSTM_model, LSTM_criterion, LSTM_optimizer = LSTM_define_model_loss_optimizer(vocab_size, emb_table, 200)\n",
        "print(LSTM_train(LSTM_model, train_loader, num_epochs, LSTM_criterion, LSTM_optimizer))\n",
        "print(LSTM_test(LSTM_model,testing_encoded))"
      ]
    },
    {
      "cell_type": "code",
      "execution_count": null,
      "metadata": {
        "id": "d7WdySRfUVn3",
        "colab": {
          "base_uri": "https://localhost:8080/"
        },
        "outputId": "1a0be200-27dd-4606-92cc-aa252bb3bf08"
      },
      "outputs": [
        {
          "output_type": "stream",
          "name": "stdout",
          "text": [
            "4.4. Evaluation for different sequence models\n",
            "+---------+----------+-------------+\n",
            "|  Model  | macro F1 | weighted F1 |\n",
            "+---------+----------+-------------+\n",
            "|  Bi-RNN |   0.54   |     0.54    |\n",
            "| Bi-LSTM |   0.8    |     0.8     |\n",
            "+---------+----------+-------------+\n"
          ]
        }
      ],
      "source": [
        "from prettytable import PrettyTable\n",
        "\n",
        "embedding_table = PrettyTable()\n",
        "embedding_table.field_names = [\"Model\", \"macro F1\", \"weighted F1\"]\n",
        "\n",
        "#spaCy does not provide the fake ROOT token so add a row for the fake Root\n",
        "embedding_table.add_row([\"Bi-RNN\", 0.54, 0.54])\n",
        "embedding_table.add_row([\"Bi-LSTM\", 0.8, 0.8])\n",
        "\n",
        "print(\"4.4. Evaluation for different sequence models\")\n",
        "print(embedding_table)"
      ]
    },
    {
      "cell_type": "markdown",
      "source": [
        "* It can be seen from the table above that Bi-LSTM is the best model and the F1 score of Bi-LSTM(0.8) is much better than Bi-RNN(0.54). There are several reasons for this trend.\n",
        "  1. Bi-LSTM is an improved type of Bi-RNN. It contains a ‘memory cell’ that  lets them learn longer-term dependencies , which meaning Bi-LSTM can maintain information in memory for long periods of time, this cannot be finished by Bi-RNN due to vanishing and exploding gradients.\n",
        "  2. Bi-LSTM can address gradient vanishing and exploding by introducing new gates, such as input and forget gates, which allow for better control of the gradient flow and better preservation of 'long-term dependencies' as well as 'short-term dependencies'.\n",
        "  3. So the performance of Bi-LSTM is better than that of Bi-RNN.\n",
        "\n",
        "\n",
        "\n",
        "\n",
        "\n",
        "\n",
        "\n"
      ],
      "metadata": {
        "id": "dPuJSdqrGUVJ"
      }
    },
    {
      "cell_type": "markdown",
      "metadata": {
        "id": "P28Z1k36MZuo"
      },
      "source": [
        "## 4.5. HyperParameter Testing\n",
        "*You are required to draw a graph(y-axis: f1, x-axis: epoch) for test set and explain the optimal number of epochs based on the learning rate you have already chosen.* Note that it will not be marked if you do not display it in the ipynb file.\n"
      ]
    },
    {
      "cell_type": "markdown",
      "metadata": {
        "id": "jNTcvF7jfBel"
      },
      "source": [
        "Based on a learning rate of 0.01 and epoch of 10, the model earned the highest F1 score, at about 0.82."
      ]
    },
    {
      "cell_type": "code",
      "source": [
        "def LSTM_train_test(model, testing_encoded,optimizer,criterion, num_epochs):\n",
        "  epoch_ls = []\n",
        "  f1_ls = []\n",
        "  for epoch in range(num_epochs):  \n",
        "    # Set the flag to training\n",
        "      epoch_ls.append(epoch)\n",
        "      model.train()\n",
        "      train_loss = []\n",
        "      train_correct = 0\n",
        "      for data, label in train_loader:\n",
        "          data = data.to(device)\n",
        "          label = label.to(device)\n",
        "          # forward + backward + loss + optimize\n",
        "          optimizer.zero_grad()\n",
        "          outputs = model(data) \n",
        "          predicted = torch.argmax(outputs, -1)\n",
        "          loss = criterion(outputs, label) #128个样本的平均\n",
        "          loss.backward()\n",
        "          optimizer.step()\n",
        "       \n",
        "      model.eval()\n",
        "      input_torch = torch.from_numpy(np.array(testing_encoded)).to(device)\n",
        "      outputs = model(input_torch) \n",
        "      predicted = torch.argmax(outputs, -1)\n",
        "      f1 = f1_score(predicted.cpu().numpy(),label_test_encoded.cpu\n",
        "      ().numpy(),average = \"weighted\")\n",
        "      f1_ls.append(f1)\n",
        "  plt.figure(figsize=(20,8))\n",
        "  plt.plot(epoch_ls, f1_ls, color='green')  \n",
        "  plt.grid() \n",
        "  plt.xlabel('epochs')  \n",
        "  plt.ylabel('F1 score') \n",
        "  plt.xticks(epoch_ls) \n",
        "  plt.title(\"LSTM F1 score for different epochs based on lr=0.001 and batch_size=256\") \n",
        "  plt.show() \n",
        "\n",
        "\n",
        "# learning rate = 0.1\n",
        "model,criterion, optimizer =  LSTM_define_model_loss_optimizer(vocab_size, emb_table, 200)\n",
        "LSTM_train_test(model,testing_encoded,optimizer,criterion,30)"
      ],
      "metadata": {
        "colab": {
          "base_uri": "https://localhost:8080/",
          "height": 512
        },
        "id": "xBBzrCrA83vs",
        "outputId": "d3477e86-2f55-4223-e8ef-08f388a11839"
      },
      "execution_count": null,
      "outputs": [
        {
          "output_type": "display_data",
          "data": {
            "text/plain": [
              "<Figure size 720x576 with 1 Axes>"
            ],
            "image/png": "[encoded data removed]"
          },
          "metadata": {
            "needs_background": "light"
          }
        }
      ]
    },
    {
      "cell_type": "code",
      "source": [
        "## learning rate = 0.01\n",
        "# model,criterion, optimizer =  LSTM_define_model_loss_optimizer(vocab_size, emb_table, 200)\n",
        "# LSTM_train_test(model,testing_encoded,optimizer,criterion,100)"
      ],
      "metadata": {
        "id": "znqvkv89EFP8"
      },
      "execution_count": null,
      "outputs": []
    },
    {
      "cell_type": "markdown",
      "source": [
        "![微信图片_20220417185112.png](data:image/png;base64,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)"
      ],
      "metadata": {
        "id": "UwKGN8gwJiA2"
      }
    },
    {
      "cell_type": "markdown",
      "source": [
        "* Based on learning rate of 0.01 and epoch of 10, the model earned the highest F1 score,about 0.82.\n",
        "  1.  When the learning rate is 0.01, the model performs best at an epoch of 10, around 0.82, meanwhile, the F1 score almost remained almost constant when the epoch is more than 10, about 0.80. \n",
        "  2. For learning rate equal to 0.001，F1 score is highest(less than 0.8) when epoch is about 35. Also the performance(about 0.77) is almost unchanged when epoch is greater than 40.  \n",
        "  *  Therefore, the higher the learning rate, the smaller the number of iterations. when the learning rate is equal to 0.01, the training of models would spend less iteration to achieve the best compared to the learning rate of 0.001. Also, its best f1 score is greater than the best f1 score for a 0.001 learning rate. In this way, I choose epoch 10 as the best epoch because the F1 score got about 0.82 based on 0.01 learning rate."
      ],
      "metadata": {
        "id": "tD9K3F_p6MvG"
      }
    },
    {
      "cell_type": "markdown",
      "metadata": {
        "id": "dIfa2nm85H9I"
      },
      "source": [
        "#5 - Test your model via Colab Form Fields User Interface"
      ]
    },
    {
      "cell_type": "markdown",
      "metadata": {
        "id": "qrCqpwHD5RG1"
      },
      "source": [
        "You are required to design a user interface so that user can input a textual sentence via the colab form fields user interface to get the personality type classification result from your trained model. *You can just modify based on the following Colab Form Fields template*"
      ]
    },
    {
      "cell_type": "code",
      "execution_count": 34,
      "metadata": {
        "colab": {
          "base_uri": "https://localhost:8080/"
        },
        "id": "HO_aV5bz5-ry",
        "outputId": "5225a861-20ac-4f34-8457-22ee2e5982c0",
        "cellView": "form"
      },
      "outputs": [
        {
          "output_type": "stream",
          "name": "stdout",
          "text": [
            "[nltk_data] Downloading package punkt to /root/nltk_data...\n",
            "[nltk_data]   Package punkt is already up-to-date!\n",
            "[nltk_data] Downloading package stopwords to /root/nltk_data...\n",
            "[nltk_data]   Package stopwords is already up-to-date!\n",
            "[nltk_data] Downloading package wordnet to /root/nltk_data...\n",
            "[nltk_data]   Package wordnet is already up-to-date!\n",
            "------------------------------------\n",
            "I  do not care about anything\n",
            "\n",
            "Predicted Personality Type: F\n"
          ]
        }
      ],
      "source": [
        "#@title Personality Type Prediction\n",
        "\n",
        "## The code below will take about 20 seconds\n",
        "import warnings\n",
        "import torch\n",
        "import torch.nn as nn\n",
        "import numpy as np\n",
        "warnings.filterwarnings(\"ignore\")\n",
        "import re\n",
        "import nltk\n",
        "import pickle\n",
        "nltk.download('punkt')\n",
        "nltk.download('stopwords')\n",
        "nltk.download('wordnet')\n",
        "from nltk.corpus import stopwords\n",
        "from nltk.tokenize import word_tokenize\n",
        "from nltk.stem import WordNetLemmatizer\n",
        "\n",
        "\n",
        "\n",
        "!pip install -U -q PyDrive\n",
        "from pydrive.auth import GoogleAuth\n",
        "from pydrive.drive import GoogleDrive\n",
        "from google.colab import auth\n",
        "from oauth2client.client import GoogleCredentials\n",
        "auth.authenticate_user()\n",
        "gauth = GoogleAuth()\n",
        "gauth.credentials = GoogleCredentials.get_application_default()\n",
        "drive = GoogleDrive(gauth)\n",
        "\n",
        "\n",
        "\n",
        "id2 = '1qBBS_0dQo_797pd-jHTDH4Gq4dEYh-ue'\n",
        "downloaded = drive.CreateFile({'id':id2}) \n",
        "downloaded.GetContentFile('word_index.pkl') \n",
        "f = open('/content/word_index.pkl','rb')\n",
        "word_index = pickle.load(f)\n",
        "\n",
        "# #id = '1zMkRGqwQa0vJlw4ma_vBuDyqJ6N88CDr' # assignment1\n",
        "id1 = '1HCY7R4gIXIKfolZPhZEjuEoyUruBUsha'\n",
        "downloaded = drive.CreateFile({'id':id1}) \n",
        "downloaded.GetContentFile('best_model.pt') \n",
        "\n",
        "device = torch.device(\"cuda\" if torch.cuda.is_available() else \"cpu\")\n",
        "\n",
        "## Model structure\n",
        "class Bi_LSTM_Emb(nn.Module):\n",
        "    def __init__(self, vocab_size, emb_table, emb_size):\n",
        "        super(Bi_LSTM_Emb, self).__init__()\n",
        "        self.emb = nn.Embedding(vocab_size, emb_size)\n",
        "\n",
        "        self.emb.weight.data.copy_(torch.from_numpy(emb_table))\n",
        "        self.emb.weight.requires_grad = False\n",
        "\n",
        "        self.lstm = nn.LSTM(emb_size, n_hidden,batch_first =True, bidirectional=True)\n",
        "        self.linear = nn.Linear(n_hidden*2, n_class)\n",
        "\n",
        "    def forward(self, x):\n",
        "\n",
        "        x = self.emb(x)        \n",
        "        lstm_out, (h_n, c_n) = self.lstm(x)\n",
        "        hidden_out = torch.cat((h_n[0,:,:],h_n[1,:,:]),1)\n",
        "        z = self.linear(hidden_out)\n",
        "        return z\n",
        "\n",
        "print(\"------------------------------------\")\n",
        "text = \"I  do not care about anything\" #@param {type:\"string\"}\n",
        "print(text)\n",
        "print()\n",
        "\n",
        "# Text pre-processing\n",
        "clean_text1 =  re.sub(r'\\S*https?:\\S*', '', text)\n",
        "clean_text2 = re.sub(r'[^\\w\\s]','', clean_text1)\n",
        "\n",
        "tokens = word_tokenize(clean_text2)\n",
        "stop_words = stopwords.words('english')\n",
        "filtered_sentence = [w.lower() for w in tokens if not w in stop_words]\n",
        "\n",
        "lemmatizer = WordNetLemmatizer()\n",
        "clean_text = [lemmatizer.lemmatize(w) for w in filtered_sentence]\n",
        "\n",
        "# Text encoded\n",
        "seq_len = 800\n",
        "index_encoded_text = [word_index[word] if word in word_index else word_index['[UNKNOWN]'] for word in clean_text]\n",
        "if len(index_encoded_text) < seq_len:\n",
        "    index_encoded_text += [word_index['[PAD]']] * (seq_len - len(index_encoded_text))\n",
        "else:\n",
        "    index_encoded_text = index_encoded_text[:seq_len]\n",
        "\n",
        "# Load model\n",
        "model = torch.load('best_model.pt')\n",
        "\n",
        "# Test the model\n",
        "model.eval()\n",
        "input_torch = torch.from_numpy(np.array([index_encoded_text])).to(device)\n",
        "outputs = model(input_torch) \n",
        "predicted = torch.argmax(outputs, -1)\n",
        "if predicted == 1:\n",
        "  print('Predicted Personality Type: T')\n",
        "else:\n",
        "  print('Predicted Personality Type: F')\n"
      ]
    },
    {
      "cell_type": "markdown",
      "metadata": {
        "id": "sfv8rWTKPzeb"
      },
      "source": [
        "# Object Oriented Programming codes here"
      ]
    },
    {
      "cell_type": "markdown",
      "metadata": {
        "id": "TS23AjBRSZaX"
      },
      "source": [
        "*You can use multiple code snippets. Just add more if needed* "
      ]
    },
    {
      "cell_type": "code",
      "execution_count": null,
      "metadata": {
        "id": "1hVmx4E52dXS"
      },
      "outputs": [],
      "source": [
        "# If you used OOP style, use this section"
      ]
    }
  ],
  "metadata": {
    "accelerator": "GPU",
    "colab": {
      "collapsed_sections": [],
      "name": "zkua9391_COMP5046_Ass1_2022.ipynb",
      "provenance": [],
      "toc_visible": true
    },
    "kernelspec": {
      "display_name": "Python 3",
      "name": "python3"
    }
  },
  "nbformat": 4,
  "nbformat_minor": 0
}
